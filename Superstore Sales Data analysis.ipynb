{
 "cells": [
  {
   "cell_type": "code",
   "execution_count": 2,
   "id": "e81ca015",
   "metadata": {},
   "outputs": [],
   "source": [
    "import pandas as pd\n",
    "import numpy as np\n",
    "import matplotlib.pyplot as plt\n",
    "import seaborn as sns"
   ]
  },
  {
   "cell_type": "markdown",
   "id": "26b85aa3",
   "metadata": {},
   "source": [
    "# Understanding the Data"
   ]
  },
  {
   "cell_type": "code",
   "execution_count": 3,
   "id": "16db6a49",
   "metadata": {},
   "outputs": [
    {
     "data": {
      "text/html": [
       "<div>\n",
       "<style scoped>\n",
       "    .dataframe tbody tr th:only-of-type {\n",
       "        vertical-align: middle;\n",
       "    }\n",
       "\n",
       "    .dataframe tbody tr th {\n",
       "        vertical-align: top;\n",
       "    }\n",
       "\n",
       "    .dataframe thead th {\n",
       "        text-align: right;\n",
       "    }\n",
       "</style>\n",
       "<table border=\"1\" class=\"dataframe\">\n",
       "  <thead>\n",
       "    <tr style=\"text-align: right;\">\n",
       "      <th></th>\n",
       "      <th>Row ID</th>\n",
       "      <th>Order ID</th>\n",
       "      <th>Order Date</th>\n",
       "      <th>Ship Date</th>\n",
       "      <th>Ship Mode</th>\n",
       "      <th>Customer ID</th>\n",
       "      <th>Customer Name</th>\n",
       "      <th>Segment</th>\n",
       "      <th>Country</th>\n",
       "      <th>City</th>\n",
       "      <th>State</th>\n",
       "      <th>Postal Code</th>\n",
       "      <th>Region</th>\n",
       "      <th>Product ID</th>\n",
       "      <th>Category</th>\n",
       "      <th>Sub-Category</th>\n",
       "      <th>Product Name</th>\n",
       "      <th>Sales</th>\n",
       "    </tr>\n",
       "  </thead>\n",
       "  <tbody>\n",
       "    <tr>\n",
       "      <th>0</th>\n",
       "      <td>1</td>\n",
       "      <td>CA-2017-152156</td>\n",
       "      <td>08/11/2017</td>\n",
       "      <td>11/11/2017</td>\n",
       "      <td>Second Class</td>\n",
       "      <td>CG-12520</td>\n",
       "      <td>Claire Gute</td>\n",
       "      <td>Consumer</td>\n",
       "      <td>United States</td>\n",
       "      <td>Henderson</td>\n",
       "      <td>Kentucky</td>\n",
       "      <td>42420.0</td>\n",
       "      <td>South</td>\n",
       "      <td>FUR-BO-10001798</td>\n",
       "      <td>Furniture</td>\n",
       "      <td>Bookcases</td>\n",
       "      <td>Bush Somerset Collection Bookcase</td>\n",
       "      <td>261.9600</td>\n",
       "    </tr>\n",
       "    <tr>\n",
       "      <th>1</th>\n",
       "      <td>2</td>\n",
       "      <td>CA-2017-152156</td>\n",
       "      <td>08/11/2017</td>\n",
       "      <td>11/11/2017</td>\n",
       "      <td>Second Class</td>\n",
       "      <td>CG-12520</td>\n",
       "      <td>Claire Gute</td>\n",
       "      <td>Consumer</td>\n",
       "      <td>United States</td>\n",
       "      <td>Henderson</td>\n",
       "      <td>Kentucky</td>\n",
       "      <td>42420.0</td>\n",
       "      <td>South</td>\n",
       "      <td>FUR-CH-10000454</td>\n",
       "      <td>Furniture</td>\n",
       "      <td>Chairs</td>\n",
       "      <td>Hon Deluxe Fabric Upholstered Stacking Chairs,...</td>\n",
       "      <td>731.9400</td>\n",
       "    </tr>\n",
       "    <tr>\n",
       "      <th>2</th>\n",
       "      <td>3</td>\n",
       "      <td>CA-2017-138688</td>\n",
       "      <td>12/06/2017</td>\n",
       "      <td>16/06/2017</td>\n",
       "      <td>Second Class</td>\n",
       "      <td>DV-13045</td>\n",
       "      <td>Darrin Van Huff</td>\n",
       "      <td>Corporate</td>\n",
       "      <td>United States</td>\n",
       "      <td>Los Angeles</td>\n",
       "      <td>California</td>\n",
       "      <td>90036.0</td>\n",
       "      <td>West</td>\n",
       "      <td>OFF-LA-10000240</td>\n",
       "      <td>Office Supplies</td>\n",
       "      <td>Labels</td>\n",
       "      <td>Self-Adhesive Address Labels for Typewriters b...</td>\n",
       "      <td>14.6200</td>\n",
       "    </tr>\n",
       "    <tr>\n",
       "      <th>3</th>\n",
       "      <td>4</td>\n",
       "      <td>US-2016-108966</td>\n",
       "      <td>11/10/2016</td>\n",
       "      <td>18/10/2016</td>\n",
       "      <td>Standard Class</td>\n",
       "      <td>SO-20335</td>\n",
       "      <td>Sean O'Donnell</td>\n",
       "      <td>Consumer</td>\n",
       "      <td>United States</td>\n",
       "      <td>Fort Lauderdale</td>\n",
       "      <td>Florida</td>\n",
       "      <td>33311.0</td>\n",
       "      <td>South</td>\n",
       "      <td>FUR-TA-10000577</td>\n",
       "      <td>Furniture</td>\n",
       "      <td>Tables</td>\n",
       "      <td>Bretford CR4500 Series Slim Rectangular Table</td>\n",
       "      <td>957.5775</td>\n",
       "    </tr>\n",
       "    <tr>\n",
       "      <th>4</th>\n",
       "      <td>5</td>\n",
       "      <td>US-2016-108966</td>\n",
       "      <td>11/10/2016</td>\n",
       "      <td>18/10/2016</td>\n",
       "      <td>Standard Class</td>\n",
       "      <td>SO-20335</td>\n",
       "      <td>Sean O'Donnell</td>\n",
       "      <td>Consumer</td>\n",
       "      <td>United States</td>\n",
       "      <td>Fort Lauderdale</td>\n",
       "      <td>Florida</td>\n",
       "      <td>33311.0</td>\n",
       "      <td>South</td>\n",
       "      <td>OFF-ST-10000760</td>\n",
       "      <td>Office Supplies</td>\n",
       "      <td>Storage</td>\n",
       "      <td>Eldon Fold 'N Roll Cart System</td>\n",
       "      <td>22.3680</td>\n",
       "    </tr>\n",
       "  </tbody>\n",
       "</table>\n",
       "</div>"
      ],
      "text/plain": [
       "   Row ID        Order ID  Order Date   Ship Date       Ship Mode Customer ID   \n",
       "0       1  CA-2017-152156  08/11/2017  11/11/2017    Second Class    CG-12520  \\\n",
       "1       2  CA-2017-152156  08/11/2017  11/11/2017    Second Class    CG-12520   \n",
       "2       3  CA-2017-138688  12/06/2017  16/06/2017    Second Class    DV-13045   \n",
       "3       4  US-2016-108966  11/10/2016  18/10/2016  Standard Class    SO-20335   \n",
       "4       5  US-2016-108966  11/10/2016  18/10/2016  Standard Class    SO-20335   \n",
       "\n",
       "     Customer Name    Segment        Country             City       State   \n",
       "0      Claire Gute   Consumer  United States        Henderson    Kentucky  \\\n",
       "1      Claire Gute   Consumer  United States        Henderson    Kentucky   \n",
       "2  Darrin Van Huff  Corporate  United States      Los Angeles  California   \n",
       "3   Sean O'Donnell   Consumer  United States  Fort Lauderdale     Florida   \n",
       "4   Sean O'Donnell   Consumer  United States  Fort Lauderdale     Florida   \n",
       "\n",
       "   Postal Code Region       Product ID         Category Sub-Category   \n",
       "0      42420.0  South  FUR-BO-10001798        Furniture    Bookcases  \\\n",
       "1      42420.0  South  FUR-CH-10000454        Furniture       Chairs   \n",
       "2      90036.0   West  OFF-LA-10000240  Office Supplies       Labels   \n",
       "3      33311.0  South  FUR-TA-10000577        Furniture       Tables   \n",
       "4      33311.0  South  OFF-ST-10000760  Office Supplies      Storage   \n",
       "\n",
       "                                        Product Name     Sales  \n",
       "0                  Bush Somerset Collection Bookcase  261.9600  \n",
       "1  Hon Deluxe Fabric Upholstered Stacking Chairs,...  731.9400  \n",
       "2  Self-Adhesive Address Labels for Typewriters b...   14.6200  \n",
       "3      Bretford CR4500 Series Slim Rectangular Table  957.5775  \n",
       "4                     Eldon Fold 'N Roll Cart System   22.3680  "
      ]
     },
     "execution_count": 3,
     "metadata": {},
     "output_type": "execute_result"
    }
   ],
   "source": [
    "df = pd.read_csv(\"train.csv\" , sep = \",\" ,encoding = \"utf-8\")\n",
    "df.head()"
   ]
  },
  {
   "cell_type": "code",
   "execution_count": 4,
   "id": "392fd463",
   "metadata": {},
   "outputs": [
    {
     "data": {
      "text/plain": [
       "Segment\n",
       "Consumer       5101\n",
       "Corporate      2953\n",
       "Home Office    1746\n",
       "Name: count, dtype: int64"
      ]
     },
     "execution_count": 4,
     "metadata": {},
     "output_type": "execute_result"
    }
   ],
   "source": [
    "df['Segment'].value_counts()"
   ]
  },
  {
   "cell_type": "code",
   "execution_count": 5,
   "id": "ecab3c99",
   "metadata": {},
   "outputs": [
    {
     "name": "stdout",
     "output_type": "stream",
     "text": [
      "<class 'pandas.core.frame.DataFrame'>\n",
      "RangeIndex: 9800 entries, 0 to 9799\n",
      "Data columns (total 18 columns):\n",
      " #   Column         Non-Null Count  Dtype  \n",
      "---  ------         --------------  -----  \n",
      " 0   Row ID         9800 non-null   int64  \n",
      " 1   Order ID       9800 non-null   object \n",
      " 2   Order Date     9800 non-null   object \n",
      " 3   Ship Date      9800 non-null   object \n",
      " 4   Ship Mode      9800 non-null   object \n",
      " 5   Customer ID    9800 non-null   object \n",
      " 6   Customer Name  9800 non-null   object \n",
      " 7   Segment        9800 non-null   object \n",
      " 8   Country        9800 non-null   object \n",
      " 9   City           9800 non-null   object \n",
      " 10  State          9800 non-null   object \n",
      " 11  Postal Code    9789 non-null   float64\n",
      " 12  Region         9800 non-null   object \n",
      " 13  Product ID     9800 non-null   object \n",
      " 14  Category       9800 non-null   object \n",
      " 15  Sub-Category   9800 non-null   object \n",
      " 16  Product Name   9800 non-null   object \n",
      " 17  Sales          9800 non-null   float64\n",
      "dtypes: float64(2), int64(1), object(15)\n",
      "memory usage: 1.3+ MB\n"
     ]
    }
   ],
   "source": [
    "df.info()"
   ]
  },
  {
   "cell_type": "code",
   "execution_count": 6,
   "id": "52c40e48",
   "metadata": {},
   "outputs": [
    {
     "data": {
      "text/plain": [
       "Row ID            0\n",
       "Order ID          0\n",
       "Order Date        0\n",
       "Ship Date         0\n",
       "Ship Mode         0\n",
       "Customer ID       0\n",
       "Customer Name     0\n",
       "Segment           0\n",
       "Country           0\n",
       "City              0\n",
       "State             0\n",
       "Postal Code      11\n",
       "Region            0\n",
       "Product ID        0\n",
       "Category          0\n",
       "Sub-Category      0\n",
       "Product Name      0\n",
       "Sales             0\n",
       "dtype: int64"
      ]
     },
     "execution_count": 6,
     "metadata": {},
     "output_type": "execute_result"
    }
   ],
   "source": [
    "df.isnull().sum()"
   ]
  },
  {
   "cell_type": "code",
   "execution_count": 7,
   "id": "5c3a3bea",
   "metadata": {},
   "outputs": [
    {
     "data": {
      "text/html": [
       "<div>\n",
       "<style scoped>\n",
       "    .dataframe tbody tr th:only-of-type {\n",
       "        vertical-align: middle;\n",
       "    }\n",
       "\n",
       "    .dataframe tbody tr th {\n",
       "        vertical-align: top;\n",
       "    }\n",
       "\n",
       "    .dataframe thead th {\n",
       "        text-align: right;\n",
       "    }\n",
       "</style>\n",
       "<table border=\"1\" class=\"dataframe\">\n",
       "  <thead>\n",
       "    <tr style=\"text-align: right;\">\n",
       "      <th></th>\n",
       "      <th>Row ID</th>\n",
       "      <th>Postal Code</th>\n",
       "      <th>Sales</th>\n",
       "    </tr>\n",
       "  </thead>\n",
       "  <tbody>\n",
       "    <tr>\n",
       "      <th>count</th>\n",
       "      <td>9800.000000</td>\n",
       "      <td>9789.000000</td>\n",
       "      <td>9800.000000</td>\n",
       "    </tr>\n",
       "    <tr>\n",
       "      <th>mean</th>\n",
       "      <td>4900.500000</td>\n",
       "      <td>55273.322403</td>\n",
       "      <td>230.769059</td>\n",
       "    </tr>\n",
       "    <tr>\n",
       "      <th>std</th>\n",
       "      <td>2829.160653</td>\n",
       "      <td>32041.223413</td>\n",
       "      <td>626.651875</td>\n",
       "    </tr>\n",
       "    <tr>\n",
       "      <th>min</th>\n",
       "      <td>1.000000</td>\n",
       "      <td>1040.000000</td>\n",
       "      <td>0.444000</td>\n",
       "    </tr>\n",
       "    <tr>\n",
       "      <th>25%</th>\n",
       "      <td>2450.750000</td>\n",
       "      <td>23223.000000</td>\n",
       "      <td>17.248000</td>\n",
       "    </tr>\n",
       "    <tr>\n",
       "      <th>50%</th>\n",
       "      <td>4900.500000</td>\n",
       "      <td>58103.000000</td>\n",
       "      <td>54.490000</td>\n",
       "    </tr>\n",
       "    <tr>\n",
       "      <th>75%</th>\n",
       "      <td>7350.250000</td>\n",
       "      <td>90008.000000</td>\n",
       "      <td>210.605000</td>\n",
       "    </tr>\n",
       "    <tr>\n",
       "      <th>max</th>\n",
       "      <td>9800.000000</td>\n",
       "      <td>99301.000000</td>\n",
       "      <td>22638.480000</td>\n",
       "    </tr>\n",
       "  </tbody>\n",
       "</table>\n",
       "</div>"
      ],
      "text/plain": [
       "            Row ID   Postal Code         Sales\n",
       "count  9800.000000   9789.000000   9800.000000\n",
       "mean   4900.500000  55273.322403    230.769059\n",
       "std    2829.160653  32041.223413    626.651875\n",
       "min       1.000000   1040.000000      0.444000\n",
       "25%    2450.750000  23223.000000     17.248000\n",
       "50%    4900.500000  58103.000000     54.490000\n",
       "75%    7350.250000  90008.000000    210.605000\n",
       "max    9800.000000  99301.000000  22638.480000"
      ]
     },
     "execution_count": 7,
     "metadata": {},
     "output_type": "execute_result"
    }
   ],
   "source": [
    "df.describe()\n",
    "#no need to get details for Row Id and postal code because the description of them will not provide any useful insights"
   ]
  },
  {
   "cell_type": "code",
   "execution_count": 8,
   "id": "f1d66e68",
   "metadata": {},
   "outputs": [
    {
     "data": {
      "text/plain": [
       "count     9800.000000\n",
       "mean       230.769059\n",
       "std        626.651875\n",
       "min          0.444000\n",
       "25%         17.248000\n",
       "50%         54.490000\n",
       "75%        210.605000\n",
       "max      22638.480000\n",
       "Name: Sales, dtype: float64"
      ]
     },
     "execution_count": 8,
     "metadata": {},
     "output_type": "execute_result"
    }
   ],
   "source": [
    "df.describe()['Sales']"
   ]
  },
  {
   "cell_type": "markdown",
   "id": "a52028c2",
   "metadata": {},
   "source": [
    "->>> <span style=\"font-size:18pt;\"> Since that the mean is > median therefore the data is more likely to be right skewed </span>"
   ]
  },
  {
   "cell_type": "code",
   "execution_count": 9,
   "id": "901482a2",
   "metadata": {},
   "outputs": [],
   "source": [
    "df2= df.copy()"
   ]
  },
  {
   "cell_type": "markdown",
   "id": "af24009c",
   "metadata": {},
   "source": [
    "## 1- What are the top selling Categories?"
   ]
  },
  {
   "cell_type": "code",
   "execution_count": 224,
   "id": "558bee74",
   "metadata": {},
   "outputs": [
    {
     "data": {
      "text/html": [
       "<div>\n",
       "<style scoped>\n",
       "    .dataframe tbody tr th:only-of-type {\n",
       "        vertical-align: middle;\n",
       "    }\n",
       "\n",
       "    .dataframe tbody tr th {\n",
       "        vertical-align: top;\n",
       "    }\n",
       "\n",
       "    .dataframe thead th {\n",
       "        text-align: right;\n",
       "    }\n",
       "</style>\n",
       "<table border=\"1\" class=\"dataframe\">\n",
       "  <thead>\n",
       "    <tr style=\"text-align: right;\">\n",
       "      <th></th>\n",
       "      <th>Sales</th>\n",
       "    </tr>\n",
       "    <tr>\n",
       "      <th>Category</th>\n",
       "      <th></th>\n",
       "    </tr>\n",
       "  </thead>\n",
       "  <tbody>\n",
       "    <tr>\n",
       "      <th>Technology</th>\n",
       "      <td>827455.8730</td>\n",
       "    </tr>\n",
       "    <tr>\n",
       "      <th>Furniture</th>\n",
       "      <td>728658.5757</td>\n",
       "    </tr>\n",
       "    <tr>\n",
       "      <th>Office Supplies</th>\n",
       "      <td>705422.3340</td>\n",
       "    </tr>\n",
       "  </tbody>\n",
       "</table>\n",
       "</div>"
      ],
      "text/plain": [
       "                       Sales\n",
       "Category                    \n",
       "Technology       827455.8730\n",
       "Furniture        728658.5757\n",
       "Office Supplies  705422.3340"
      ]
     },
     "execution_count": 224,
     "metadata": {},
     "output_type": "execute_result"
    }
   ],
   "source": [
    "category_sales= df.groupby(['Category']).sum().sort_values(\"Sales\" , ascending= False)[[\"Sales\"]]\n",
    "category_sales"
   ]
  },
  {
   "cell_type": "code",
   "execution_count": 225,
   "id": "e9943aab",
   "metadata": {},
   "outputs": [
    {
     "data": {
      "text/plain": [
       "Index(['Technology', 'Furniture', 'Office Supplies'], dtype='object', name='Category')"
      ]
     },
     "execution_count": 225,
     "metadata": {},
     "output_type": "execute_result"
    }
   ],
   "source": [
    "category_sales.index"
   ]
  },
  {
   "cell_type": "markdown",
   "id": "2fe74a83",
   "metadata": {},
   "source": [
    "->>> <span style=\"font-size:18pt;\"> The answer is Technology </span>\n"
   ]
  },
  {
   "cell_type": "markdown",
   "id": "de310f16",
   "metadata": {},
   "source": [
    "## To visualize these numbers"
   ]
  },
  {
   "cell_type": "code",
   "execution_count": 227,
   "id": "a2aa6e2b",
   "metadata": {},
   "outputs": [
    {
     "data": {
      "text/plain": [
       "<BarContainer object of 3 artists>"
      ]
     },
     "execution_count": 227,
     "metadata": {},
     "output_type": "execute_result"
    },
    {
     "data": {
      "image/png": "[encoded data removed]",
      "text/plain": [
       "<Figure size 500x300 with 1 Axes>"
      ]
     },
     "metadata": {},
     "output_type": "display_data"
    }
   ],
   "source": [
    "fig = plt.figure(figsize = (5, 3))\n",
    "colors = ['blue', 'green', 'orange', 'red', 'purple', 'yellow']\n",
    "\n",
    "# creating the bar plot\n",
    "plt.bar(category_sales.index, category_sales['Sales'], color = colors)"
   ]
  },
  {
   "cell_type": "markdown",
   "id": "3e683944",
   "metadata": {},
   "source": [
    "## 2- Does Sales increase or decrease over Time?"
   ]
  },
  {
   "cell_type": "code",
   "execution_count": 13,
   "id": "9069eb17",
   "metadata": {
    "scrolled": true
   },
   "outputs": [
    {
     "data": {
      "text/html": [
       "<div>\n",
       "<style scoped>\n",
       "    .dataframe tbody tr th:only-of-type {\n",
       "        vertical-align: middle;\n",
       "    }\n",
       "\n",
       "    .dataframe tbody tr th {\n",
       "        vertical-align: top;\n",
       "    }\n",
       "\n",
       "    .dataframe thead th {\n",
       "        text-align: right;\n",
       "    }\n",
       "</style>\n",
       "<table border=\"1\" class=\"dataframe\">\n",
       "  <thead>\n",
       "    <tr style=\"text-align: right;\">\n",
       "      <th></th>\n",
       "      <th>Row ID</th>\n",
       "      <th>Order ID</th>\n",
       "      <th>Order Date</th>\n",
       "      <th>Ship Date</th>\n",
       "      <th>Ship Mode</th>\n",
       "      <th>Customer ID</th>\n",
       "      <th>Customer Name</th>\n",
       "      <th>Segment</th>\n",
       "      <th>Country</th>\n",
       "      <th>City</th>\n",
       "      <th>State</th>\n",
       "      <th>Postal Code</th>\n",
       "      <th>Region</th>\n",
       "      <th>Product ID</th>\n",
       "      <th>Category</th>\n",
       "      <th>Sub-Category</th>\n",
       "      <th>Product Name</th>\n",
       "      <th>Sales</th>\n",
       "    </tr>\n",
       "  </thead>\n",
       "  <tbody>\n",
       "    <tr>\n",
       "      <th>4009</th>\n",
       "      <td>4010</td>\n",
       "      <td>CA-2018-144463</td>\n",
       "      <td>01/01/2018</td>\n",
       "      <td>05/01/2018</td>\n",
       "      <td>Standard Class</td>\n",
       "      <td>SC-20725</td>\n",
       "      <td>Steven Cartwright</td>\n",
       "      <td>Consumer</td>\n",
       "      <td>United States</td>\n",
       "      <td>Los Angeles</td>\n",
       "      <td>California</td>\n",
       "      <td>90036.0</td>\n",
       "      <td>West</td>\n",
       "      <td>FUR-FU-10001215</td>\n",
       "      <td>Furniture</td>\n",
       "      <td>Furnishings</td>\n",
       "      <td>Howard Miller 11-1/2\" Diameter Brentwood Wall ...</td>\n",
       "      <td>474.430</td>\n",
       "    </tr>\n",
       "    <tr>\n",
       "      <th>6682</th>\n",
       "      <td>6683</td>\n",
       "      <td>CA-2018-154466</td>\n",
       "      <td>01/01/2018</td>\n",
       "      <td>02/01/2018</td>\n",
       "      <td>First Class</td>\n",
       "      <td>DP-13390</td>\n",
       "      <td>Dennis Pardue</td>\n",
       "      <td>Home Office</td>\n",
       "      <td>United States</td>\n",
       "      <td>Franklin</td>\n",
       "      <td>Wisconsin</td>\n",
       "      <td>53132.0</td>\n",
       "      <td>Central</td>\n",
       "      <td>OFF-BI-10002012</td>\n",
       "      <td>Office Supplies</td>\n",
       "      <td>Binders</td>\n",
       "      <td>Wilson Jones Easy Flow II Sheet Lifters</td>\n",
       "      <td>3.600</td>\n",
       "    </tr>\n",
       "    <tr>\n",
       "      <th>8069</th>\n",
       "      <td>8070</td>\n",
       "      <td>CA-2018-151750</td>\n",
       "      <td>01/01/2018</td>\n",
       "      <td>05/01/2018</td>\n",
       "      <td>Standard Class</td>\n",
       "      <td>JM-15250</td>\n",
       "      <td>Janet Martin</td>\n",
       "      <td>Consumer</td>\n",
       "      <td>United States</td>\n",
       "      <td>Huntsville</td>\n",
       "      <td>Texas</td>\n",
       "      <td>77340.0</td>\n",
       "      <td>Central</td>\n",
       "      <td>OFF-ST-10002743</td>\n",
       "      <td>Office Supplies</td>\n",
       "      <td>Storage</td>\n",
       "      <td>SAFCO Boltless Steel Shelving</td>\n",
       "      <td>454.560</td>\n",
       "    </tr>\n",
       "    <tr>\n",
       "      <th>8070</th>\n",
       "      <td>8071</td>\n",
       "      <td>CA-2018-151750</td>\n",
       "      <td>01/01/2018</td>\n",
       "      <td>05/01/2018</td>\n",
       "      <td>Standard Class</td>\n",
       "      <td>JM-15250</td>\n",
       "      <td>Janet Martin</td>\n",
       "      <td>Consumer</td>\n",
       "      <td>United States</td>\n",
       "      <td>Huntsville</td>\n",
       "      <td>Texas</td>\n",
       "      <td>77340.0</td>\n",
       "      <td>Central</td>\n",
       "      <td>FUR-FU-10002116</td>\n",
       "      <td>Furniture</td>\n",
       "      <td>Furnishings</td>\n",
       "      <td>Tenex Carpeted, Granite-Look or Clear Contempo...</td>\n",
       "      <td>141.420</td>\n",
       "    </tr>\n",
       "    <tr>\n",
       "      <th>8071</th>\n",
       "      <td>8072</td>\n",
       "      <td>CA-2018-151750</td>\n",
       "      <td>01/01/2018</td>\n",
       "      <td>05/01/2018</td>\n",
       "      <td>Standard Class</td>\n",
       "      <td>JM-15250</td>\n",
       "      <td>Janet Martin</td>\n",
       "      <td>Consumer</td>\n",
       "      <td>United States</td>\n",
       "      <td>Huntsville</td>\n",
       "      <td>Texas</td>\n",
       "      <td>77340.0</td>\n",
       "      <td>Central</td>\n",
       "      <td>FUR-CH-10003199</td>\n",
       "      <td>Furniture</td>\n",
       "      <td>Chairs</td>\n",
       "      <td>Office Star - Contemporary Task Swivel Chair</td>\n",
       "      <td>310.744</td>\n",
       "    </tr>\n",
       "    <tr>\n",
       "      <th>...</th>\n",
       "      <td>...</td>\n",
       "      <td>...</td>\n",
       "      <td>...</td>\n",
       "      <td>...</td>\n",
       "      <td>...</td>\n",
       "      <td>...</td>\n",
       "      <td>...</td>\n",
       "      <td>...</td>\n",
       "      <td>...</td>\n",
       "      <td>...</td>\n",
       "      <td>...</td>\n",
       "      <td>...</td>\n",
       "      <td>...</td>\n",
       "      <td>...</td>\n",
       "      <td>...</td>\n",
       "      <td>...</td>\n",
       "      <td>...</td>\n",
       "      <td>...</td>\n",
       "    </tr>\n",
       "    <tr>\n",
       "      <th>1153</th>\n",
       "      <td>1154</td>\n",
       "      <td>CA-2017-160395</td>\n",
       "      <td>31/12/2017</td>\n",
       "      <td>06/01/2018</td>\n",
       "      <td>Standard Class</td>\n",
       "      <td>KL-16555</td>\n",
       "      <td>Kelly Lampkin</td>\n",
       "      <td>Corporate</td>\n",
       "      <td>United States</td>\n",
       "      <td>Reno</td>\n",
       "      <td>Nevada</td>\n",
       "      <td>89502.0</td>\n",
       "      <td>West</td>\n",
       "      <td>OFF-BI-10003984</td>\n",
       "      <td>Office Supplies</td>\n",
       "      <td>Binders</td>\n",
       "      <td>Lock-Up Easel 'Spel-Binder'</td>\n",
       "      <td>159.768</td>\n",
       "    </tr>\n",
       "    <tr>\n",
       "      <th>2821</th>\n",
       "      <td>2822</td>\n",
       "      <td>CA-2017-100202</td>\n",
       "      <td>31/12/2017</td>\n",
       "      <td>05/01/2018</td>\n",
       "      <td>Standard Class</td>\n",
       "      <td>BD-11620</td>\n",
       "      <td>Brian DeCherney</td>\n",
       "      <td>Consumer</td>\n",
       "      <td>United States</td>\n",
       "      <td>Anaheim</td>\n",
       "      <td>California</td>\n",
       "      <td>92804.0</td>\n",
       "      <td>West</td>\n",
       "      <td>TEC-PH-10002563</td>\n",
       "      <td>Technology</td>\n",
       "      <td>Phones</td>\n",
       "      <td>Adtran 1202752G1</td>\n",
       "      <td>302.376</td>\n",
       "    </tr>\n",
       "    <tr>\n",
       "      <th>1152</th>\n",
       "      <td>1153</td>\n",
       "      <td>CA-2017-160395</td>\n",
       "      <td>31/12/2017</td>\n",
       "      <td>06/01/2018</td>\n",
       "      <td>Standard Class</td>\n",
       "      <td>KL-16555</td>\n",
       "      <td>Kelly Lampkin</td>\n",
       "      <td>Corporate</td>\n",
       "      <td>United States</td>\n",
       "      <td>Reno</td>\n",
       "      <td>Nevada</td>\n",
       "      <td>89502.0</td>\n",
       "      <td>West</td>\n",
       "      <td>OFF-AR-10003759</td>\n",
       "      <td>Office Supplies</td>\n",
       "      <td>Art</td>\n",
       "      <td>Crayola Anti Dust Chalk, 12/Pack</td>\n",
       "      <td>3.640</td>\n",
       "    </tr>\n",
       "    <tr>\n",
       "      <th>5738</th>\n",
       "      <td>5739</td>\n",
       "      <td>CA-2017-156139</td>\n",
       "      <td>31/12/2017</td>\n",
       "      <td>06/01/2018</td>\n",
       "      <td>Standard Class</td>\n",
       "      <td>BP-11155</td>\n",
       "      <td>Becky Pak</td>\n",
       "      <td>Consumer</td>\n",
       "      <td>United States</td>\n",
       "      <td>San Francisco</td>\n",
       "      <td>California</td>\n",
       "      <td>94109.0</td>\n",
       "      <td>West</td>\n",
       "      <td>OFF-BI-10004233</td>\n",
       "      <td>Office Supplies</td>\n",
       "      <td>Binders</td>\n",
       "      <td>GBC Pre-Punched Binding Paper, Plastic, White,...</td>\n",
       "      <td>38.376</td>\n",
       "    </tr>\n",
       "    <tr>\n",
       "      <th>6341</th>\n",
       "      <td>6342</td>\n",
       "      <td>US-2017-105830</td>\n",
       "      <td>31/12/2017</td>\n",
       "      <td>02/01/2018</td>\n",
       "      <td>First Class</td>\n",
       "      <td>DB-13660</td>\n",
       "      <td>Duane Benoit</td>\n",
       "      <td>Consumer</td>\n",
       "      <td>United States</td>\n",
       "      <td>Lancaster</td>\n",
       "      <td>Ohio</td>\n",
       "      <td>43130.0</td>\n",
       "      <td>East</td>\n",
       "      <td>OFF-ST-10002554</td>\n",
       "      <td>Office Supplies</td>\n",
       "      <td>Storage</td>\n",
       "      <td>Tennsco Industrial Shelving</td>\n",
       "      <td>156.512</td>\n",
       "    </tr>\n",
       "  </tbody>\n",
       "</table>\n",
       "<p>9800 rows × 18 columns</p>\n",
       "</div>"
      ],
      "text/plain": [
       "      Row ID        Order ID  Order Date   Ship Date       Ship Mode   \n",
       "4009    4010  CA-2018-144463  01/01/2018  05/01/2018  Standard Class  \\\n",
       "6682    6683  CA-2018-154466  01/01/2018  02/01/2018     First Class   \n",
       "8069    8070  CA-2018-151750  01/01/2018  05/01/2018  Standard Class   \n",
       "8070    8071  CA-2018-151750  01/01/2018  05/01/2018  Standard Class   \n",
       "8071    8072  CA-2018-151750  01/01/2018  05/01/2018  Standard Class   \n",
       "...      ...             ...         ...         ...             ...   \n",
       "1153    1154  CA-2017-160395  31/12/2017  06/01/2018  Standard Class   \n",
       "2821    2822  CA-2017-100202  31/12/2017  05/01/2018  Standard Class   \n",
       "1152    1153  CA-2017-160395  31/12/2017  06/01/2018  Standard Class   \n",
       "5738    5739  CA-2017-156139  31/12/2017  06/01/2018  Standard Class   \n",
       "6341    6342  US-2017-105830  31/12/2017  02/01/2018     First Class   \n",
       "\n",
       "     Customer ID      Customer Name      Segment        Country   \n",
       "4009    SC-20725  Steven Cartwright     Consumer  United States  \\\n",
       "6682    DP-13390      Dennis Pardue  Home Office  United States   \n",
       "8069    JM-15250       Janet Martin     Consumer  United States   \n",
       "8070    JM-15250       Janet Martin     Consumer  United States   \n",
       "8071    JM-15250       Janet Martin     Consumer  United States   \n",
       "...          ...                ...          ...            ...   \n",
       "1153    KL-16555      Kelly Lampkin    Corporate  United States   \n",
       "2821    BD-11620    Brian DeCherney     Consumer  United States   \n",
       "1152    KL-16555      Kelly Lampkin    Corporate  United States   \n",
       "5738    BP-11155          Becky Pak     Consumer  United States   \n",
       "6341    DB-13660       Duane Benoit     Consumer  United States   \n",
       "\n",
       "               City       State  Postal Code   Region       Product ID   \n",
       "4009    Los Angeles  California      90036.0     West  FUR-FU-10001215  \\\n",
       "6682       Franklin   Wisconsin      53132.0  Central  OFF-BI-10002012   \n",
       "8069     Huntsville       Texas      77340.0  Central  OFF-ST-10002743   \n",
       "8070     Huntsville       Texas      77340.0  Central  FUR-FU-10002116   \n",
       "8071     Huntsville       Texas      77340.0  Central  FUR-CH-10003199   \n",
       "...             ...         ...          ...      ...              ...   \n",
       "1153           Reno      Nevada      89502.0     West  OFF-BI-10003984   \n",
       "2821        Anaheim  California      92804.0     West  TEC-PH-10002563   \n",
       "1152           Reno      Nevada      89502.0     West  OFF-AR-10003759   \n",
       "5738  San Francisco  California      94109.0     West  OFF-BI-10004233   \n",
       "6341      Lancaster        Ohio      43130.0     East  OFF-ST-10002554   \n",
       "\n",
       "             Category Sub-Category   \n",
       "4009        Furniture  Furnishings  \\\n",
       "6682  Office Supplies      Binders   \n",
       "8069  Office Supplies      Storage   \n",
       "8070        Furniture  Furnishings   \n",
       "8071        Furniture       Chairs   \n",
       "...               ...          ...   \n",
       "1153  Office Supplies      Binders   \n",
       "2821       Technology       Phones   \n",
       "1152  Office Supplies          Art   \n",
       "5738  Office Supplies      Binders   \n",
       "6341  Office Supplies      Storage   \n",
       "\n",
       "                                           Product Name    Sales  \n",
       "4009  Howard Miller 11-1/2\" Diameter Brentwood Wall ...  474.430  \n",
       "6682            Wilson Jones Easy Flow II Sheet Lifters    3.600  \n",
       "8069                      SAFCO Boltless Steel Shelving  454.560  \n",
       "8070  Tenex Carpeted, Granite-Look or Clear Contempo...  141.420  \n",
       "8071       Office Star - Contemporary Task Swivel Chair  310.744  \n",
       "...                                                 ...      ...  \n",
       "1153                        Lock-Up Easel 'Spel-Binder'  159.768  \n",
       "2821                                   Adtran 1202752G1  302.376  \n",
       "1152                   Crayola Anti Dust Chalk, 12/Pack    3.640  \n",
       "5738  GBC Pre-Punched Binding Paper, Plastic, White,...   38.376  \n",
       "6341                        Tennsco Industrial Shelving  156.512  \n",
       "\n",
       "[9800 rows x 18 columns]"
      ]
     },
     "execution_count": 13,
     "metadata": {},
     "output_type": "execute_result"
    }
   ],
   "source": [
    "df2= df.copy()\n",
    "# df2['Order Date'] = pd.to_datetime(df2['Order Date'], format='%d/%m/%Y')\n",
    "df2.sort_values(by='Order Date')"
   ]
  },
  {
   "cell_type": "code",
   "execution_count": 14,
   "id": "52f502f4",
   "metadata": {
    "scrolled": true
   },
   "outputs": [
    {
     "data": {
      "text/html": [
       "<div>\n",
       "<style scoped>\n",
       "    .dataframe tbody tr th:only-of-type {\n",
       "        vertical-align: middle;\n",
       "    }\n",
       "\n",
       "    .dataframe tbody tr th {\n",
       "        vertical-align: top;\n",
       "    }\n",
       "\n",
       "    .dataframe thead th {\n",
       "        text-align: right;\n",
       "    }\n",
       "</style>\n",
       "<table border=\"1\" class=\"dataframe\">\n",
       "  <thead>\n",
       "    <tr style=\"text-align: right;\">\n",
       "      <th></th>\n",
       "      <th>Order Date</th>\n",
       "      <th>Sales</th>\n",
       "    </tr>\n",
       "  </thead>\n",
       "  <tbody>\n",
       "    <tr>\n",
       "      <th>0</th>\n",
       "      <td>08/11/2017</td>\n",
       "      <td>261.9600</td>\n",
       "    </tr>\n",
       "    <tr>\n",
       "      <th>1</th>\n",
       "      <td>08/11/2017</td>\n",
       "      <td>731.9400</td>\n",
       "    </tr>\n",
       "    <tr>\n",
       "      <th>2</th>\n",
       "      <td>12/06/2017</td>\n",
       "      <td>14.6200</td>\n",
       "    </tr>\n",
       "    <tr>\n",
       "      <th>3</th>\n",
       "      <td>11/10/2016</td>\n",
       "      <td>957.5775</td>\n",
       "    </tr>\n",
       "    <tr>\n",
       "      <th>4</th>\n",
       "      <td>11/10/2016</td>\n",
       "      <td>22.3680</td>\n",
       "    </tr>\n",
       "    <tr>\n",
       "      <th>...</th>\n",
       "      <td>...</td>\n",
       "      <td>...</td>\n",
       "    </tr>\n",
       "    <tr>\n",
       "      <th>9795</th>\n",
       "      <td>21/05/2017</td>\n",
       "      <td>3.7980</td>\n",
       "    </tr>\n",
       "    <tr>\n",
       "      <th>9796</th>\n",
       "      <td>12/01/2016</td>\n",
       "      <td>10.3680</td>\n",
       "    </tr>\n",
       "    <tr>\n",
       "      <th>9797</th>\n",
       "      <td>12/01/2016</td>\n",
       "      <td>235.1880</td>\n",
       "    </tr>\n",
       "    <tr>\n",
       "      <th>9798</th>\n",
       "      <td>12/01/2016</td>\n",
       "      <td>26.3760</td>\n",
       "    </tr>\n",
       "    <tr>\n",
       "      <th>9799</th>\n",
       "      <td>12/01/2016</td>\n",
       "      <td>10.3840</td>\n",
       "    </tr>\n",
       "  </tbody>\n",
       "</table>\n",
       "<p>9800 rows × 2 columns</p>\n",
       "</div>"
      ],
      "text/plain": [
       "      Order Date     Sales\n",
       "0     08/11/2017  261.9600\n",
       "1     08/11/2017  731.9400\n",
       "2     12/06/2017   14.6200\n",
       "3     11/10/2016  957.5775\n",
       "4     11/10/2016   22.3680\n",
       "...          ...       ...\n",
       "9795  21/05/2017    3.7980\n",
       "9796  12/01/2016   10.3680\n",
       "9797  12/01/2016  235.1880\n",
       "9798  12/01/2016   26.3760\n",
       "9799  12/01/2016   10.3840\n",
       "\n",
       "[9800 rows x 2 columns]"
      ]
     },
     "execution_count": 14,
     "metadata": {},
     "output_type": "execute_result"
    }
   ],
   "source": [
    "df2[['Order Date', 'Sales']]"
   ]
  },
  {
   "cell_type": "code",
   "execution_count": 15,
   "id": "c5793f0d",
   "metadata": {},
   "outputs": [],
   "source": [
    "random_50 = df2.sample(n=50, random_state=42)"
   ]
  },
  {
   "cell_type": "code",
   "execution_count": 16,
   "id": "4c87a3d3",
   "metadata": {
    "scrolled": true
   },
   "outputs": [
    {
     "data": {
      "text/html": [
       "<div>\n",
       "<style scoped>\n",
       "    .dataframe tbody tr th:only-of-type {\n",
       "        vertical-align: middle;\n",
       "    }\n",
       "\n",
       "    .dataframe tbody tr th {\n",
       "        vertical-align: top;\n",
       "    }\n",
       "\n",
       "    .dataframe thead th {\n",
       "        text-align: right;\n",
       "    }\n",
       "</style>\n",
       "<table border=\"1\" class=\"dataframe\">\n",
       "  <thead>\n",
       "    <tr style=\"text-align: right;\">\n",
       "      <th></th>\n",
       "      <th>Order Date</th>\n",
       "      <th>Sales</th>\n",
       "    </tr>\n",
       "  </thead>\n",
       "  <tbody>\n",
       "    <tr>\n",
       "      <th>532</th>\n",
       "      <td>07/09/2018</td>\n",
       "      <td>47.940</td>\n",
       "    </tr>\n",
       "    <tr>\n",
       "      <th>872</th>\n",
       "      <td>10/12/2015</td>\n",
       "      <td>11.360</td>\n",
       "    </tr>\n",
       "    <tr>\n",
       "      <th>1149</th>\n",
       "      <td>04/04/2016</td>\n",
       "      <td>10.950</td>\n",
       "    </tr>\n",
       "    <tr>\n",
       "      <th>2287</th>\n",
       "      <td>01/06/2018</td>\n",
       "      <td>17.480</td>\n",
       "    </tr>\n",
       "    <tr>\n",
       "      <th>4038</th>\n",
       "      <td>29/12/2015</td>\n",
       "      <td>21.120</td>\n",
       "    </tr>\n",
       "    <tr>\n",
       "      <th>1726</th>\n",
       "      <td>19/12/2016</td>\n",
       "      <td>88.832</td>\n",
       "    </tr>\n",
       "    <tr>\n",
       "      <th>4989</th>\n",
       "      <td>31/08/2018</td>\n",
       "      <td>6.672</td>\n",
       "    </tr>\n",
       "    <tr>\n",
       "      <th>4228</th>\n",
       "      <td>24/03/2017</td>\n",
       "      <td>22.480</td>\n",
       "    </tr>\n",
       "    <tr>\n",
       "      <th>6664</th>\n",
       "      <td>26/10/2018</td>\n",
       "      <td>251.580</td>\n",
       "    </tr>\n",
       "    <tr>\n",
       "      <th>7598</th>\n",
       "      <td>17/09/2015</td>\n",
       "      <td>38.256</td>\n",
       "    </tr>\n",
       "    <tr>\n",
       "      <th>9210</th>\n",
       "      <td>11/12/2018</td>\n",
       "      <td>5.400</td>\n",
       "    </tr>\n",
       "    <tr>\n",
       "      <th>5399</th>\n",
       "      <td>09/04/2017</td>\n",
       "      <td>556.665</td>\n",
       "    </tr>\n",
       "    <tr>\n",
       "      <th>8653</th>\n",
       "      <td>13/09/2015</td>\n",
       "      <td>199.980</td>\n",
       "    </tr>\n",
       "    <tr>\n",
       "      <th>7173</th>\n",
       "      <td>26/03/2018</td>\n",
       "      <td>2399.960</td>\n",
       "    </tr>\n",
       "    <tr>\n",
       "      <th>4401</th>\n",
       "      <td>17/03/2017</td>\n",
       "      <td>971.500</td>\n",
       "    </tr>\n",
       "    <tr>\n",
       "      <th>251</th>\n",
       "      <td>11/09/2017</td>\n",
       "      <td>3347.370</td>\n",
       "    </tr>\n",
       "    <tr>\n",
       "      <th>2168</th>\n",
       "      <td>27/01/2018</td>\n",
       "      <td>14.016</td>\n",
       "    </tr>\n",
       "    <tr>\n",
       "      <th>2664</th>\n",
       "      <td>01/05/2017</td>\n",
       "      <td>370.620</td>\n",
       "    </tr>\n",
       "    <tr>\n",
       "      <th>2291</th>\n",
       "      <td>20/04/2016</td>\n",
       "      <td>595.380</td>\n",
       "    </tr>\n",
       "    <tr>\n",
       "      <th>6475</th>\n",
       "      <td>03/06/2018</td>\n",
       "      <td>4.554</td>\n",
       "    </tr>\n",
       "    <tr>\n",
       "      <th>8243</th>\n",
       "      <td>12/08/2015</td>\n",
       "      <td>806.336</td>\n",
       "    </tr>\n",
       "    <tr>\n",
       "      <th>2910</th>\n",
       "      <td>05/11/2016</td>\n",
       "      <td>387.136</td>\n",
       "    </tr>\n",
       "    <tr>\n",
       "      <th>8470</th>\n",
       "      <td>23/04/2018</td>\n",
       "      <td>45.408</td>\n",
       "    </tr>\n",
       "    <tr>\n",
       "      <th>518</th>\n",
       "      <td>22/01/2018</td>\n",
       "      <td>1126.020</td>\n",
       "    </tr>\n",
       "    <tr>\n",
       "      <th>2534</th>\n",
       "      <td>15/08/2018</td>\n",
       "      <td>1801.632</td>\n",
       "    </tr>\n",
       "    <tr>\n",
       "      <th>1608</th>\n",
       "      <td>19/04/2017</td>\n",
       "      <td>22.720</td>\n",
       "    </tr>\n",
       "    <tr>\n",
       "      <th>96</th>\n",
       "      <td>09/11/2018</td>\n",
       "      <td>96.530</td>\n",
       "    </tr>\n",
       "    <tr>\n",
       "      <th>577</th>\n",
       "      <td>18/09/2016</td>\n",
       "      <td>7.300</td>\n",
       "    </tr>\n",
       "    <tr>\n",
       "      <th>4641</th>\n",
       "      <td>22/10/2018</td>\n",
       "      <td>3.168</td>\n",
       "    </tr>\n",
       "    <tr>\n",
       "      <th>9218</th>\n",
       "      <td>16/08/2016</td>\n",
       "      <td>44.688</td>\n",
       "    </tr>\n",
       "    <tr>\n",
       "      <th>4847</th>\n",
       "      <td>25/06/2015</td>\n",
       "      <td>71.632</td>\n",
       "    </tr>\n",
       "    <tr>\n",
       "      <th>8033</th>\n",
       "      <td>25/06/2016</td>\n",
       "      <td>0.984</td>\n",
       "    </tr>\n",
       "    <tr>\n",
       "      <th>7581</th>\n",
       "      <td>13/08/2016</td>\n",
       "      <td>422.856</td>\n",
       "    </tr>\n",
       "    <tr>\n",
       "      <th>958</th>\n",
       "      <td>15/05/2018</td>\n",
       "      <td>15.552</td>\n",
       "    </tr>\n",
       "    <tr>\n",
       "      <th>7960</th>\n",
       "      <td>05/10/2018</td>\n",
       "      <td>7.992</td>\n",
       "    </tr>\n",
       "    <tr>\n",
       "      <th>6189</th>\n",
       "      <td>04/04/2018</td>\n",
       "      <td>383.840</td>\n",
       "    </tr>\n",
       "    <tr>\n",
       "      <th>4281</th>\n",
       "      <td>14/11/2015</td>\n",
       "      <td>69.264</td>\n",
       "    </tr>\n",
       "    <tr>\n",
       "      <th>9568</th>\n",
       "      <td>05/07/2018</td>\n",
       "      <td>79.960</td>\n",
       "    </tr>\n",
       "    <tr>\n",
       "      <th>3651</th>\n",
       "      <td>09/12/2018</td>\n",
       "      <td>34.700</td>\n",
       "    </tr>\n",
       "    <tr>\n",
       "      <th>39</th>\n",
       "      <td>27/12/2016</td>\n",
       "      <td>212.058</td>\n",
       "    </tr>\n",
       "    <tr>\n",
       "      <th>782</th>\n",
       "      <td>03/10/2016</td>\n",
       "      <td>24.000</td>\n",
       "    </tr>\n",
       "    <tr>\n",
       "      <th>2689</th>\n",
       "      <td>30/06/2015</td>\n",
       "      <td>5.248</td>\n",
       "    </tr>\n",
       "    <tr>\n",
       "      <th>510</th>\n",
       "      <td>26/11/2018</td>\n",
       "      <td>126.300</td>\n",
       "    </tr>\n",
       "    <tr>\n",
       "      <th>3424</th>\n",
       "      <td>28/05/2017</td>\n",
       "      <td>558.400</td>\n",
       "    </tr>\n",
       "    <tr>\n",
       "      <th>7425</th>\n",
       "      <td>25/06/2017</td>\n",
       "      <td>85.246</td>\n",
       "    </tr>\n",
       "    <tr>\n",
       "      <th>9501</th>\n",
       "      <td>20/11/2016</td>\n",
       "      <td>32.040</td>\n",
       "    </tr>\n",
       "    <tr>\n",
       "      <th>5635</th>\n",
       "      <td>03/09/2018</td>\n",
       "      <td>82.560</td>\n",
       "    </tr>\n",
       "    <tr>\n",
       "      <th>3826</th>\n",
       "      <td>07/10/2015</td>\n",
       "      <td>107.440</td>\n",
       "    </tr>\n",
       "    <tr>\n",
       "      <th>3768</th>\n",
       "      <td>16/12/2015</td>\n",
       "      <td>1013.832</td>\n",
       "    </tr>\n",
       "    <tr>\n",
       "      <th>3772</th>\n",
       "      <td>06/08/2015</td>\n",
       "      <td>62.910</td>\n",
       "    </tr>\n",
       "  </tbody>\n",
       "</table>\n",
       "</div>"
      ],
      "text/plain": [
       "      Order Date     Sales\n",
       "532   07/09/2018    47.940\n",
       "872   10/12/2015    11.360\n",
       "1149  04/04/2016    10.950\n",
       "2287  01/06/2018    17.480\n",
       "4038  29/12/2015    21.120\n",
       "1726  19/12/2016    88.832\n",
       "4989  31/08/2018     6.672\n",
       "4228  24/03/2017    22.480\n",
       "6664  26/10/2018   251.580\n",
       "7598  17/09/2015    38.256\n",
       "9210  11/12/2018     5.400\n",
       "5399  09/04/2017   556.665\n",
       "8653  13/09/2015   199.980\n",
       "7173  26/03/2018  2399.960\n",
       "4401  17/03/2017   971.500\n",
       "251   11/09/2017  3347.370\n",
       "2168  27/01/2018    14.016\n",
       "2664  01/05/2017   370.620\n",
       "2291  20/04/2016   595.380\n",
       "6475  03/06/2018     4.554\n",
       "8243  12/08/2015   806.336\n",
       "2910  05/11/2016   387.136\n",
       "8470  23/04/2018    45.408\n",
       "518   22/01/2018  1126.020\n",
       "2534  15/08/2018  1801.632\n",
       "1608  19/04/2017    22.720\n",
       "96    09/11/2018    96.530\n",
       "577   18/09/2016     7.300\n",
       "4641  22/10/2018     3.168\n",
       "9218  16/08/2016    44.688\n",
       "4847  25/06/2015    71.632\n",
       "8033  25/06/2016     0.984\n",
       "7581  13/08/2016   422.856\n",
       "958   15/05/2018    15.552\n",
       "7960  05/10/2018     7.992\n",
       "6189  04/04/2018   383.840\n",
       "4281  14/11/2015    69.264\n",
       "9568  05/07/2018    79.960\n",
       "3651  09/12/2018    34.700\n",
       "39    27/12/2016   212.058\n",
       "782   03/10/2016    24.000\n",
       "2689  30/06/2015     5.248\n",
       "510   26/11/2018   126.300\n",
       "3424  28/05/2017   558.400\n",
       "7425  25/06/2017    85.246\n",
       "9501  20/11/2016    32.040\n",
       "5635  03/09/2018    82.560\n",
       "3826  07/10/2015   107.440\n",
       "3768  16/12/2015  1013.832\n",
       "3772  06/08/2015    62.910"
      ]
     },
     "execution_count": 16,
     "metadata": {},
     "output_type": "execute_result"
    }
   ],
   "source": [
    "random_50[[\"Order Date\", \"Sales\"]]"
   ]
  },
  {
   "cell_type": "code",
   "execution_count": 17,
   "id": "1994997f",
   "metadata": {
    "scrolled": true
   },
   "outputs": [
    {
     "data": {
      "text/html": [
       "<div>\n",
       "<style scoped>\n",
       "    .dataframe tbody tr th:only-of-type {\n",
       "        vertical-align: middle;\n",
       "    }\n",
       "\n",
       "    .dataframe tbody tr th {\n",
       "        vertical-align: top;\n",
       "    }\n",
       "\n",
       "    .dataframe thead th {\n",
       "        text-align: right;\n",
       "    }\n",
       "</style>\n",
       "<table border=\"1\" class=\"dataframe\">\n",
       "  <thead>\n",
       "    <tr style=\"text-align: right;\">\n",
       "      <th></th>\n",
       "      <th>Order Date</th>\n",
       "      <th>Sales</th>\n",
       "    </tr>\n",
       "  </thead>\n",
       "  <tbody>\n",
       "    <tr>\n",
       "      <th>4847</th>\n",
       "      <td>2015-06-25</td>\n",
       "      <td>71.632</td>\n",
       "    </tr>\n",
       "    <tr>\n",
       "      <th>2689</th>\n",
       "      <td>2015-06-30</td>\n",
       "      <td>5.248</td>\n",
       "    </tr>\n",
       "    <tr>\n",
       "      <th>3772</th>\n",
       "      <td>2015-08-06</td>\n",
       "      <td>62.910</td>\n",
       "    </tr>\n",
       "    <tr>\n",
       "      <th>8243</th>\n",
       "      <td>2015-08-12</td>\n",
       "      <td>806.336</td>\n",
       "    </tr>\n",
       "    <tr>\n",
       "      <th>8653</th>\n",
       "      <td>2015-09-13</td>\n",
       "      <td>199.980</td>\n",
       "    </tr>\n",
       "    <tr>\n",
       "      <th>7598</th>\n",
       "      <td>2015-09-17</td>\n",
       "      <td>38.256</td>\n",
       "    </tr>\n",
       "    <tr>\n",
       "      <th>3826</th>\n",
       "      <td>2015-10-07</td>\n",
       "      <td>107.440</td>\n",
       "    </tr>\n",
       "    <tr>\n",
       "      <th>4281</th>\n",
       "      <td>2015-11-14</td>\n",
       "      <td>69.264</td>\n",
       "    </tr>\n",
       "    <tr>\n",
       "      <th>872</th>\n",
       "      <td>2015-12-10</td>\n",
       "      <td>11.360</td>\n",
       "    </tr>\n",
       "    <tr>\n",
       "      <th>3768</th>\n",
       "      <td>2015-12-16</td>\n",
       "      <td>1013.832</td>\n",
       "    </tr>\n",
       "    <tr>\n",
       "      <th>4038</th>\n",
       "      <td>2015-12-29</td>\n",
       "      <td>21.120</td>\n",
       "    </tr>\n",
       "    <tr>\n",
       "      <th>1149</th>\n",
       "      <td>2016-04-04</td>\n",
       "      <td>10.950</td>\n",
       "    </tr>\n",
       "    <tr>\n",
       "      <th>2291</th>\n",
       "      <td>2016-04-20</td>\n",
       "      <td>595.380</td>\n",
       "    </tr>\n",
       "    <tr>\n",
       "      <th>8033</th>\n",
       "      <td>2016-06-25</td>\n",
       "      <td>0.984</td>\n",
       "    </tr>\n",
       "    <tr>\n",
       "      <th>7581</th>\n",
       "      <td>2016-08-13</td>\n",
       "      <td>422.856</td>\n",
       "    </tr>\n",
       "    <tr>\n",
       "      <th>9218</th>\n",
       "      <td>2016-08-16</td>\n",
       "      <td>44.688</td>\n",
       "    </tr>\n",
       "    <tr>\n",
       "      <th>577</th>\n",
       "      <td>2016-09-18</td>\n",
       "      <td>7.300</td>\n",
       "    </tr>\n",
       "    <tr>\n",
       "      <th>782</th>\n",
       "      <td>2016-10-03</td>\n",
       "      <td>24.000</td>\n",
       "    </tr>\n",
       "    <tr>\n",
       "      <th>2910</th>\n",
       "      <td>2016-11-05</td>\n",
       "      <td>387.136</td>\n",
       "    </tr>\n",
       "    <tr>\n",
       "      <th>9501</th>\n",
       "      <td>2016-11-20</td>\n",
       "      <td>32.040</td>\n",
       "    </tr>\n",
       "    <tr>\n",
       "      <th>1726</th>\n",
       "      <td>2016-12-19</td>\n",
       "      <td>88.832</td>\n",
       "    </tr>\n",
       "    <tr>\n",
       "      <th>39</th>\n",
       "      <td>2016-12-27</td>\n",
       "      <td>212.058</td>\n",
       "    </tr>\n",
       "    <tr>\n",
       "      <th>4401</th>\n",
       "      <td>2017-03-17</td>\n",
       "      <td>971.500</td>\n",
       "    </tr>\n",
       "    <tr>\n",
       "      <th>4228</th>\n",
       "      <td>2017-03-24</td>\n",
       "      <td>22.480</td>\n",
       "    </tr>\n",
       "    <tr>\n",
       "      <th>5399</th>\n",
       "      <td>2017-04-09</td>\n",
       "      <td>556.665</td>\n",
       "    </tr>\n",
       "    <tr>\n",
       "      <th>1608</th>\n",
       "      <td>2017-04-19</td>\n",
       "      <td>22.720</td>\n",
       "    </tr>\n",
       "    <tr>\n",
       "      <th>2664</th>\n",
       "      <td>2017-05-01</td>\n",
       "      <td>370.620</td>\n",
       "    </tr>\n",
       "    <tr>\n",
       "      <th>3424</th>\n",
       "      <td>2017-05-28</td>\n",
       "      <td>558.400</td>\n",
       "    </tr>\n",
       "    <tr>\n",
       "      <th>7425</th>\n",
       "      <td>2017-06-25</td>\n",
       "      <td>85.246</td>\n",
       "    </tr>\n",
       "    <tr>\n",
       "      <th>251</th>\n",
       "      <td>2017-09-11</td>\n",
       "      <td>3347.370</td>\n",
       "    </tr>\n",
       "    <tr>\n",
       "      <th>518</th>\n",
       "      <td>2018-01-22</td>\n",
       "      <td>1126.020</td>\n",
       "    </tr>\n",
       "    <tr>\n",
       "      <th>2168</th>\n",
       "      <td>2018-01-27</td>\n",
       "      <td>14.016</td>\n",
       "    </tr>\n",
       "    <tr>\n",
       "      <th>7173</th>\n",
       "      <td>2018-03-26</td>\n",
       "      <td>2399.960</td>\n",
       "    </tr>\n",
       "    <tr>\n",
       "      <th>6189</th>\n",
       "      <td>2018-04-04</td>\n",
       "      <td>383.840</td>\n",
       "    </tr>\n",
       "    <tr>\n",
       "      <th>8470</th>\n",
       "      <td>2018-04-23</td>\n",
       "      <td>45.408</td>\n",
       "    </tr>\n",
       "    <tr>\n",
       "      <th>958</th>\n",
       "      <td>2018-05-15</td>\n",
       "      <td>15.552</td>\n",
       "    </tr>\n",
       "    <tr>\n",
       "      <th>2287</th>\n",
       "      <td>2018-06-01</td>\n",
       "      <td>17.480</td>\n",
       "    </tr>\n",
       "    <tr>\n",
       "      <th>6475</th>\n",
       "      <td>2018-06-03</td>\n",
       "      <td>4.554</td>\n",
       "    </tr>\n",
       "    <tr>\n",
       "      <th>9568</th>\n",
       "      <td>2018-07-05</td>\n",
       "      <td>79.960</td>\n",
       "    </tr>\n",
       "    <tr>\n",
       "      <th>2534</th>\n",
       "      <td>2018-08-15</td>\n",
       "      <td>1801.632</td>\n",
       "    </tr>\n",
       "    <tr>\n",
       "      <th>4989</th>\n",
       "      <td>2018-08-31</td>\n",
       "      <td>6.672</td>\n",
       "    </tr>\n",
       "    <tr>\n",
       "      <th>5635</th>\n",
       "      <td>2018-09-03</td>\n",
       "      <td>82.560</td>\n",
       "    </tr>\n",
       "    <tr>\n",
       "      <th>532</th>\n",
       "      <td>2018-09-07</td>\n",
       "      <td>47.940</td>\n",
       "    </tr>\n",
       "    <tr>\n",
       "      <th>7960</th>\n",
       "      <td>2018-10-05</td>\n",
       "      <td>7.992</td>\n",
       "    </tr>\n",
       "    <tr>\n",
       "      <th>4641</th>\n",
       "      <td>2018-10-22</td>\n",
       "      <td>3.168</td>\n",
       "    </tr>\n",
       "    <tr>\n",
       "      <th>6664</th>\n",
       "      <td>2018-10-26</td>\n",
       "      <td>251.580</td>\n",
       "    </tr>\n",
       "    <tr>\n",
       "      <th>96</th>\n",
       "      <td>2018-11-09</td>\n",
       "      <td>96.530</td>\n",
       "    </tr>\n",
       "    <tr>\n",
       "      <th>510</th>\n",
       "      <td>2018-11-26</td>\n",
       "      <td>126.300</td>\n",
       "    </tr>\n",
       "    <tr>\n",
       "      <th>3651</th>\n",
       "      <td>2018-12-09</td>\n",
       "      <td>34.700</td>\n",
       "    </tr>\n",
       "    <tr>\n",
       "      <th>9210</th>\n",
       "      <td>2018-12-11</td>\n",
       "      <td>5.400</td>\n",
       "    </tr>\n",
       "  </tbody>\n",
       "</table>\n",
       "</div>"
      ],
      "text/plain": [
       "     Order Date     Sales\n",
       "4847 2015-06-25    71.632\n",
       "2689 2015-06-30     5.248\n",
       "3772 2015-08-06    62.910\n",
       "8243 2015-08-12   806.336\n",
       "8653 2015-09-13   199.980\n",
       "7598 2015-09-17    38.256\n",
       "3826 2015-10-07   107.440\n",
       "4281 2015-11-14    69.264\n",
       "872  2015-12-10    11.360\n",
       "3768 2015-12-16  1013.832\n",
       "4038 2015-12-29    21.120\n",
       "1149 2016-04-04    10.950\n",
       "2291 2016-04-20   595.380\n",
       "8033 2016-06-25     0.984\n",
       "7581 2016-08-13   422.856\n",
       "9218 2016-08-16    44.688\n",
       "577  2016-09-18     7.300\n",
       "782  2016-10-03    24.000\n",
       "2910 2016-11-05   387.136\n",
       "9501 2016-11-20    32.040\n",
       "1726 2016-12-19    88.832\n",
       "39   2016-12-27   212.058\n",
       "4401 2017-03-17   971.500\n",
       "4228 2017-03-24    22.480\n",
       "5399 2017-04-09   556.665\n",
       "1608 2017-04-19    22.720\n",
       "2664 2017-05-01   370.620\n",
       "3424 2017-05-28   558.400\n",
       "7425 2017-06-25    85.246\n",
       "251  2017-09-11  3347.370\n",
       "518  2018-01-22  1126.020\n",
       "2168 2018-01-27    14.016\n",
       "7173 2018-03-26  2399.960\n",
       "6189 2018-04-04   383.840\n",
       "8470 2018-04-23    45.408\n",
       "958  2018-05-15    15.552\n",
       "2287 2018-06-01    17.480\n",
       "6475 2018-06-03     4.554\n",
       "9568 2018-07-05    79.960\n",
       "2534 2018-08-15  1801.632\n",
       "4989 2018-08-31     6.672\n",
       "5635 2018-09-03    82.560\n",
       "532  2018-09-07    47.940\n",
       "7960 2018-10-05     7.992\n",
       "4641 2018-10-22     3.168\n",
       "6664 2018-10-26   251.580\n",
       "96   2018-11-09    96.530\n",
       "510  2018-11-26   126.300\n",
       "3651 2018-12-09    34.700\n",
       "9210 2018-12-11     5.400"
      ]
     },
     "execution_count": 17,
     "metadata": {},
     "output_type": "execute_result"
    }
   ],
   "source": [
    "random_50['Order Date'] = pd.to_datetime(random_50['Order Date'], format='%d/%m/%Y')\n",
    "\n",
    "# Sort the DataFrame by 'Order Date' in ascending order\n",
    "random_50_sorted = random_50.sort_values(by='Order Date', ascending=True)\n",
    "random_50_sorted[['Order Date','Sales']]"
   ]
  },
  {
   "cell_type": "code",
   "execution_count": 222,
   "id": "6908a2bc",
   "metadata": {
    "scrolled": true
   },
   "outputs": [
    {
     "data": {
      "text/plain": [
       "[<matplotlib.lines.Line2D at 0x1f25c9dae80>]"
      ]
     },
     "execution_count": 222,
     "metadata": {},
     "output_type": "execute_result"
    },
    {
     "data": {
      "image/png": "[encoded data removed]",
      "text/plain": [
       "<Figure size 700x300 with 1 Axes>"
      ]
     },
     "metadata": {},
     "output_type": "display_data"
    }
   ],
   "source": [
    "fig = plt.figure(figsize = (7,3))\n",
    "plt.plot(random_50_sorted['Order Date'], random_50_sorted['Sales'], marker='o',linestyle='-')"
   ]
  },
  {
   "cell_type": "markdown",
   "id": "4bd6ff45",
   "metadata": {},
   "source": [
    "->>> <span style=\"font-size:18pt;\">Based on the random sample that was taken (To be able to visualize date against sales) </span>\n",
    "\n",
    "->>> <span style=\"font-size:18pt;\">it seems that sales witnessed a great increased between 2017 and 2018 then started to decrease again </span>\n",
    "\n",
    "**--->Recommendation :  Since that sales decreased after 2018 this might indicate that the store lacks marketing or there's an increase in competition , The sudden increase might be due to seasonal trends or new product launch**"
   ]
  },
  {
   "cell_type": "markdown",
   "id": "510dce80",
   "metadata": {},
   "source": [
    "# 3. Which Customers contribute the most to the total sales?"
   ]
  },
  {
   "cell_type": "code",
   "execution_count": 217,
   "id": "15ec1781",
   "metadata": {},
   "outputs": [
    {
     "data": {
      "text/plain": [
       "<BarContainer object of 10 artists>"
      ]
     },
     "execution_count": 217,
     "metadata": {},
     "output_type": "execute_result"
    },
    {
     "data": {
      "image/png": "[encoded data removed]",
      "text/plain": [
       "<Figure size 1400x300 with 1 Axes>"
      ]
     },
     "metadata": {},
     "output_type": "display_data"
    }
   ],
   "source": [
    "plt.figure(figsize=(14, 3))\n",
    "\n",
    "total_sales_by_customer = df.groupby('Customer Name')['Sales'].sum()\n",
    "\n",
    "total_sales_by_customer = total_sales_by_customer.sort_values(ascending=False)\n",
    "top_customers = total_sales_by_customer.head(10)\n",
    "\n",
    "plt.bar(top_customers.index, top_customers.values, edgecolor = 'black' , color = (0.2, 0.4, 0.6, 0.6))"
   ]
  },
  {
   "cell_type": "code",
   "execution_count": 20,
   "id": "3f09093c",
   "metadata": {},
   "outputs": [
    {
     "data": {
      "text/plain": [
       "([<matplotlib.patches.Wedge at 0x1f24d908790>,\n",
       "  <matplotlib.patches.Wedge at 0x1f24d908e20>,\n",
       "  <matplotlib.patches.Wedge at 0x1f24ddbb4f0>,\n",
       "  <matplotlib.patches.Wedge at 0x1f24ddbbb80>,\n",
       "  <matplotlib.patches.Wedge at 0x1f24ddca250>,\n",
       "  <matplotlib.patches.Wedge at 0x1f24ddca8e0>,\n",
       "  <matplotlib.patches.Wedge at 0x1f24ddcaf70>,\n",
       "  <matplotlib.patches.Wedge at 0x1f24ddda640>,\n",
       "  <matplotlib.patches.Wedge at 0x1f24dddacd0>,\n",
       "  <matplotlib.patches.Wedge at 0x1f24dde93a0>],\n",
       " [Text(0.9592101101747381, 0.5384384500930136, 'Sean Miller'),\n",
       "  Text(0.17377989642240774, 1.0861862398315574, 'Tamara Chand'),\n",
       "  Text(-0.5648575985339992, 0.9438940053726391, 'Raymond Buch'),\n",
       "  Text(-1.0023046684807617, 0.45319460669967226, 'Tom Ashbrook'),\n",
       "  Text(-1.0843111118423385, -0.18511999550354313, 'Adrian Barton'),\n",
       "  Text(-0.8016659212870033, -0.7532142793701275, 'Ken Lonsdale'),\n",
       "  Text(-0.25950963393618076, -1.0689503028178202, 'Sanjit Chand'),\n",
       "  Text(0.3393662202752761, -1.0463415162059053, 'Hunter Lopez'),\n",
       "  Text(0.8087083170857571, -0.7456479449957082, 'Sanjit Engle'),\n",
       "  Text(1.0664169842571747, -0.2697310061669455, 'Christopher Conant')],\n",
       " [Text(0.5232055146407663, 0.2936937000507347, '16.3%'),\n",
       "  Text(0.0947890344122224, 0.592465221726304, '12.4%'),\n",
       "  Text(-0.30810414465490865, 0.5148512756578031, '9.8%'),\n",
       "  Text(-0.5467116373531427, 0.2471970581998212, '9.5%'),\n",
       "  Text(-0.5914424246412755, -0.1009745430019326, '9.4%'),\n",
       "  Text(-0.4372723207020018, -0.41084415238370586, '9.2%'),\n",
       "  Text(-0.14155070941973494, -0.5830638015369928, '9.2%'),\n",
       "  Text(0.18510884742287784, -0.570731736112312, '8.4%'),\n",
       "  Text(0.44111362750132205, -0.40671706090674986, '7.9%'),\n",
       "  Text(0.5816819914130044, -0.14712600336378845, '7.9%')])"
      ]
     },
     "execution_count": 20,
     "metadata": {},
     "output_type": "execute_result"
    },
    {
     "data": {
      "image/png": "[encoded data removed]",
      "text/plain": [
       "<Figure size 640x480 with 1 Axes>"
      ]
     },
     "metadata": {},
     "output_type": "display_data"
    }
   ],
   "source": [
    "plt.pie(top_customers, labels=top_customers.index, autopct='%1.1f%%')\n"
   ]
  },
  {
   "cell_type": "markdown",
   "id": "244d5044",
   "metadata": {},
   "source": [
    "->>> <span style=\"font-size:18pt;\">The customer contributing to the highest number of sales is Sean Miller </span>\n",
    "\n",
    "**--->Recommendation : The store can use this information in Customer Segmentation to segment your customers based on their contribution to sales. The store can create targeted marketing campaigns and personalized offers to retain and attract these valuable customers. The store can also provide offers to loyal customers to maintain their relationship with the store**"
   ]
  },
  {
   "cell_type": "markdown",
   "id": "42ea3477",
   "metadata": {},
   "source": [
    "# 4- Which countries, cities, states are the primary markets for the company's products?"
   ]
  },
  {
   "cell_type": "code",
   "execution_count": 21,
   "id": "8f005a26",
   "metadata": {},
   "outputs": [],
   "source": [
    "primary_countries = df.groupby('Country').size().sort_values(ascending=False)\n",
    "primary_cities = df.groupby('City').size().sort_values(ascending=False)\n",
    "primary_states = df.groupby('State').size().sort_values(ascending=False)"
   ]
  },
  {
   "cell_type": "code",
   "execution_count": 22,
   "id": "7fa613c0",
   "metadata": {},
   "outputs": [
    {
     "data": {
      "text/plain": [
       "Country\n",
       "United States    9800\n",
       "dtype: int64"
      ]
     },
     "execution_count": 22,
     "metadata": {},
     "output_type": "execute_result"
    }
   ],
   "source": [
    "primary_countries"
   ]
  },
  {
   "cell_type": "code",
   "execution_count": 23,
   "id": "548a3033",
   "metadata": {},
   "outputs": [
    {
     "data": {
      "text/plain": [
       "City\n",
       "New York City     891\n",
       "Los Angeles       728\n",
       "Philadelphia      532\n",
       "San Francisco     500\n",
       "Seattle           426\n",
       "                 ... \n",
       "Keller              1\n",
       "Jupiter             1\n",
       "Jefferson City      1\n",
       "Springdale          1\n",
       "Aberdeen            1\n",
       "Length: 529, dtype: int64"
      ]
     },
     "execution_count": 23,
     "metadata": {},
     "output_type": "execute_result"
    }
   ],
   "source": [
    "primary_cities"
   ]
  },
  {
   "cell_type": "code",
   "execution_count": 24,
   "id": "b4fcc689",
   "metadata": {},
   "outputs": [
    {
     "data": {
      "text/plain": [
       "State\n",
       "California              1946\n",
       "New York                1097\n",
       "Texas                    973\n",
       "Pennsylvania             582\n",
       "Washington               504\n",
       "Illinois                 483\n",
       "Ohio                     454\n",
       "Florida                  373\n",
       "Michigan                 253\n",
       "North Carolina           247\n",
       "Virginia                 224\n",
       "Arizona                  223\n",
       "Tennessee                183\n",
       "Colorado                 179\n",
       "Georgia                  177\n",
       "Kentucky                 137\n",
       "Indiana                  135\n",
       "Massachusetts            135\n",
       "New Jersey               122\n",
       "Oregon                   122\n",
       "Maryland                 105\n",
       "Wisconsin                105\n",
       "Delaware                  93\n",
       "Minnesota                 89\n",
       "Connecticut               82\n",
       "Oklahoma                  66\n",
       "Missouri                  66\n",
       "Alabama                   61\n",
       "Arkansas                  60\n",
       "Rhode Island              55\n",
       "Mississippi               53\n",
       "Utah                      53\n",
       "South Carolina            42\n",
       "Louisiana                 41\n",
       "Nevada                    39\n",
       "Nebraska                  38\n",
       "New Mexico                37\n",
       "New Hampshire             27\n",
       "Iowa                      26\n",
       "Kansas                    24\n",
       "Idaho                     21\n",
       "Montana                   15\n",
       "South Dakota              12\n",
       "Vermont                   11\n",
       "District of Columbia      10\n",
       "Maine                      8\n",
       "North Dakota               7\n",
       "West Virginia              4\n",
       "Wyoming                    1\n",
       "dtype: int64"
      ]
     },
     "execution_count": 24,
     "metadata": {},
     "output_type": "execute_result"
    }
   ],
   "source": [
    "primary_states"
   ]
  },
  {
   "cell_type": "code",
   "execution_count": 211,
   "id": "8f4e16bf",
   "metadata": {},
   "outputs": [
    {
     "data": {
      "text/plain": [
       "<AxesSubplot: xlabel='City'>"
      ]
     },
     "execution_count": 211,
     "metadata": {},
     "output_type": "execute_result"
    },
    {
     "data": {
      "image/png": "[encoded data removed]",
      "text/plain": [
       "<Figure size 500x300 with 1 Axes>"
      ]
     },
     "metadata": {},
     "output_type": "display_data"
    }
   ],
   "source": [
    "top_10 = primary_cities.head(10) \n",
    "plt.figure(figsize=(5,3))\n",
    "top_10.plot(kind='bar', color = (0.2, 0.4, 0.6, 0.6))"
   ]
  },
  {
   "cell_type": "code",
   "execution_count": 210,
   "id": "62b01343",
   "metadata": {},
   "outputs": [
    {
     "data": {
      "text/plain": [
       "<AxesSubplot: xlabel='State'>"
      ]
     },
     "execution_count": 210,
     "metadata": {},
     "output_type": "execute_result"
    },
    {
     "data": {
      "image/png": "[encoded data removed]",
      "text/plain": [
       "<Figure size 500x300 with 1 Axes>"
      ]
     },
     "metadata": {},
     "output_type": "display_data"
    }
   ],
   "source": [
    "top_10_state = primary_states.head(10) \n",
    "plt.figure(figsize=(5,3))\n",
    "top_10_state.plot(kind='bar', color = (0.2, 0.4, 0.6, 0.6))"
   ]
  },
  {
   "cell_type": "markdown",
   "id": "bc74a8ee",
   "metadata": {},
   "source": [
    "->>> <span style=\"font-size:18pt;\"> It is obvious from numbers and plots that California is the highest state , New York is the highest country and Us is the only country contributing  to sales </span>\n",
    "\n",
    "**-->Recommendation: The store can use this information to focus marketing efforts on these locations by Tailoring their marketing campaigns to specific cities to increase their effectiveness. On the other hand , Knowing which cities are the least contributing to total sales can also offer valuable insights and benefits for the store , where it can provide insights into market share and position relative to competitors also , it can help develop targeted marketing campaigns to increase brand awareness and attract new customers.** "
   ]
  },
  {
   "cell_type": "markdown",
   "id": "35cfc6d9",
   "metadata": {},
   "source": [
    "# 5- What is the relationship between average shipping delay for orders and their postal codes?"
   ]
  },
  {
   "cell_type": "code",
   "execution_count": 27,
   "id": "272704fe",
   "metadata": {},
   "outputs": [
    {
     "data": {
      "text/html": [
       "<div>\n",
       "<style scoped>\n",
       "    .dataframe tbody tr th:only-of-type {\n",
       "        vertical-align: middle;\n",
       "    }\n",
       "\n",
       "    .dataframe tbody tr th {\n",
       "        vertical-align: top;\n",
       "    }\n",
       "\n",
       "    .dataframe thead th {\n",
       "        text-align: right;\n",
       "    }\n",
       "</style>\n",
       "<table border=\"1\" class=\"dataframe\">\n",
       "  <thead>\n",
       "    <tr style=\"text-align: right;\">\n",
       "      <th></th>\n",
       "      <th>Postal Code</th>\n",
       "      <th>Shipping Delay</th>\n",
       "    </tr>\n",
       "  </thead>\n",
       "  <tbody>\n",
       "    <tr>\n",
       "      <th>288</th>\n",
       "      <td>53186.0</td>\n",
       "      <td>7.0</td>\n",
       "    </tr>\n",
       "    <tr>\n",
       "      <th>381</th>\n",
       "      <td>72032.0</td>\n",
       "      <td>7.0</td>\n",
       "    </tr>\n",
       "    <tr>\n",
       "      <th>544</th>\n",
       "      <td>92399.0</td>\n",
       "      <td>7.0</td>\n",
       "    </tr>\n",
       "    <tr>\n",
       "      <th>371</th>\n",
       "      <td>68701.0</td>\n",
       "      <td>7.0</td>\n",
       "    </tr>\n",
       "    <tr>\n",
       "      <th>342</th>\n",
       "      <td>60543.0</td>\n",
       "      <td>7.0</td>\n",
       "    </tr>\n",
       "    <tr>\n",
       "      <th>...</th>\n",
       "      <td>...</td>\n",
       "      <td>...</td>\n",
       "    </tr>\n",
       "    <tr>\n",
       "      <th>132</th>\n",
       "      <td>29730.0</td>\n",
       "      <td>0.0</td>\n",
       "    </tr>\n",
       "    <tr>\n",
       "      <th>315</th>\n",
       "      <td>59102.0</td>\n",
       "      <td>0.0</td>\n",
       "    </tr>\n",
       "    <tr>\n",
       "      <th>272</th>\n",
       "      <td>48858.0</td>\n",
       "      <td>0.0</td>\n",
       "    </tr>\n",
       "    <tr>\n",
       "      <th>244</th>\n",
       "      <td>46368.0</td>\n",
       "      <td>0.0</td>\n",
       "    </tr>\n",
       "    <tr>\n",
       "      <th>373</th>\n",
       "      <td>70065.0</td>\n",
       "      <td>0.0</td>\n",
       "    </tr>\n",
       "  </tbody>\n",
       "</table>\n",
       "<p>626 rows × 2 columns</p>\n",
       "</div>"
      ],
      "text/plain": [
       "     Postal Code  Shipping Delay\n",
       "288      53186.0             7.0\n",
       "381      72032.0             7.0\n",
       "544      92399.0             7.0\n",
       "371      68701.0             7.0\n",
       "342      60543.0             7.0\n",
       "..           ...             ...\n",
       "132      29730.0             0.0\n",
       "315      59102.0             0.0\n",
       "272      48858.0             0.0\n",
       "244      46368.0             0.0\n",
       "373      70065.0             0.0\n",
       "\n",
       "[626 rows x 2 columns]"
      ]
     },
     "execution_count": 27,
     "metadata": {},
     "output_type": "execute_result"
    }
   ],
   "source": [
    "df2['Ship Date'] = pd.to_datetime(df['Ship Date'], format='%d/%m/%Y')\n",
    "df2['Order Date'] = pd.to_datetime(df['Order Date'], format='%d/%m/%Y')\n",
    "\n",
    "df2['Shipping Delay'] = (df2['Ship Date'] - df2['Order Date']).dt.days\n",
    "\n",
    "average_delay_by_postal_code = df2.groupby('Postal Code')['Shipping Delay'].mean().reset_index()\n",
    "average_delay_by_postal_code = average_delay_by_postal_code.sort_values(by='Shipping Delay', ascending=False)\n",
    "average_delay_by_postal_code"
   ]
  },
  {
   "cell_type": "code",
   "execution_count": 28,
   "id": "e9134b48",
   "metadata": {},
   "outputs": [
    {
     "data": {
      "text/plain": [
       "Text(0, 0.5, 'Average Shipping Delay')"
      ]
     },
     "execution_count": 28,
     "metadata": {},
     "output_type": "execute_result"
    },
    {
     "data": {
      "image/png": "[encoded data removed]",
      "text/plain": [
       "<Figure size 700x500 with 1 Axes>"
      ]
     },
     "metadata": {},
     "output_type": "display_data"
    }
   ],
   "source": [
    "plt.figure(figsize=(7, 5))\n",
    "# update bar width\n",
    "plt.bar(average_delay_by_postal_code['Postal Code'], average_delay_by_postal_code['Shipping Delay'], width = 1.5)\n",
    "plt.xlabel('Postal Code')\n",
    "plt.ylabel('Average Shipping Delay')"
   ]
  },
  {
   "cell_type": "markdown",
   "id": "7f087a2e",
   "metadata": {},
   "source": [
    "->>> <span style=\"font-size:18pt;\">> It is obvious that postal codes between 4000 andd 6000 have more shipping delays </span>\n",
    "\n",
    "**--> Recommendation: : Understanding regions with more delays can help optimize delivery routes. The store can plan more efficient routes or explore alternative shipping methods to reduce delivery times.**"
   ]
  },
  {
   "cell_type": "markdown",
   "id": "0c0a6e14",
   "metadata": {},
   "source": [
    "# 6-What is the distribution of sales across different product categories?"
   ]
  },
  {
   "cell_type": "code",
   "execution_count": 29,
   "id": "b9207317",
   "metadata": {},
   "outputs": [
    {
     "data": {
      "text/plain": [
       "<AxesSubplot: xlabel='Sales', ylabel='Density'>"
      ]
     },
     "execution_count": 29,
     "metadata": {},
     "output_type": "execute_result"
    },
    {
     "data": {
      "image/png": "[encoded data removed]",
      "text/plain": [
       "<Figure size 640x480 with 1 Axes>"
      ]
     },
     "metadata": {},
     "output_type": "display_data"
    }
   ],
   "source": [
    "sns.kdeplot(data=df, x=\"Sales\", hue=\"Category\")"
   ]
  },
  {
   "cell_type": "markdown",
   "id": "9f3c6373",
   "metadata": {},
   "source": [
    "->>> <span style=\"font-size:18pt;\">  high peak for office supplies indicates that there are some sales for office supplies with very high values (the highest one), but the majority of sales for office supplies fall in the lower range and extend to 10,000 </span>"
   ]
  },
  {
   "cell_type": "markdown",
   "id": "eb72be52",
   "metadata": {},
   "source": [
    "->>> <span style=\"font-size:18pt;\"> the peak for furniture which is lower than office supplies indicates that the sales occurs less frequent and the highest number of sales is also less than the total number of sales for office supplies (5000) </span>"
   ]
  },
  {
   "cell_type": "markdown",
   "id": "29bff124",
   "metadata": {},
   "source": [
    "->>> <span style=\"font-size:18pt;\"> The peak for Technology which is the lowest peak indicates that the sales for technology are less and less frequent and there is rare extreme values that extend to values greater than 20,000 </span>\n",
    "\n",
    "**-->Recommendation : for technology products with rare extreme sales, The store can focus on specialized marketing efforts to reach the right audience.**"
   ]
  },
  {
   "cell_type": "markdown",
   "id": "b8e013e7",
   "metadata": {},
   "source": [
    "# 7- What are the top-selling product Category in each state?"
   ]
  },
  {
   "cell_type": "code",
   "execution_count": 30,
   "id": "fd8f2f48",
   "metadata": {},
   "outputs": [
    {
     "data": {
      "text/html": [
       "<div>\n",
       "<style scoped>\n",
       "    .dataframe tbody tr th:only-of-type {\n",
       "        vertical-align: middle;\n",
       "    }\n",
       "\n",
       "    .dataframe tbody tr th {\n",
       "        vertical-align: top;\n",
       "    }\n",
       "\n",
       "    .dataframe thead th {\n",
       "        text-align: right;\n",
       "    }\n",
       "</style>\n",
       "<table border=\"1\" class=\"dataframe\">\n",
       "  <thead>\n",
       "    <tr style=\"text-align: right;\">\n",
       "      <th></th>\n",
       "      <th></th>\n",
       "      <th>Sales</th>\n",
       "    </tr>\n",
       "    <tr>\n",
       "      <th>State</th>\n",
       "      <th>Category</th>\n",
       "      <th></th>\n",
       "    </tr>\n",
       "  </thead>\n",
       "  <tbody>\n",
       "    <tr>\n",
       "      <th rowspan=\"3\" valign=\"top\">California</th>\n",
       "      <th>Technology</th>\n",
       "      <td>154684.1800</td>\n",
       "    </tr>\n",
       "    <tr>\n",
       "      <th>Furniture</th>\n",
       "      <td>152216.5355</td>\n",
       "    </tr>\n",
       "    <tr>\n",
       "      <th>Office Supplies</th>\n",
       "      <td>139405.7480</td>\n",
       "    </tr>\n",
       "    <tr>\n",
       "      <th rowspan=\"2\" valign=\"top\">New York</th>\n",
       "      <th>Technology</th>\n",
       "      <td>126902.6900</td>\n",
       "    </tr>\n",
       "    <tr>\n",
       "      <th>Furniture</th>\n",
       "      <td>92504.5650</td>\n",
       "    </tr>\n",
       "    <tr>\n",
       "      <th>...</th>\n",
       "      <th>...</th>\n",
       "      <td>...</td>\n",
       "    </tr>\n",
       "    <tr>\n",
       "      <th>South Dakota</th>\n",
       "      <th>Furniture</th>\n",
       "      <td>324.9000</td>\n",
       "    </tr>\n",
       "    <tr>\n",
       "      <th>District of Columbia</th>\n",
       "      <th>Office Supplies</th>\n",
       "      <td>138.5200</td>\n",
       "    </tr>\n",
       "    <tr>\n",
       "      <th>Kansas</th>\n",
       "      <th>Furniture</th>\n",
       "      <td>111.1200</td>\n",
       "    </tr>\n",
       "    <tr>\n",
       "      <th>Maine</th>\n",
       "      <th>Furniture</th>\n",
       "      <td>109.4800</td>\n",
       "    </tr>\n",
       "    <tr>\n",
       "      <th>Montana</th>\n",
       "      <th>Furniture</th>\n",
       "      <td>63.9800</td>\n",
       "    </tr>\n",
       "  </tbody>\n",
       "</table>\n",
       "<p>142 rows × 1 columns</p>\n",
       "</div>"
      ],
      "text/plain": [
       "                                            Sales\n",
       "State                Category                    \n",
       "California           Technology       154684.1800\n",
       "                     Furniture        152216.5355\n",
       "                     Office Supplies  139405.7480\n",
       "New York             Technology       126902.6900\n",
       "                     Furniture         92504.5650\n",
       "...                                           ...\n",
       "South Dakota         Furniture           324.9000\n",
       "District of Columbia Office Supplies     138.5200\n",
       "Kansas               Furniture           111.1200\n",
       "Maine                Furniture           109.4800\n",
       "Montana              Furniture            63.9800\n",
       "\n",
       "[142 rows x 1 columns]"
      ]
     },
     "execution_count": 30,
     "metadata": {},
     "output_type": "execute_result"
    }
   ],
   "source": [
    "top_Selling_products=df.groupby(['State','Category']).sum().sort_values(\"Sales\" , ascending= False)[[\"Sales\"]]\n",
    "top_Selling_products"
   ]
  },
  {
   "cell_type": "code",
   "execution_count": 31,
   "id": "17103efd",
   "metadata": {},
   "outputs": [
    {
     "data": {
      "text/plain": [
       "State\n",
       "Alabama                              (Alabama, Technology)\n",
       "Arizona                               (Arizona, Furniture)\n",
       "Arkansas                       (Arkansas, Office Supplies)\n",
       "California                        (California, Technology)\n",
       "Colorado                             (Colorado, Furniture)\n",
       "Connecticut                 (Connecticut, Office Supplies)\n",
       "Delaware                            (Delaware, Technology)\n",
       "District of Columbia    (District of Columbia, Technology)\n",
       "Florida                              (Florida, Technology)\n",
       "Georgia                         (Georgia, Office Supplies)\n",
       "Idaho                                   (Idaho, Furniture)\n",
       "Illinois                            (Illinois, Technology)\n",
       "Indiana                              (Indiana, Technology)\n",
       "Iowa                                     (Iowa, Furniture)\n",
       "Kansas                           (Kansas, Office Supplies)\n",
       "Kentucky                            (Kentucky, Technology)\n",
       "Louisiana                     (Louisiana, Office Supplies)\n",
       "Maine                                  (Maine, Technology)\n",
       "Maryland                       (Maryland, Office Supplies)\n",
       "Massachusetts             (Massachusetts, Office Supplies)\n",
       "Michigan                       (Michigan, Office Supplies)\n",
       "Minnesota                     (Minnesota, Office Supplies)\n",
       "Mississippi                       (Mississippi, Furniture)\n",
       "Missouri                       (Missouri, Office Supplies)\n",
       "Montana                              (Montana, Technology)\n",
       "Nebraska                            (Nebraska, Technology)\n",
       "Nevada                           (Nevada, Office Supplies)\n",
       "New Hampshire                  (New Hampshire, Technology)\n",
       "New Jersey                        (New Jersey, Technology)\n",
       "New Mexico                         (New Mexico, Furniture)\n",
       "New York                            (New York, Technology)\n",
       "North Carolina                (North Carolina, Technology)\n",
       "North Dakota               (North Dakota, Office Supplies)\n",
       "Ohio                                    (Ohio, Technology)\n",
       "Oklahoma                             (Oklahoma, Furniture)\n",
       "Oregon                                 (Oregon, Furniture)\n",
       "Pennsylvania                    (Pennsylvania, Technology)\n",
       "Rhode Island                    (Rhode Island, Technology)\n",
       "South Carolina           (South Carolina, Office Supplies)\n",
       "South Dakota               (South Dakota, Office Supplies)\n",
       "Tennessee                           (Tennessee, Furniture)\n",
       "Texas                                  (Texas, Technology)\n",
       "Utah                                     (Utah, Furniture)\n",
       "Vermont                               (Vermont, Furniture)\n",
       "Virginia                             (Virginia, Furniture)\n",
       "Washington                        (Washington, Technology)\n",
       "West Virginia                   (West Virginia, Furniture)\n",
       "Wisconsin                           (Wisconsin, Furniture)\n",
       "Wyoming                               (Wyoming, Furniture)\n",
       "Name: Sales, dtype: object"
      ]
     },
     "execution_count": 31,
     "metadata": {},
     "output_type": "execute_result"
    }
   ],
   "source": [
    "highest_category_indices = top_Selling_products.groupby('State')['Sales'].idxmax()\n",
    "highest_category_indices"
   ]
  },
  {
   "cell_type": "code",
   "execution_count": 32,
   "id": "84e83efb",
   "metadata": {},
   "outputs": [
    {
     "data": {
      "text/html": [
       "<div>\n",
       "<style scoped>\n",
       "    .dataframe tbody tr th:only-of-type {\n",
       "        vertical-align: middle;\n",
       "    }\n",
       "\n",
       "    .dataframe tbody tr th {\n",
       "        vertical-align: top;\n",
       "    }\n",
       "\n",
       "    .dataframe thead th {\n",
       "        text-align: right;\n",
       "    }\n",
       "</style>\n",
       "<table border=\"1\" class=\"dataframe\">\n",
       "  <thead>\n",
       "    <tr style=\"text-align: right;\">\n",
       "      <th></th>\n",
       "      <th></th>\n",
       "      <th>Sales</th>\n",
       "    </tr>\n",
       "    <tr>\n",
       "      <th>State</th>\n",
       "      <th>Category</th>\n",
       "      <th></th>\n",
       "    </tr>\n",
       "  </thead>\n",
       "  <tbody>\n",
       "    <tr>\n",
       "      <th>California</th>\n",
       "      <th>Technology</th>\n",
       "      <td>154684.180</td>\n",
       "    </tr>\n",
       "    <tr>\n",
       "      <th>New York</th>\n",
       "      <th>Technology</th>\n",
       "      <td>126902.690</td>\n",
       "    </tr>\n",
       "    <tr>\n",
       "      <th>Texas</th>\n",
       "      <th>Technology</th>\n",
       "      <td>64656.272</td>\n",
       "    </tr>\n",
       "    <tr>\n",
       "      <th>Washington</th>\n",
       "      <th>Technology</th>\n",
       "      <td>50536.710</td>\n",
       "    </tr>\n",
       "    <tr>\n",
       "      <th>Florida</th>\n",
       "      <th>Technology</th>\n",
       "      <td>46968.036</td>\n",
       "    </tr>\n",
       "    <tr>\n",
       "      <th>Pennsylvania</th>\n",
       "      <th>Technology</th>\n",
       "      <td>42064.069</td>\n",
       "    </tr>\n",
       "    <tr>\n",
       "      <th>Michigan</th>\n",
       "      <th>Office Supplies</th>\n",
       "      <td>37688.199</td>\n",
       "    </tr>\n",
       "    <tr>\n",
       "      <th>Ohio</th>\n",
       "      <th>Technology</th>\n",
       "      <td>34550.548</td>\n",
       "    </tr>\n",
       "    <tr>\n",
       "      <th>Illinois</th>\n",
       "      <th>Technology</th>\n",
       "      <td>31637.881</td>\n",
       "    </tr>\n",
       "    <tr>\n",
       "      <th>Georgia</th>\n",
       "      <th>Office Supplies</th>\n",
       "      <td>26397.780</td>\n",
       "    </tr>\n",
       "    <tr>\n",
       "      <th>North Carolina</th>\n",
       "      <th>Technology</th>\n",
       "      <td>26083.119</td>\n",
       "    </tr>\n",
       "    <tr>\n",
       "      <th>Indiana</th>\n",
       "      <th>Technology</th>\n",
       "      <td>25959.670</td>\n",
       "    </tr>\n",
       "    <tr>\n",
       "      <th>Virginia</th>\n",
       "      <th>Furniture</th>\n",
       "      <td>25321.950</td>\n",
       "    </tr>\n",
       "    <tr>\n",
       "      <th>Minnesota</th>\n",
       "      <th>Office Supplies</th>\n",
       "      <td>19406.540</td>\n",
       "    </tr>\n",
       "    <tr>\n",
       "      <th>Wisconsin</th>\n",
       "      <th>Furniture</th>\n",
       "      <td>16757.850</td>\n",
       "    </tr>\n",
       "    <tr>\n",
       "      <th>Delaware</th>\n",
       "      <th>Technology</th>\n",
       "      <td>14562.220</td>\n",
       "    </tr>\n",
       "    <tr>\n",
       "      <th>New Jersey</th>\n",
       "      <th>Technology</th>\n",
       "      <td>14501.160</td>\n",
       "    </tr>\n",
       "    <tr>\n",
       "      <th>Arizona</th>\n",
       "      <th>Furniture</th>\n",
       "      <td>13525.291</td>\n",
       "    </tr>\n",
       "    <tr>\n",
       "      <th>Tennessee</th>\n",
       "      <th>Furniture</th>\n",
       "      <td>13506.732</td>\n",
       "    </tr>\n",
       "    <tr>\n",
       "      <th>Colorado</th>\n",
       "      <th>Furniture</th>\n",
       "      <td>13220.285</td>\n",
       "    </tr>\n",
       "    <tr>\n",
       "      <th>Kentucky</th>\n",
       "      <th>Technology</th>\n",
       "      <td>12552.640</td>\n",
       "    </tr>\n",
       "    <tr>\n",
       "      <th>Missouri</th>\n",
       "      <th>Office Supplies</th>\n",
       "      <td>12182.180</td>\n",
       "    </tr>\n",
       "    <tr>\n",
       "      <th>Massachusetts</th>\n",
       "      <th>Office Supplies</th>\n",
       "      <td>11988.740</td>\n",
       "    </tr>\n",
       "    <tr>\n",
       "      <th>Rhode Island</th>\n",
       "      <th>Technology</th>\n",
       "      <td>10474.410</td>\n",
       "    </tr>\n",
       "    <tr>\n",
       "      <th>Maryland</th>\n",
       "      <th>Office Supplies</th>\n",
       "      <td>10390.230</td>\n",
       "    </tr>\n",
       "    <tr>\n",
       "      <th>Alabama</th>\n",
       "      <th>Technology</th>\n",
       "      <td>8969.080</td>\n",
       "    </tr>\n",
       "    <tr>\n",
       "      <th>Oklahoma</th>\n",
       "      <th>Furniture</th>\n",
       "      <td>8284.100</td>\n",
       "    </tr>\n",
       "    <tr>\n",
       "      <th>Nevada</th>\n",
       "      <th>Office Supplies</th>\n",
       "      <td>6956.924</td>\n",
       "    </tr>\n",
       "    <tr>\n",
       "      <th>Oregon</th>\n",
       "      <th>Furniture</th>\n",
       "      <td>6338.130</td>\n",
       "    </tr>\n",
       "    <tr>\n",
       "      <th>Connecticut</th>\n",
       "      <th>Office Supplies</th>\n",
       "      <td>5418.340</td>\n",
       "    </tr>\n",
       "    <tr>\n",
       "      <th>Vermont</th>\n",
       "      <th>Furniture</th>\n",
       "      <td>5120.100</td>\n",
       "    </tr>\n",
       "    <tr>\n",
       "      <th>Utah</th>\n",
       "      <th>Furniture</th>\n",
       "      <td>4822.350</td>\n",
       "    </tr>\n",
       "    <tr>\n",
       "      <th>Arkansas</th>\n",
       "      <th>Office Supplies</th>\n",
       "      <td>4565.330</td>\n",
       "    </tr>\n",
       "    <tr>\n",
       "      <th>Mississippi</th>\n",
       "      <th>Furniture</th>\n",
       "      <td>4317.850</td>\n",
       "    </tr>\n",
       "    <tr>\n",
       "      <th>South Carolina</th>\n",
       "      <th>Office Supplies</th>\n",
       "      <td>3811.840</td>\n",
       "    </tr>\n",
       "    <tr>\n",
       "      <th>Montana</th>\n",
       "      <th>Technology</th>\n",
       "      <td>3662.934</td>\n",
       "    </tr>\n",
       "    <tr>\n",
       "      <th>New Hampshire</th>\n",
       "      <th>Technology</th>\n",
       "      <td>3636.800</td>\n",
       "    </tr>\n",
       "    <tr>\n",
       "      <th>Louisiana</th>\n",
       "      <th>Office Supplies</th>\n",
       "      <td>3423.160</td>\n",
       "    </tr>\n",
       "    <tr>\n",
       "      <th>Nebraska</th>\n",
       "      <th>Technology</th>\n",
       "      <td>3285.740</td>\n",
       "    </tr>\n",
       "    <tr>\n",
       "      <th>Iowa</th>\n",
       "      <th>Furniture</th>\n",
       "      <td>2627.400</td>\n",
       "    </tr>\n",
       "    <tr>\n",
       "      <th>Idaho</th>\n",
       "      <th>Furniture</th>\n",
       "      <td>2595.482</td>\n",
       "    </tr>\n",
       "    <tr>\n",
       "      <th>Kansas</th>\n",
       "      <th>Office Supplies</th>\n",
       "      <td>1954.150</td>\n",
       "    </tr>\n",
       "    <tr>\n",
       "      <th>New Mexico</th>\n",
       "      <th>Furniture</th>\n",
       "      <td>1701.412</td>\n",
       "    </tr>\n",
       "    <tr>\n",
       "      <th>Wyoming</th>\n",
       "      <th>Furniture</th>\n",
       "      <td>1603.136</td>\n",
       "    </tr>\n",
       "    <tr>\n",
       "      <th>District of Columbia</th>\n",
       "      <th>Technology</th>\n",
       "      <td>1379.920</td>\n",
       "    </tr>\n",
       "    <tr>\n",
       "      <th>North Dakota</th>\n",
       "      <th>Office Supplies</th>\n",
       "      <td>919.910</td>\n",
       "    </tr>\n",
       "    <tr>\n",
       "      <th>Maine</th>\n",
       "      <th>Technology</th>\n",
       "      <td>761.250</td>\n",
       "    </tr>\n",
       "    <tr>\n",
       "      <th>West Virginia</th>\n",
       "      <th>Furniture</th>\n",
       "      <td>673.344</td>\n",
       "    </tr>\n",
       "    <tr>\n",
       "      <th>South Dakota</th>\n",
       "      <th>Office Supplies</th>\n",
       "      <td>597.720</td>\n",
       "    </tr>\n",
       "  </tbody>\n",
       "</table>\n",
       "</div>"
      ],
      "text/plain": [
       "                                           Sales\n",
       "State                Category                   \n",
       "California           Technology       154684.180\n",
       "New York             Technology       126902.690\n",
       "Texas                Technology        64656.272\n",
       "Washington           Technology        50536.710\n",
       "Florida              Technology        46968.036\n",
       "Pennsylvania         Technology        42064.069\n",
       "Michigan             Office Supplies   37688.199\n",
       "Ohio                 Technology        34550.548\n",
       "Illinois             Technology        31637.881\n",
       "Georgia              Office Supplies   26397.780\n",
       "North Carolina       Technology        26083.119\n",
       "Indiana              Technology        25959.670\n",
       "Virginia             Furniture         25321.950\n",
       "Minnesota            Office Supplies   19406.540\n",
       "Wisconsin            Furniture         16757.850\n",
       "Delaware             Technology        14562.220\n",
       "New Jersey           Technology        14501.160\n",
       "Arizona              Furniture         13525.291\n",
       "Tennessee            Furniture         13506.732\n",
       "Colorado             Furniture         13220.285\n",
       "Kentucky             Technology        12552.640\n",
       "Missouri             Office Supplies   12182.180\n",
       "Massachusetts        Office Supplies   11988.740\n",
       "Rhode Island         Technology        10474.410\n",
       "Maryland             Office Supplies   10390.230\n",
       "Alabama              Technology         8969.080\n",
       "Oklahoma             Furniture          8284.100\n",
       "Nevada               Office Supplies    6956.924\n",
       "Oregon               Furniture          6338.130\n",
       "Connecticut          Office Supplies    5418.340\n",
       "Vermont              Furniture          5120.100\n",
       "Utah                 Furniture          4822.350\n",
       "Arkansas             Office Supplies    4565.330\n",
       "Mississippi          Furniture          4317.850\n",
       "South Carolina       Office Supplies    3811.840\n",
       "Montana              Technology         3662.934\n",
       "New Hampshire        Technology         3636.800\n",
       "Louisiana            Office Supplies    3423.160\n",
       "Nebraska             Technology         3285.740\n",
       "Iowa                 Furniture          2627.400\n",
       "Idaho                Furniture          2595.482\n",
       "Kansas               Office Supplies    1954.150\n",
       "New Mexico           Furniture          1701.412\n",
       "Wyoming              Furniture          1603.136\n",
       "District of Columbia Technology         1379.920\n",
       "North Dakota         Office Supplies     919.910\n",
       "Maine                Technology          761.250\n",
       "West Virginia        Furniture           673.344\n",
       "South Dakota         Office Supplies     597.720"
      ]
     },
     "execution_count": 32,
     "metadata": {},
     "output_type": "execute_result"
    }
   ],
   "source": [
    "top_Selling_products = top_Selling_products.loc[highest_category_indices].sort_values(\"Sales\" , ascending= False)\n",
    "top_Selling_products"
   ]
  },
  {
   "cell_type": "code",
   "execution_count": 207,
   "id": "3522f65f",
   "metadata": {},
   "outputs": [
    {
     "data": {
      "text/plain": [
       "<AxesSubplot: xlabel='State,Category'>"
      ]
     },
     "execution_count": 207,
     "metadata": {},
     "output_type": "execute_result"
    },
    {
     "data": {
      "image/png": "[encoded data removed]",
      "text/plain": [
       "<Figure size 1200x400 with 1 Axes>"
      ]
     },
     "metadata": {},
     "output_type": "display_data"
    }
   ],
   "source": [
    "top_Selling_products.plot(kind='bar', figsize=(12, 4))"
   ]
  },
  {
   "cell_type": "markdown",
   "id": "fffa1699",
   "metadata": {},
   "source": [
    "->>> <span style=\"font-size:18pt;\"> From The plot and numbers California contributes to highest sales in Technology , The plot also depicts the Highest selling Category in each state </span>\n",
    "\n",
    "**-->Recommendation: add Offers on top-selling product categories that customers in each state prefer to enhance customer satisfaction. Satisfied customers are more likely to become repeated buyers.**"
   ]
  },
  {
   "cell_type": "markdown",
   "id": "841ecf57",
   "metadata": {},
   "source": [
    "# 8- Which Segments contribute the most to the total sales?"
   ]
  },
  {
   "cell_type": "code",
   "execution_count": 34,
   "id": "f263cb0c",
   "metadata": {},
   "outputs": [
    {
     "data": {
      "text/plain": [
       "([<matplotlib.patches.Wedge at 0x1f24fcfc040>,\n",
       "  <matplotlib.patches.Wedge at 0x1f24fd0b340>,\n",
       "  <matplotlib.patches.Wedge at 0x1f24fd30160>],\n",
       " [Text(-0.02642083976554102, 1.0996826538715994, 'Consumer'),\n",
       "  Text(-0.5902005886829921, -0.9282581888236967, 'Corporate'),\n",
       "  Text(0.913814451312435, -0.612326014940206, 'Home Office')],\n",
       " [Text(-0.014411367144840556, 0.5998269021117814, '50.8%'),\n",
       "  Text(-0.3219275938270865, -0.5063226484492891, '30.4%'),\n",
       "  Text(0.49844424617041905, -0.33399600814920327, '18.8%')])"
      ]
     },
     "execution_count": 34,
     "metadata": {},
     "output_type": "execute_result"
    },
    {
     "data": {
      "image/png": "[encoded data removed]",
      "text/plain": [
       "<Figure size 500x600 with 1 Axes>"
      ]
     },
     "metadata": {},
     "output_type": "display_data"
    }
   ],
   "source": [
    "segment_sales = df.groupby('Segment')['Sales'].sum()\n",
    "plt.figure(figsize=(5, 6))\n",
    "plt.pie(segment_sales, labels=segment_sales.index, autopct='%1.1f%%')"
   ]
  },
  {
   "cell_type": "markdown",
   "id": "3f2931cb",
   "metadata": {},
   "source": [
    "->>> <span style=\"font-size:18pt;\"> Consumers Take up most of the sales percentage </span>\n",
    "\n",
    "**-->Recommendation: The store can use this information to segment theor customer base based on the contributing segments. This segmentation helps in personalizing marketing messages and offers, creating a more personalized customer experience.**"
   ]
  },
  {
   "cell_type": "markdown",
   "id": "505b15d0",
   "metadata": {},
   "source": [
    "# 9- Are there any outliers in Sales?"
   ]
  },
  {
   "cell_type": "code",
   "execution_count": 35,
   "id": "882cf345",
   "metadata": {},
   "outputs": [
    {
     "data": {
      "text/plain": [
       "<AxesSubplot: xlabel='Sales'>"
      ]
     },
     "execution_count": 35,
     "metadata": {},
     "output_type": "execute_result"
    },
    {
     "data": {
      "image/png": "[encoded data removed]",
      "text/plain": [
       "<Figure size 640x480 with 1 Axes>"
      ]
     },
     "metadata": {},
     "output_type": "display_data"
    }
   ],
   "source": [
    "sns.boxplot(x=df['Sales'])"
   ]
  },
  {
   "cell_type": "code",
   "execution_count": 36,
   "id": "c6ac4a5f",
   "metadata": {},
   "outputs": [
    {
     "data": {
      "text/plain": [
       "<matplotlib.collections.PathCollection at 0x1f24ea725e0>"
      ]
     },
     "execution_count": 36,
     "metadata": {},
     "output_type": "execute_result"
    },
    {
     "data": {
      "image/png": "[encoded data removed]",
      "text/plain": [
       "<Figure size 640x480 with 1 Axes>"
      ]
     },
     "metadata": {},
     "output_type": "display_data"
    }
   ],
   "source": [
    "plt.scatter(range(len(df)), df['Sales'])"
   ]
  },
  {
   "cell_type": "markdown",
   "id": "3a3898b9",
   "metadata": {},
   "source": [
    "->>> <span style=\"font-size:18pt;\"> The boxplot shows that sales has outliers </span>"
   ]
  },
  {
   "cell_type": "markdown",
   "id": "7515010d",
   "metadata": {},
   "source": [
    "# 10- What are the most popular shipping modes used?"
   ]
  },
  {
   "cell_type": "code",
   "execution_count": 37,
   "id": "9cd5eb5f",
   "metadata": {},
   "outputs": [
    {
     "data": {
      "text/plain": [
       "Ship Mode\n",
       "Standard Class    5859\n",
       "Second Class      1902\n",
       "First Class       1501\n",
       "Same Day           538\n",
       "Name: count, dtype: int64"
      ]
     },
     "execution_count": 37,
     "metadata": {},
     "output_type": "execute_result"
    }
   ],
   "source": [
    "df['Ship Mode'].value_counts()"
   ]
  },
  {
   "cell_type": "markdown",
   "id": "66cfe3a1",
   "metadata": {},
   "source": [
    "->>> <span style=\"font-size:18pt;\"> Standard Class is the most popular </span>"
   ]
  },
  {
   "cell_type": "markdown",
   "id": "d4e621d8",
   "metadata": {},
   "source": [
    "# 11- Which states have the highest number of customers"
   ]
  },
  {
   "cell_type": "code",
   "execution_count": 38,
   "id": "b3842f3c",
   "metadata": {},
   "outputs": [
    {
     "data": {
      "text/plain": [
       "State\n",
       "Alabama                  34\n",
       "Arizona                  99\n",
       "Arkansas                 27\n",
       "California              570\n",
       "Colorado                 74\n",
       "Connecticut              43\n",
       "Delaware                 43\n",
       "District of Columbia      4\n",
       "Florida                 178\n",
       "Georgia                  80\n",
       "Idaho                    11\n",
       "Illinois                231\n",
       "Indiana                  67\n",
       "Iowa                     16\n",
       "Kansas                   14\n",
       "Kentucky                 56\n",
       "Louisiana                20\n",
       "Maine                     3\n",
       "Maryland                 45\n",
       "Massachusetts            62\n",
       "Michigan                105\n",
       "Minnesota                42\n",
       "Mississippi              25\n",
       "Missouri                 28\n",
       "Montana                   8\n",
       "Nebraska                 23\n",
       "Nevada                   23\n",
       "New Hampshire            17\n",
       "New Jersey               58\n",
       "New Mexico               22\n",
       "New York                409\n",
       "North Carolina          120\n",
       "North Dakota              2\n",
       "Ohio                    196\n",
       "Oklahoma                 34\n",
       "Oregon                   50\n",
       "Pennsylvania            255\n",
       "Rhode Island             24\n",
       "South Carolina           19\n",
       "South Dakota              5\n",
       "Tennessee                84\n",
       "Texas                   367\n",
       "Utah                     26\n",
       "Vermont                   5\n",
       "Virginia                107\n",
       "Washington              223\n",
       "West Virginia             2\n",
       "Wisconsin                51\n",
       "Wyoming                   1\n",
       "Name: Customer ID, dtype: int64"
      ]
     },
     "execution_count": 38,
     "metadata": {},
     "output_type": "execute_result"
    }
   ],
   "source": [
    "highestNo_cust= df.groupby('State')['Customer ID'].nunique()\n",
    "highestNo_cust"
   ]
  },
  {
   "cell_type": "code",
   "execution_count": 39,
   "id": "35f71fac",
   "metadata": {},
   "outputs": [
    {
     "data": {
      "text/plain": [
       "State\n",
       "California              570\n",
       "New York                409\n",
       "Texas                   367\n",
       "Pennsylvania            255\n",
       "Illinois                231\n",
       "Washington              223\n",
       "Ohio                    196\n",
       "Florida                 178\n",
       "North Carolina          120\n",
       "Virginia                107\n",
       "Michigan                105\n",
       "Arizona                  99\n",
       "Tennessee                84\n",
       "Georgia                  80\n",
       "Colorado                 74\n",
       "Indiana                  67\n",
       "Massachusetts            62\n",
       "New Jersey               58\n",
       "Kentucky                 56\n",
       "Wisconsin                51\n",
       "Oregon                   50\n",
       "Maryland                 45\n",
       "Connecticut              43\n",
       "Delaware                 43\n",
       "Minnesota                42\n",
       "Alabama                  34\n",
       "Oklahoma                 34\n",
       "Missouri                 28\n",
       "Arkansas                 27\n",
       "Utah                     26\n",
       "Mississippi              25\n",
       "Rhode Island             24\n",
       "Nevada                   23\n",
       "Nebraska                 23\n",
       "New Mexico               22\n",
       "Louisiana                20\n",
       "South Carolina           19\n",
       "New Hampshire            17\n",
       "Iowa                     16\n",
       "Kansas                   14\n",
       "Idaho                    11\n",
       "Montana                   8\n",
       "South Dakota              5\n",
       "Vermont                   5\n",
       "District of Columbia      4\n",
       "Maine                     3\n",
       "North Dakota              2\n",
       "West Virginia             2\n",
       "Wyoming                   1\n",
       "Name: Customer ID, dtype: int64"
      ]
     },
     "execution_count": 39,
     "metadata": {},
     "output_type": "execute_result"
    }
   ],
   "source": [
    "highestNo_cust = highestNo_cust.sort_values(ascending=False)\n",
    "highestNo_cust"
   ]
  },
  {
   "cell_type": "code",
   "execution_count": 201,
   "id": "59626eda",
   "metadata": {},
   "outputs": [
    {
     "data": {
      "text/plain": [
       "<AxesSubplot: xlabel='State'>"
      ]
     },
     "execution_count": 201,
     "metadata": {},
     "output_type": "execute_result"
    },
    {
     "data": {
      "image/png": "[encoded data removed]",
      "text/plain": [
       "<Figure size 1000x300 with 1 Axes>"
      ]
     },
     "metadata": {},
     "output_type": "display_data"
    }
   ],
   "source": [
    "highestNo_cust.plot(kind='bar', figsize = (10,3))"
   ]
  },
  {
   "cell_type": "markdown",
   "id": "978e6935",
   "metadata": {},
   "source": [
    "->> <span style=\"font-size:18pt;\"> California has the highest number of customers </span>"
   ]
  },
  {
   "cell_type": "markdown",
   "id": "25e1bfcd",
   "metadata": {},
   "source": [
    "# 12- What is the average time it takes to ship an order for each state"
   ]
  },
  {
   "cell_type": "code",
   "execution_count": 41,
   "id": "384efc24",
   "metadata": {},
   "outputs": [
    {
     "data": {
      "text/plain": [
       "0       3\n",
       "1       3\n",
       "2       4\n",
       "3       7\n",
       "4       7\n",
       "       ..\n",
       "9795    7\n",
       "9796    5\n",
       "9797    5\n",
       "9798    5\n",
       "9799    5\n",
       "Name: Shipping Delay, Length: 9800, dtype: int64"
      ]
     },
     "execution_count": 41,
     "metadata": {},
     "output_type": "execute_result"
    }
   ],
   "source": [
    "df2['Shipping Delay']"
   ]
  },
  {
   "cell_type": "code",
   "execution_count": 42,
   "id": "b7e6c372",
   "metadata": {},
   "outputs": [
    {
     "data": {
      "text/plain": [
       "State\n",
       "Alabama                 4.114754\n",
       "Arizona                 4.067265\n",
       "Arkansas                4.133333\n",
       "California              3.866906\n",
       "Colorado                3.675978\n",
       "Connecticut             3.597561\n",
       "Delaware                4.247312\n",
       "District of Columbia    5.700000\n",
       "Florida                 3.946381\n",
       "Georgia                 3.858757\n",
       "Idaho                   3.666667\n",
       "Illinois                4.142857\n",
       "Indiana                 4.325926\n",
       "Iowa                    4.730769\n",
       "Kansas                  3.958333\n",
       "Kentucky                3.868613\n",
       "Louisiana               3.048780\n",
       "Maine                   5.000000\n",
       "Maryland                4.019048\n",
       "Massachusetts           3.881481\n",
       "Michigan                4.083004\n",
       "Minnesota               4.483146\n",
       "Mississippi             4.207547\n",
       "Missouri                4.075758\n",
       "Montana                 4.600000\n",
       "Nebraska                3.500000\n",
       "Nevada                  4.384615\n",
       "New Hampshire           3.703704\n",
       "New Jersey              4.459016\n",
       "New Mexico              4.513514\n",
       "New York                4.051960\n",
       "North Carolina          3.983806\n",
       "North Dakota            2.857143\n",
       "Ohio                    3.466960\n",
       "Oklahoma                4.484848\n",
       "Oregon                  4.336066\n",
       "Pennsylvania            3.881443\n",
       "Rhode Island            3.272727\n",
       "South Carolina          3.595238\n",
       "South Dakota            4.416667\n",
       "Tennessee               4.382514\n",
       "Texas                   3.934224\n",
       "Utah                    4.358491\n",
       "Vermont                 3.909091\n",
       "Virginia                3.843750\n",
       "Washington              3.972222\n",
       "West Virginia           3.000000\n",
       "Wisconsin               4.038095\n",
       "Wyoming                 5.000000\n",
       "Name: Shipping Delay, dtype: float64"
      ]
     },
     "execution_count": 42,
     "metadata": {},
     "output_type": "execute_result"
    }
   ],
   "source": [
    "average_shipping_time_per_state = df2.groupby('State')['Shipping Delay'].mean()\n",
    "average_shipping_time_per_state"
   ]
  },
  {
   "cell_type": "code",
   "execution_count": 43,
   "id": "9bd51698",
   "metadata": {},
   "outputs": [
    {
     "data": {
      "text/plain": [
       "State\n",
       "District of Columbia    5.700000\n",
       "Wyoming                 5.000000\n",
       "Maine                   5.000000\n",
       "Iowa                    4.730769\n",
       "Montana                 4.600000\n",
       "New Mexico              4.513514\n",
       "Oklahoma                4.484848\n",
       "Minnesota               4.483146\n",
       "New Jersey              4.459016\n",
       "South Dakota            4.416667\n",
       "Nevada                  4.384615\n",
       "Tennessee               4.382514\n",
       "Utah                    4.358491\n",
       "Oregon                  4.336066\n",
       "Indiana                 4.325926\n",
       "Delaware                4.247312\n",
       "Mississippi             4.207547\n",
       "Illinois                4.142857\n",
       "Arkansas                4.133333\n",
       "Alabama                 4.114754\n",
       "Michigan                4.083004\n",
       "Missouri                4.075758\n",
       "Arizona                 4.067265\n",
       "New York                4.051960\n",
       "Wisconsin               4.038095\n",
       "Maryland                4.019048\n",
       "North Carolina          3.983806\n",
       "Washington              3.972222\n",
       "Kansas                  3.958333\n",
       "Florida                 3.946381\n",
       "Texas                   3.934224\n",
       "Vermont                 3.909091\n",
       "Massachusetts           3.881481\n",
       "Pennsylvania            3.881443\n",
       "Kentucky                3.868613\n",
       "California              3.866906\n",
       "Georgia                 3.858757\n",
       "Virginia                3.843750\n",
       "New Hampshire           3.703704\n",
       "Colorado                3.675978\n",
       "Idaho                   3.666667\n",
       "Connecticut             3.597561\n",
       "South Carolina          3.595238\n",
       "Nebraska                3.500000\n",
       "Ohio                    3.466960\n",
       "Rhode Island            3.272727\n",
       "Louisiana               3.048780\n",
       "West Virginia           3.000000\n",
       "North Dakota            2.857143\n",
       "Name: Shipping Delay, dtype: float64"
      ]
     },
     "execution_count": 43,
     "metadata": {},
     "output_type": "execute_result"
    }
   ],
   "source": [
    "average_shipping_time_per_state = average_shipping_time_per_state.sort_values(ascending=False)\n",
    "average_shipping_time_per_state"
   ]
  },
  {
   "cell_type": "code",
   "execution_count": 189,
   "id": "4d6478a0",
   "metadata": {},
   "outputs": [
    {
     "data": {
      "text/plain": [
       "<AxesSubplot: xlabel='State'>"
      ]
     },
     "execution_count": 189,
     "metadata": {},
     "output_type": "execute_result"
    },
    {
     "data": {
      "image/png": "[encoded data removed]",
      "text/plain": [
       "<Figure size 1200x200 with 1 Axes>"
      ]
     },
     "metadata": {},
     "output_type": "display_data"
    }
   ],
   "source": [
    "average_shipping_time_per_state.plot(kind='bar', color='lightblue', figsize= (12,2))"
   ]
  },
  {
   "cell_type": "markdown",
   "id": "0acd6df0",
   "metadata": {},
   "source": [
    "->> <span style=\"font-size:18pt;\">  District of Columbia has the highest shipping delays while north dakota has the lowest </span>"
   ]
  },
  {
   "cell_type": "code",
   "execution_count": 45,
   "id": "4222674b",
   "metadata": {},
   "outputs": [
    {
     "data": {
      "text/plain": [
       "Row ID             0\n",
       "Order ID           0\n",
       "Order Date         0\n",
       "Ship Date          0\n",
       "Ship Mode          0\n",
       "Customer ID        0\n",
       "Customer Name      0\n",
       "Segment            0\n",
       "Country            0\n",
       "City               0\n",
       "State              0\n",
       "Postal Code       11\n",
       "Region             0\n",
       "Product ID         0\n",
       "Category           0\n",
       "Sub-Category       0\n",
       "Product Name       0\n",
       "Sales              0\n",
       "Shipping Delay     0\n",
       "dtype: int64"
      ]
     },
     "execution_count": 45,
     "metadata": {},
     "output_type": "execute_result"
    }
   ],
   "source": [
    "df2.isnull().sum()"
   ]
  },
  {
   "cell_type": "markdown",
   "id": "92657193",
   "metadata": {},
   "source": [
    "## 13. What is the percentage increase of sales between each year?"
   ]
  },
  {
   "cell_type": "code",
   "execution_count": 46,
   "id": "cf7d04ba",
   "metadata": {},
   "outputs": [
    {
     "data": {
      "text/plain": [
       "7980    2015\n",
       "741     2015\n",
       "740     2015\n",
       "739     2015\n",
       "1759    2015\n",
       "        ... \n",
       "1297    2018\n",
       "906     2018\n",
       "645     2018\n",
       "908     2018\n",
       "5091    2018\n",
       "Name: Year, Length: 9800, dtype: int32"
      ]
     },
     "execution_count": 46,
     "metadata": {},
     "output_type": "execute_result"
    }
   ],
   "source": [
    "df2['Order Date'] = pd.to_datetime(df2['Order Date'], format='%d/%m/%Y')\n",
    "\n",
    "df2.sort_values(by='Order Date', inplace=True)\n",
    "df2['Year'] = df2['Order Date'].dt.year\n",
    "df2['Year']"
   ]
  },
  {
   "cell_type": "code",
   "execution_count": 47,
   "id": "7d081f88",
   "metadata": {},
   "outputs": [
    {
     "data": {
      "text/plain": [
       "Year\n",
       "2015    479856.2081\n",
       "2016    459436.0054\n",
       "2017    600192.5500\n",
       "2018    722052.0192\n",
       "Name: Sales, dtype: float64"
      ]
     },
     "execution_count": 47,
     "metadata": {},
     "output_type": "execute_result"
    }
   ],
   "source": [
    "sales = df2.groupby('Year')['Sales'].sum()\n",
    "sales"
   ]
  },
  {
   "cell_type": "code",
   "execution_count": 48,
   "id": "8d4cbc98",
   "metadata": {},
   "outputs": [
    {
     "data": {
      "text/plain": [
       "Year\n",
       "2016    -4.255484\n",
       "2017    30.636812\n",
       "2018    20.303396\n",
       "Name: Sales, dtype: float64"
      ]
     },
     "execution_count": 48,
     "metadata": {},
     "output_type": "execute_result"
    }
   ],
   "source": [
    "sales_percentage_change = sales.pct_change() * 100\n",
    "\n",
    "sales_percentage_change.dropna(inplace=True)\n",
    "sales_percentage_change"
   ]
  },
  {
   "cell_type": "code",
   "execution_count": 197,
   "id": "f6c67258",
   "metadata": {},
   "outputs": [
    {
     "data": {
      "text/plain": [
       "<BarContainer object of 3 artists>"
      ]
     },
     "execution_count": 197,
     "metadata": {},
     "output_type": "execute_result"
    },
    {
     "data": {
      "image/png": "[encoded data removed]",
      "text/plain": [
       "<Figure size 500x300 with 1 Axes>"
      ]
     },
     "metadata": {},
     "output_type": "display_data"
    }
   ],
   "source": [
    "colors= ['red', 'lightblue', 'lightblue']\n",
    "plt.figure(figsize=(5,3))\n",
    "plt.bar(sales_percentage_change.index, sales_percentage_change.values, color= colors)"
   ]
  },
  {
   "cell_type": "markdown",
   "id": "4a6d3e10",
   "metadata": {},
   "source": [
    "->>  <span style=\"font-size:18pt;\"> As shown from the numbers and the bar plot , it seems that sales has decreased between 2015 and 2016 by 4% , increased by 30% between 2016 and 2017 and increased by 20% between 2017 and 2018 </span>\n",
    "\n",
    "**Recommendation: since that sales increased significantly between 2016 and 2017, the store may investigate the factors that contributed to this growth and replicate successful strategies in subsequent years. Also the store can identify periods of improvement and areas where sales need further attention which was between 2015 and 2014 in order to not repeat what happened between this period of time**"
   ]
  },
  {
   "cell_type": "markdown",
   "id": "c1d2ddd9",
   "metadata": {},
   "source": [
    "## 14. What is the percentage increase of sales between each year for each product category?"
   ]
  },
  {
   "cell_type": "code",
   "execution_count": 50,
   "id": "57405705",
   "metadata": {},
   "outputs": [
    {
     "data": {
      "text/plain": [
       "7980    Office Supplies\n",
       "741     Office Supplies\n",
       "740     Office Supplies\n",
       "739     Office Supplies\n",
       "1759    Office Supplies\n",
       "             ...       \n",
       "1297    Office Supplies\n",
       "906           Furniture\n",
       "645     Office Supplies\n",
       "908     Office Supplies\n",
       "5091    Office Supplies\n",
       "Name: Category, Length: 9800, dtype: object"
      ]
     },
     "execution_count": 50,
     "metadata": {},
     "output_type": "execute_result"
    }
   ],
   "source": [
    "df2['Category']"
   ]
  },
  {
   "cell_type": "code",
   "execution_count": 51,
   "id": "66d36d61",
   "metadata": {},
   "outputs": [
    {
     "data": {
      "text/plain": [
       "Year  Category       \n",
       "2015  Furniture          156477.8811\n",
       "      Office Supplies    149512.8200\n",
       "      Technology         173865.5070\n",
       "2016  Furniture          164053.8674\n",
       "      Office Supplies    133124.4070\n",
       "      Technology         162257.7310\n",
       "2017  Furniture          195813.0400\n",
       "      Office Supplies    182417.5660\n",
       "      Technology         221961.9440\n",
       "2018  Furniture          212313.7872\n",
       "      Office Supplies    240367.5410\n",
       "      Technology         269370.6910\n",
       "Name: Sales, dtype: float64"
      ]
     },
     "execution_count": 51,
     "metadata": {},
     "output_type": "execute_result"
    }
   ],
   "source": [
    "sales_categories = df2.groupby(['Year','Category'])['Sales'].sum()\n",
    "sales_categories"
   ]
  },
  {
   "cell_type": "code",
   "execution_count": 52,
   "id": "43c611d4",
   "metadata": {},
   "outputs": [],
   "source": [
    "furniture_data = sales_categories.xs('Furniture', level='Category')\n",
    "office_supplies_data = sales_categories.xs('Office Supplies', level='Category')\n",
    "technology_data = sales_categories.xs('Technology', level='Category')"
   ]
  },
  {
   "cell_type": "code",
   "execution_count": 53,
   "id": "939d8f83",
   "metadata": {},
   "outputs": [
    {
     "name": "stdout",
     "output_type": "stream",
     "text": [
      "sales_percentage_change_furniture Year\n",
      "2016     4.841570\n",
      "2017    19.358990\n",
      "2018     8.426787\n",
      "Name: Sales, dtype: float64\n",
      "sales_percentage_change_office_supplies Year\n",
      "2016   -10.961209\n",
      "2017    37.027890\n",
      "2018    31.767760\n",
      "Name: Sales, dtype: float64\n",
      "sales_percentage_change_technology Year\n",
      "2016    -6.676296\n",
      "2017    36.795913\n",
      "2018    21.358953\n",
      "Name: Sales, dtype: float64\n"
     ]
    }
   ],
   "source": [
    "sales_percentage_change_furniture = furniture_data.pct_change() * 100\n",
    "sales_percentage_change_office_supplies = office_supplies_data.pct_change() * 100\n",
    "sales_percentage_change_technology = technology_data.pct_change() * 100\n",
    "\n",
    "sales_percentage_change_furniture.dropna(inplace=True)\n",
    "sales_percentage_change_office_supplies.dropna(inplace=True)\n",
    "sales_percentage_change_technology.dropna(inplace=True)\n",
    "print (\"sales_percentage_change_furniture\",sales_percentage_change_furniture)\n",
    "print (\"sales_percentage_change_office_supplies\",sales_percentage_change_office_supplies)\n",
    "print (\"sales_percentage_change_technology\",sales_percentage_change_technology)\n"
   ]
  },
  {
   "cell_type": "code",
   "execution_count": 54,
   "id": "0c9305dc",
   "metadata": {},
   "outputs": [
    {
     "data": {
      "text/plain": [
       "Text(0, 0.5, 'Technology Sales Percentage Change')"
      ]
     },
     "execution_count": 54,
     "metadata": {},
     "output_type": "execute_result"
    },
    {
     "data": {
      "image/png": "[encoded data removed]",
      "text/plain": [
       "<Figure size 2000x400 with 3 Axes>"
      ]
     },
     "metadata": {},
     "output_type": "display_data"
    }
   ],
   "source": [
    "colors= ['red', 'lightblue', 'lightblue']\n",
    "fig, axs = plt.subplots(1, 3, figsize=(20, 4))\n",
    "axs[0].bar(sales_percentage_change_furniture.index, sales_percentage_change_furniture.values,color= 'LightBlue')\n",
    "axs[0].set_ylabel('Furniture Sales Percentage Change')\n",
    "axs[1].bar(sales_percentage_change_office_supplies.index, sales_percentage_change_office_supplies.values,color= colors)\n",
    "axs[1].set_ylabel('Office Supplies Sales Percentage Change')\n",
    "axs[2].bar(sales_percentage_change_technology.index, sales_percentage_change_technology.values,color= colors)\n",
    "axs[2].set_ylabel('Technology Sales Percentage Change')"
   ]
  },
  {
   "cell_type": "markdown",
   "id": "1cc0824d",
   "metadata": {},
   "source": [
    "->>> <span style=\"font-size:18pt;\">From the numbers and bar plots , Furniture didn't decrease throughout the years. However, Office supplies decreased by 10% at first but witnessed the overall highest increase after 2016 similar to technology percentage changes </span>"
   ]
  },
  {
   "cell_type": "markdown",
   "id": "7d97f819",
   "metadata": {},
   "source": [
    "# 15 . What do our best-buying customers have in common?"
   ]
  },
  {
   "cell_type": "code",
   "execution_count": 59,
   "id": "ca5ce6d4",
   "metadata": {},
   "outputs": [
    {
     "data": {
      "text/html": [
       "<div>\n",
       "<style scoped>\n",
       "    .dataframe tbody tr th:only-of-type {\n",
       "        vertical-align: middle;\n",
       "    }\n",
       "\n",
       "    .dataframe tbody tr th {\n",
       "        vertical-align: top;\n",
       "    }\n",
       "\n",
       "    .dataframe thead th {\n",
       "        text-align: right;\n",
       "    }\n",
       "</style>\n",
       "<table border=\"1\" class=\"dataframe\">\n",
       "  <thead>\n",
       "    <tr style=\"text-align: right;\">\n",
       "      <th></th>\n",
       "      <th></th>\n",
       "      <th>Sales</th>\n",
       "    </tr>\n",
       "    <tr>\n",
       "      <th>Customer Name</th>\n",
       "      <th>Segment</th>\n",
       "      <th></th>\n",
       "    </tr>\n",
       "  </thead>\n",
       "  <tbody>\n",
       "    <tr>\n",
       "      <th>Sean Miller</th>\n",
       "      <th>Home Office</th>\n",
       "      <td>25043.050</td>\n",
       "    </tr>\n",
       "    <tr>\n",
       "      <th>Tamara Chand</th>\n",
       "      <th>Corporate</th>\n",
       "      <td>19052.218</td>\n",
       "    </tr>\n",
       "    <tr>\n",
       "      <th>Raymond Buch</th>\n",
       "      <th>Consumer</th>\n",
       "      <td>15117.339</td>\n",
       "    </tr>\n",
       "    <tr>\n",
       "      <th>Tom Ashbrook</th>\n",
       "      <th>Home Office</th>\n",
       "      <td>14595.620</td>\n",
       "    </tr>\n",
       "    <tr>\n",
       "      <th>Adrian Barton</th>\n",
       "      <th>Consumer</th>\n",
       "      <td>14473.571</td>\n",
       "    </tr>\n",
       "    <tr>\n",
       "      <th>...</th>\n",
       "      <th>...</th>\n",
       "      <td>...</td>\n",
       "    </tr>\n",
       "    <tr>\n",
       "      <th>Mitch Gastineau</th>\n",
       "      <th>Corporate</th>\n",
       "      <td>16.739</td>\n",
       "    </tr>\n",
       "    <tr>\n",
       "      <th>Carl Jackson</th>\n",
       "      <th>Corporate</th>\n",
       "      <td>16.520</td>\n",
       "    </tr>\n",
       "    <tr>\n",
       "      <th>Sung Chung</th>\n",
       "      <th>Consumer</th>\n",
       "      <td>14.112</td>\n",
       "    </tr>\n",
       "    <tr>\n",
       "      <th>Lela Donovan</th>\n",
       "      <th>Corporate</th>\n",
       "      <td>5.304</td>\n",
       "    </tr>\n",
       "    <tr>\n",
       "      <th>Thais Sissman</th>\n",
       "      <th>Consumer</th>\n",
       "      <td>4.833</td>\n",
       "    </tr>\n",
       "  </tbody>\n",
       "</table>\n",
       "<p>793 rows × 1 columns</p>\n",
       "</div>"
      ],
      "text/plain": [
       "                                 Sales\n",
       "Customer Name   Segment               \n",
       "Sean Miller     Home Office  25043.050\n",
       "Tamara Chand    Corporate    19052.218\n",
       "Raymond Buch    Consumer     15117.339\n",
       "Tom Ashbrook    Home Office  14595.620\n",
       "Adrian Barton   Consumer     14473.571\n",
       "...                                ...\n",
       "Mitch Gastineau Corporate       16.739\n",
       "Carl Jackson    Corporate       16.520\n",
       "Sung Chung      Consumer        14.112\n",
       "Lela Donovan    Corporate        5.304\n",
       "Thais Sissman   Consumer         4.833\n",
       "\n",
       "[793 rows x 1 columns]"
      ]
     },
     "execution_count": 59,
     "metadata": {},
     "output_type": "execute_result"
    }
   ],
   "source": [
    "total_sales_by_customer= df.groupby(['Customer Name', 'Segment']).sum().sort_values(\"Sales\" , ascending= False)[[\"Sales\"]]\n",
    "total_sales_by_customer"
   ]
  },
  {
   "cell_type": "code",
   "execution_count": 65,
   "id": "68dd1e31",
   "metadata": {},
   "outputs": [
    {
     "data": {
      "text/html": [
       "<div>\n",
       "<style scoped>\n",
       "    .dataframe tbody tr th:only-of-type {\n",
       "        vertical-align: middle;\n",
       "    }\n",
       "\n",
       "    .dataframe tbody tr th {\n",
       "        vertical-align: top;\n",
       "    }\n",
       "\n",
       "    .dataframe thead th {\n",
       "        text-align: right;\n",
       "    }\n",
       "</style>\n",
       "<table border=\"1\" class=\"dataframe\">\n",
       "  <thead>\n",
       "    <tr style=\"text-align: right;\">\n",
       "      <th></th>\n",
       "      <th></th>\n",
       "      <th>Sales</th>\n",
       "    </tr>\n",
       "    <tr>\n",
       "      <th>Customer Name</th>\n",
       "      <th>Segment</th>\n",
       "      <th></th>\n",
       "    </tr>\n",
       "  </thead>\n",
       "  <tbody>\n",
       "    <tr>\n",
       "      <th>Sean Miller</th>\n",
       "      <th>Home Office</th>\n",
       "      <td>25043.050</td>\n",
       "    </tr>\n",
       "    <tr>\n",
       "      <th>Tamara Chand</th>\n",
       "      <th>Corporate</th>\n",
       "      <td>19052.218</td>\n",
       "    </tr>\n",
       "    <tr>\n",
       "      <th>Raymond Buch</th>\n",
       "      <th>Consumer</th>\n",
       "      <td>15117.339</td>\n",
       "    </tr>\n",
       "    <tr>\n",
       "      <th>Tom Ashbrook</th>\n",
       "      <th>Home Office</th>\n",
       "      <td>14595.620</td>\n",
       "    </tr>\n",
       "    <tr>\n",
       "      <th>Adrian Barton</th>\n",
       "      <th>Consumer</th>\n",
       "      <td>14473.571</td>\n",
       "    </tr>\n",
       "    <tr>\n",
       "      <th>Ken Lonsdale</th>\n",
       "      <th>Consumer</th>\n",
       "      <td>14175.229</td>\n",
       "    </tr>\n",
       "    <tr>\n",
       "      <th>Sanjit Chand</th>\n",
       "      <th>Consumer</th>\n",
       "      <td>14142.334</td>\n",
       "    </tr>\n",
       "    <tr>\n",
       "      <th>Hunter Lopez</th>\n",
       "      <th>Consumer</th>\n",
       "      <td>12873.298</td>\n",
       "    </tr>\n",
       "    <tr>\n",
       "      <th>Sanjit Engle</th>\n",
       "      <th>Consumer</th>\n",
       "      <td>12209.438</td>\n",
       "    </tr>\n",
       "    <tr>\n",
       "      <th>Christopher Conant</th>\n",
       "      <th>Consumer</th>\n",
       "      <td>12129.072</td>\n",
       "    </tr>\n",
       "  </tbody>\n",
       "</table>\n",
       "</div>"
      ],
      "text/plain": [
       "                                    Sales\n",
       "Customer Name      Segment               \n",
       "Sean Miller        Home Office  25043.050\n",
       "Tamara Chand       Corporate    19052.218\n",
       "Raymond Buch       Consumer     15117.339\n",
       "Tom Ashbrook       Home Office  14595.620\n",
       "Adrian Barton      Consumer     14473.571\n",
       "Ken Lonsdale       Consumer     14175.229\n",
       "Sanjit Chand       Consumer     14142.334\n",
       "Hunter Lopez       Consumer     12873.298\n",
       "Sanjit Engle       Consumer     12209.438\n",
       "Christopher Conant Consumer     12129.072"
      ]
     },
     "execution_count": 65,
     "metadata": {},
     "output_type": "execute_result"
    }
   ],
   "source": [
    "# we will view the segments for the top 10 buying customers\n",
    "top_10= total_sales_by_customer.head(10)\n",
    "top_10"
   ]
  },
  {
   "cell_type": "code",
   "execution_count": 71,
   "id": "44dc2f2f",
   "metadata": {},
   "outputs": [
    {
     "data": {
      "text/html": [
       "<div>\n",
       "<style scoped>\n",
       "    .dataframe tbody tr th:only-of-type {\n",
       "        vertical-align: middle;\n",
       "    }\n",
       "\n",
       "    .dataframe tbody tr th {\n",
       "        vertical-align: top;\n",
       "    }\n",
       "\n",
       "    .dataframe thead th {\n",
       "        text-align: right;\n",
       "    }\n",
       "</style>\n",
       "<table border=\"1\" class=\"dataframe\">\n",
       "  <thead>\n",
       "    <tr style=\"text-align: right;\">\n",
       "      <th></th>\n",
       "      <th>Sales</th>\n",
       "    </tr>\n",
       "    <tr>\n",
       "      <th>Segment</th>\n",
       "      <th></th>\n",
       "    </tr>\n",
       "  </thead>\n",
       "  <tbody>\n",
       "    <tr>\n",
       "      <th>Consumer</th>\n",
       "      <td>95120.281</td>\n",
       "    </tr>\n",
       "    <tr>\n",
       "      <th>Corporate</th>\n",
       "      <td>19052.218</td>\n",
       "    </tr>\n",
       "    <tr>\n",
       "      <th>Home Office</th>\n",
       "      <td>39638.670</td>\n",
       "    </tr>\n",
       "  </tbody>\n",
       "</table>\n",
       "</div>"
      ],
      "text/plain": [
       "                 Sales\n",
       "Segment               \n",
       "Consumer     95120.281\n",
       "Corporate    19052.218\n",
       "Home Office  39638.670"
      ]
     },
     "execution_count": 71,
     "metadata": {},
     "output_type": "execute_result"
    }
   ],
   "source": [
    "grouped_data = top_10.groupby('Segment').sum()\n",
    "grouped_data"
   ]
  },
  {
   "cell_type": "code",
   "execution_count": 75,
   "id": "e0cfc0d9",
   "metadata": {},
   "outputs": [
    {
     "data": {
      "text/html": [
       "<div>\n",
       "<style scoped>\n",
       "    .dataframe tbody tr th:only-of-type {\n",
       "        vertical-align: middle;\n",
       "    }\n",
       "\n",
       "    .dataframe tbody tr th {\n",
       "        vertical-align: top;\n",
       "    }\n",
       "\n",
       "    .dataframe thead th {\n",
       "        text-align: right;\n",
       "    }\n",
       "</style>\n",
       "<table border=\"1\" class=\"dataframe\">\n",
       "  <thead>\n",
       "    <tr style=\"text-align: right;\">\n",
       "      <th></th>\n",
       "      <th></th>\n",
       "      <th>Sales</th>\n",
       "    </tr>\n",
       "    <tr>\n",
       "      <th>Customer Name</th>\n",
       "      <th>State</th>\n",
       "      <th></th>\n",
       "    </tr>\n",
       "  </thead>\n",
       "  <tbody>\n",
       "    <tr>\n",
       "      <th>Sean Miller</th>\n",
       "      <th>Florida</th>\n",
       "      <td>23661.228</td>\n",
       "    </tr>\n",
       "    <tr>\n",
       "      <th>Tamara Chand</th>\n",
       "      <th>Indiana</th>\n",
       "      <td>18336.740</td>\n",
       "    </tr>\n",
       "    <tr>\n",
       "      <th>Raymond Buch</th>\n",
       "      <th>Washington</th>\n",
       "      <td>14052.480</td>\n",
       "    </tr>\n",
       "    <tr>\n",
       "      <th>Tom Ashbrook</th>\n",
       "      <th>New York</th>\n",
       "      <td>13723.498</td>\n",
       "    </tr>\n",
       "    <tr>\n",
       "      <th>Becky Martin</th>\n",
       "      <th>Texas</th>\n",
       "      <td>10539.896</td>\n",
       "    </tr>\n",
       "    <tr>\n",
       "      <th>Hunter Lopez</th>\n",
       "      <th>Delaware</th>\n",
       "      <td>10499.970</td>\n",
       "    </tr>\n",
       "    <tr>\n",
       "      <th>Sanjit Chand</th>\n",
       "      <th>Minnesota</th>\n",
       "      <td>9900.190</td>\n",
       "    </tr>\n",
       "    <tr>\n",
       "      <th>Adrian Barton</th>\n",
       "      <th>Michigan</th>\n",
       "      <td>9892.740</td>\n",
       "    </tr>\n",
       "    <tr>\n",
       "      <th>Bill Shonely</th>\n",
       "      <th>New Jersey</th>\n",
       "      <td>9135.190</td>\n",
       "    </tr>\n",
       "    <tr>\n",
       "      <th>Sanjit Engle</th>\n",
       "      <th>Virginia</th>\n",
       "      <td>8805.040</td>\n",
       "    </tr>\n",
       "  </tbody>\n",
       "</table>\n",
       "</div>"
      ],
      "text/plain": [
       "                              Sales\n",
       "Customer Name State                \n",
       "Sean Miller   Florida     23661.228\n",
       "Tamara Chand  Indiana     18336.740\n",
       "Raymond Buch  Washington  14052.480\n",
       "Tom Ashbrook  New York    13723.498\n",
       "Becky Martin  Texas       10539.896\n",
       "Hunter Lopez  Delaware    10499.970\n",
       "Sanjit Chand  Minnesota    9900.190\n",
       "Adrian Barton Michigan     9892.740\n",
       "Bill Shonely  New Jersey   9135.190\n",
       "Sanjit Engle  Virginia     8805.040"
      ]
     },
     "execution_count": 75,
     "metadata": {},
     "output_type": "execute_result"
    }
   ],
   "source": [
    "# we will then view the most common states of the top 10 buying customers\n",
    "total_sales_by_customer_state= df.groupby(['Customer Name', 'State']).sum().sort_values(\"Sales\" , ascending= False)[[\"Sales\"]]\n",
    "top_10_state= total_sales_by_customer_state.head(10)\n",
    "grouped_data_state = top_10_state.groupby('State').sum()\n",
    "top_10_state"
   ]
  },
  {
   "cell_type": "code",
   "execution_count": 78,
   "id": "50f996d9",
   "metadata": {},
   "outputs": [
    {
     "data": {
      "text/html": [
       "<div>\n",
       "<style scoped>\n",
       "    .dataframe tbody tr th:only-of-type {\n",
       "        vertical-align: middle;\n",
       "    }\n",
       "\n",
       "    .dataframe tbody tr th {\n",
       "        vertical-align: top;\n",
       "    }\n",
       "\n",
       "    .dataframe thead th {\n",
       "        text-align: right;\n",
       "    }\n",
       "</style>\n",
       "<table border=\"1\" class=\"dataframe\">\n",
       "  <thead>\n",
       "    <tr style=\"text-align: right;\">\n",
       "      <th></th>\n",
       "      <th></th>\n",
       "      <th>Sales</th>\n",
       "    </tr>\n",
       "    <tr>\n",
       "      <th>Customer Name</th>\n",
       "      <th>State</th>\n",
       "      <th></th>\n",
       "    </tr>\n",
       "  </thead>\n",
       "  <tbody>\n",
       "    <tr>\n",
       "      <th>Sean Miller</th>\n",
       "      <th>Florida</th>\n",
       "      <td>23661.228</td>\n",
       "    </tr>\n",
       "    <tr>\n",
       "      <th>Tamara Chand</th>\n",
       "      <th>Indiana</th>\n",
       "      <td>18336.740</td>\n",
       "    </tr>\n",
       "    <tr>\n",
       "      <th>Raymond Buch</th>\n",
       "      <th>Washington</th>\n",
       "      <td>14052.480</td>\n",
       "    </tr>\n",
       "    <tr>\n",
       "      <th>Tom Ashbrook</th>\n",
       "      <th>New York</th>\n",
       "      <td>13723.498</td>\n",
       "    </tr>\n",
       "    <tr>\n",
       "      <th>Becky Martin</th>\n",
       "      <th>Texas</th>\n",
       "      <td>10539.896</td>\n",
       "    </tr>\n",
       "    <tr>\n",
       "      <th>Hunter Lopez</th>\n",
       "      <th>Delaware</th>\n",
       "      <td>10499.970</td>\n",
       "    </tr>\n",
       "    <tr>\n",
       "      <th>Sanjit Chand</th>\n",
       "      <th>Minnesota</th>\n",
       "      <td>9900.190</td>\n",
       "    </tr>\n",
       "    <tr>\n",
       "      <th>Adrian Barton</th>\n",
       "      <th>Michigan</th>\n",
       "      <td>9892.740</td>\n",
       "    </tr>\n",
       "    <tr>\n",
       "      <th>Bill Shonely</th>\n",
       "      <th>New Jersey</th>\n",
       "      <td>9135.190</td>\n",
       "    </tr>\n",
       "    <tr>\n",
       "      <th>Sanjit Engle</th>\n",
       "      <th>Virginia</th>\n",
       "      <td>8805.040</td>\n",
       "    </tr>\n",
       "    <tr>\n",
       "      <th>Christopher Conant</th>\n",
       "      <th>Pennsylvania</th>\n",
       "      <td>8539.020</td>\n",
       "    </tr>\n",
       "    <tr>\n",
       "      <th>Ken Lonsdale</th>\n",
       "      <th>California</th>\n",
       "      <td>8341.290</td>\n",
       "    </tr>\n",
       "    <tr>\n",
       "      <th>Grant Thornton</th>\n",
       "      <th>North Carolina</th>\n",
       "      <td>8167.420</td>\n",
       "    </tr>\n",
       "    <tr>\n",
       "      <th>Peter Fuller</th>\n",
       "      <th>New York</th>\n",
       "      <td>7678.228</td>\n",
       "    </tr>\n",
       "    <tr>\n",
       "      <th>Jane Waco</th>\n",
       "      <th>California</th>\n",
       "      <td>7381.890</td>\n",
       "    </tr>\n",
       "    <tr>\n",
       "      <th>Seth Vernon</th>\n",
       "      <th>New York</th>\n",
       "      <td>7359.918</td>\n",
       "    </tr>\n",
       "    <tr>\n",
       "      <th>Karen Ferguson</th>\n",
       "      <th>California</th>\n",
       "      <td>7182.766</td>\n",
       "    </tr>\n",
       "    <tr>\n",
       "      <th>Tom Boeckenhauer</th>\n",
       "      <th>New York</th>\n",
       "      <td>6999.960</td>\n",
       "    </tr>\n",
       "    <tr>\n",
       "      <th>Greg Tran</th>\n",
       "      <th>New York</th>\n",
       "      <td>6712.744</td>\n",
       "    </tr>\n",
       "    <tr>\n",
       "      <th>Todd Sumrall</th>\n",
       "      <th>New York</th>\n",
       "      <td>6492.314</td>\n",
       "    </tr>\n",
       "  </tbody>\n",
       "</table>\n",
       "</div>"
      ],
      "text/plain": [
       "                                       Sales\n",
       "Customer Name      State                    \n",
       "Sean Miller        Florida         23661.228\n",
       "Tamara Chand       Indiana         18336.740\n",
       "Raymond Buch       Washington      14052.480\n",
       "Tom Ashbrook       New York        13723.498\n",
       "Becky Martin       Texas           10539.896\n",
       "Hunter Lopez       Delaware        10499.970\n",
       "Sanjit Chand       Minnesota        9900.190\n",
       "Adrian Barton      Michigan         9892.740\n",
       "Bill Shonely       New Jersey       9135.190\n",
       "Sanjit Engle       Virginia         8805.040\n",
       "Christopher Conant Pennsylvania     8539.020\n",
       "Ken Lonsdale       California       8341.290\n",
       "Grant Thornton     North Carolina   8167.420\n",
       "Peter Fuller       New York         7678.228\n",
       "Jane Waco          California       7381.890\n",
       "Seth Vernon        New York         7359.918\n",
       "Karen Ferguson     California       7182.766\n",
       "Tom Boeckenhauer   New York         6999.960\n",
       "Greg Tran          New York         6712.744\n",
       "Todd Sumrall       New York         6492.314"
      ]
     },
     "execution_count": 78,
     "metadata": {},
     "output_type": "execute_result"
    }
   ],
   "source": [
    "# since the top 10 customers have no common states we will try to view the top 20 customers\n",
    "top_20_state= total_sales_by_customer_state.head(20)\n",
    "grouped_data_state = top_20_state.groupby('State').sum()\n",
    "top_20_state"
   ]
  },
  {
   "cell_type": "code",
   "execution_count": 84,
   "id": "0bb08f2d",
   "metadata": {},
   "outputs": [
    {
     "data": {
      "text/html": [
       "<div>\n",
       "<style scoped>\n",
       "    .dataframe tbody tr th:only-of-type {\n",
       "        vertical-align: middle;\n",
       "    }\n",
       "\n",
       "    .dataframe tbody tr th {\n",
       "        vertical-align: top;\n",
       "    }\n",
       "\n",
       "    .dataframe thead th {\n",
       "        text-align: right;\n",
       "    }\n",
       "</style>\n",
       "<table border=\"1\" class=\"dataframe\">\n",
       "  <thead>\n",
       "    <tr style=\"text-align: right;\">\n",
       "      <th></th>\n",
       "      <th></th>\n",
       "      <th>Sales</th>\n",
       "    </tr>\n",
       "    <tr>\n",
       "      <th>Customer Name</th>\n",
       "      <th>Ship Mode</th>\n",
       "      <th></th>\n",
       "    </tr>\n",
       "  </thead>\n",
       "  <tbody>\n",
       "    <tr>\n",
       "      <th>Sean Miller</th>\n",
       "      <th>Standard Class</th>\n",
       "      <td>25035.082</td>\n",
       "    </tr>\n",
       "    <tr>\n",
       "      <th>Tamara Chand</th>\n",
       "      <th>Standard Class</th>\n",
       "      <td>18951.820</td>\n",
       "    </tr>\n",
       "    <tr>\n",
       "      <th>Raymond Buch</th>\n",
       "      <th>First Class</th>\n",
       "      <td>14052.480</td>\n",
       "    </tr>\n",
       "    <tr>\n",
       "      <th>Tom Ashbrook</th>\n",
       "      <th>First Class</th>\n",
       "      <td>13807.770</td>\n",
       "    </tr>\n",
       "    <tr>\n",
       "      <th>Hunter Lopez</th>\n",
       "      <th>Standard Class</th>\n",
       "      <td>12800.280</td>\n",
       "    </tr>\n",
       "    <tr>\n",
       "      <th>Sanjit Chand</th>\n",
       "      <th>Standard Class</th>\n",
       "      <td>12794.584</td>\n",
       "    </tr>\n",
       "    <tr>\n",
       "      <th>Adrian Barton</th>\n",
       "      <th>Standard Class</th>\n",
       "      <td>12550.831</td>\n",
       "    </tr>\n",
       "    <tr>\n",
       "      <th>Caroline Jumper</th>\n",
       "      <th>Standard Class</th>\n",
       "      <td>11164.974</td>\n",
       "    </tr>\n",
       "    <tr>\n",
       "      <th>Becky Martin</th>\n",
       "      <th>Standard Class</th>\n",
       "      <td>10896.686</td>\n",
       "    </tr>\n",
       "    <tr>\n",
       "      <th>Greg Tran</th>\n",
       "      <th>Standard Class</th>\n",
       "      <td>10637.234</td>\n",
       "    </tr>\n",
       "  </tbody>\n",
       "</table>\n",
       "</div>"
      ],
      "text/plain": [
       "                                    Sales\n",
       "Customer Name   Ship Mode                \n",
       "Sean Miller     Standard Class  25035.082\n",
       "Tamara Chand    Standard Class  18951.820\n",
       "Raymond Buch    First Class     14052.480\n",
       "Tom Ashbrook    First Class     13807.770\n",
       "Hunter Lopez    Standard Class  12800.280\n",
       "Sanjit Chand    Standard Class  12794.584\n",
       "Adrian Barton   Standard Class  12550.831\n",
       "Caroline Jumper Standard Class  11164.974\n",
       "Becky Martin    Standard Class  10896.686\n",
       "Greg Tran       Standard Class  10637.234"
      ]
     },
     "execution_count": 84,
     "metadata": {},
     "output_type": "execute_result"
    }
   ],
   "source": [
    "# we will then view the most common Ship Modes of the top 10 buying customers\n",
    "total_sales_by_customer_shipMode= df.groupby(['Customer Name', 'Ship Mode']).sum().sort_values(\"Sales\" , ascending= False)[[\"Sales\"]]\n",
    "top_10_shipMode= total_sales_by_customer_shipMode.head(10)\n",
    "grouped_data_shipMode = top_10_shipMode.groupby('Ship Mode').sum()\n",
    "top_10_shipMode"
   ]
  },
  {
   "cell_type": "code",
   "execution_count": 88,
   "id": "b215e87b",
   "metadata": {},
   "outputs": [
    {
     "data": {
      "text/html": [
       "<div>\n",
       "<style scoped>\n",
       "    .dataframe tbody tr th:only-of-type {\n",
       "        vertical-align: middle;\n",
       "    }\n",
       "\n",
       "    .dataframe tbody tr th {\n",
       "        vertical-align: top;\n",
       "    }\n",
       "\n",
       "    .dataframe thead th {\n",
       "        text-align: right;\n",
       "    }\n",
       "</style>\n",
       "<table border=\"1\" class=\"dataframe\">\n",
       "  <thead>\n",
       "    <tr style=\"text-align: right;\">\n",
       "      <th></th>\n",
       "      <th></th>\n",
       "      <th>Sales</th>\n",
       "    </tr>\n",
       "    <tr>\n",
       "      <th>Customer Name</th>\n",
       "      <th>Category</th>\n",
       "      <th></th>\n",
       "    </tr>\n",
       "  </thead>\n",
       "  <tbody>\n",
       "    <tr>\n",
       "      <th>Sean Miller</th>\n",
       "      <th>Technology</th>\n",
       "      <td>23481.508</td>\n",
       "    </tr>\n",
       "    <tr>\n",
       "      <th>Tamara Chand</th>\n",
       "      <th>Technology</th>\n",
       "      <td>17997.950</td>\n",
       "    </tr>\n",
       "    <tr>\n",
       "      <th>Raymond Buch</th>\n",
       "      <th>Technology</th>\n",
       "      <td>14265.416</td>\n",
       "    </tr>\n",
       "    <tr>\n",
       "      <th>Tom Ashbrook</th>\n",
       "      <th>Technology</th>\n",
       "      <td>13709.958</td>\n",
       "    </tr>\n",
       "    <tr>\n",
       "      <th>Sanjit Chand</th>\n",
       "      <th>Office Supplies</th>\n",
       "      <td>12081.258</td>\n",
       "    </tr>\n",
       "    <tr>\n",
       "      <th>Hunter Lopez</th>\n",
       "      <th>Technology</th>\n",
       "      <td>11640.810</td>\n",
       "    </tr>\n",
       "    <tr>\n",
       "      <th>Adrian Barton</th>\n",
       "      <th>Office Supplies</th>\n",
       "      <td>11489.256</td>\n",
       "    </tr>\n",
       "    <tr>\n",
       "      <th>Christopher Conant</th>\n",
       "      <th>Technology</th>\n",
       "      <td>11322.318</td>\n",
       "    </tr>\n",
       "    <tr>\n",
       "      <th>Ken Lonsdale</th>\n",
       "      <th>Office Supplies</th>\n",
       "      <td>9654.950</td>\n",
       "    </tr>\n",
       "    <tr>\n",
       "      <th>Sanjit Engle</th>\n",
       "      <th>Technology</th>\n",
       "      <td>9330.000</td>\n",
       "    </tr>\n",
       "  </tbody>\n",
       "</table>\n",
       "</div>"
      ],
      "text/plain": [
       "                                        Sales\n",
       "Customer Name      Category                  \n",
       "Sean Miller        Technology       23481.508\n",
       "Tamara Chand       Technology       17997.950\n",
       "Raymond Buch       Technology       14265.416\n",
       "Tom Ashbrook       Technology       13709.958\n",
       "Sanjit Chand       Office Supplies  12081.258\n",
       "Hunter Lopez       Technology       11640.810\n",
       "Adrian Barton      Office Supplies  11489.256\n",
       "Christopher Conant Technology       11322.318\n",
       "Ken Lonsdale       Office Supplies   9654.950\n",
       "Sanjit Engle       Technology        9330.000"
      ]
     },
     "execution_count": 88,
     "metadata": {},
     "output_type": "execute_result"
    }
   ],
   "source": [
    "# Finally , will then view the most common bought categories of the top 10 buying customers\n",
    "total_sales_by_customer_category= df.groupby(['Customer Name', 'Category']).sum().sort_values(\"Sales\" , ascending= False)[[\"Sales\"]]\n",
    "top_10_Category= total_sales_by_customer_category.head(10)\n",
    "grouped_data_Category = top_10_Category.groupby('Category').sum()\n",
    "top_10_Category"
   ]
  },
  {
   "cell_type": "markdown",
   "id": "fbc178b4",
   "metadata": {},
   "source": [
    "->>  <span style=\"font-size:18pt;\">Most of the top buying customers are consumers , From New York , use standard class as ship mode and buy Technology products </span>\n",
    "\n",
    "**--> Recommendation: With this information, the store can create targeted marketing campaigns specifically designed for consumer customers in New York who are interested in technology products. This approach can lead to higher engagement and satisfied customers.**\n"
   ]
  },
  {
   "cell_type": "markdown",
   "id": "a1890226",
   "metadata": {},
   "source": [
    "# 16 . What do our worst-buying customers have in common?"
   ]
  },
  {
   "cell_type": "code",
   "execution_count": 94,
   "id": "3a130702",
   "metadata": {
    "scrolled": true
   },
   "outputs": [
    {
     "data": {
      "text/plain": [
       "Category\n",
       "Furniture          7\n",
       "Technology         7\n",
       "Office Supplies    6\n",
       "Name: count, dtype: int64"
      ]
     },
     "execution_count": 94,
     "metadata": {},
     "output_type": "execute_result"
    }
   ],
   "source": [
    "least_20_Category= total_sales_by_customer_category.tail(20)\n",
    "least_20_Category_counts= least_20_Category.index.get_level_values('Category').value_counts()\n",
    "least_20_Category_counts"
   ]
  },
  {
   "cell_type": "code",
   "execution_count": 96,
   "id": "d1beecb1",
   "metadata": {},
   "outputs": [
    {
     "data": {
      "text/plain": [
       "Segment\n",
       "Consumer       10\n",
       "Corporate       7\n",
       "Home Office     3\n",
       "Name: count, dtype: int64"
      ]
     },
     "execution_count": 96,
     "metadata": {},
     "output_type": "execute_result"
    }
   ],
   "source": [
    "least_20_Segment= total_sales_by_customer.tail(20)\n",
    "least_20_Segment_counts= least_20_Segment.index.get_level_values('Segment').value_counts()\n",
    "least_20_Segment_counts"
   ]
  },
  {
   "cell_type": "code",
   "execution_count": 97,
   "id": "0b137920",
   "metadata": {},
   "outputs": [
    {
     "data": {
      "text/plain": [
       "State\n",
       "Texas           9\n",
       "Florida         3\n",
       "Oregon          2\n",
       "Pennsylvania    2\n",
       "Illinois        2\n",
       "Arizona         1\n",
       "Colorado        1\n",
       "Name: count, dtype: int64"
      ]
     },
     "execution_count": 97,
     "metadata": {},
     "output_type": "execute_result"
    }
   ],
   "source": [
    "least_20_state= total_sales_by_customer_state.tail(20)\n",
    "least_20_state_counts= least_20_state.index.get_level_values('State').value_counts()\n",
    "least_20_state_counts"
   ]
  },
  {
   "cell_type": "code",
   "execution_count": 98,
   "id": "89b06c3a",
   "metadata": {},
   "outputs": [
    {
     "data": {
      "text/plain": [
       "Ship Mode\n",
       "First Class       8\n",
       "Same Day          7\n",
       "Standard Class    3\n",
       "Second Class      2\n",
       "Name: count, dtype: int64"
      ]
     },
     "execution_count": 98,
     "metadata": {},
     "output_type": "execute_result"
    }
   ],
   "source": [
    "least_20_shipmode= total_sales_by_customer_shipMode.tail(20)\n",
    "least_20_shipmode_counts= least_20_shipmode.index.get_level_values('Ship Mode').value_counts()\n",
    "least_20_shipmode_counts"
   ]
  },
  {
   "cell_type": "markdown",
   "id": "6ee20b70",
   "metadata": {},
   "source": [
    "->> <span style=\"font-size:18pt;\"> While the least buying customers are also consumers, from Texas , use First class as ship mode  and buy Furniture and Technology products </span>\n",
    "\n",
    "****Recommendation: by analyzing the purchasing behavior of the least buying customers this can help the store identify areas for improving the overall customer experience. By providing excellent service and addressing pain points to encourage repeated purchases. also , it is recommended to Engage with the least buying customers to allow the store to gather feedback and understand their expectations better.**"
   ]
  },
  {
   "cell_type": "markdown",
   "id": "c937e61d",
   "metadata": {},
   "source": [
    "# 17. How does sales change over time for each product?"
   ]
  },
  {
   "cell_type": "code",
   "execution_count": 186,
   "id": "6bfc4f7c",
   "metadata": {},
   "outputs": [
    {
     "data": {
      "image/png": "[encoded data removed]",
      "text/plain": [
       "<Figure size 700x300 with 1 Axes>"
      ]
     },
     "metadata": {},
     "output_type": "display_data"
    }
   ],
   "source": [
    "fig, ax = plt.subplots(figsize=(7, 3))\n",
    "\n",
    "categories = random_50_sorted['Category'].unique()\n",
    "\n",
    "for category in categories:\n",
    "    category_data = random_50_sorted[random_50_sorted['Category'] == category]\n",
    "    sns.lineplot(data=category_data, x='Order Date', y='Sales', marker='o', linestyle='-', label=category)\n"
   ]
  },
  {
   "cell_type": "markdown",
   "id": "d3ee5b52",
   "metadata": {},
   "source": [
    "->> <span style=\"font-size:18pt;\"> Technology witnessed a great increase between 2017 and 2018 while the rest of categories are somehow consistent compared to Technology sales </span>"
   ]
  },
  {
   "cell_type": "markdown",
   "id": "12f53b9f",
   "metadata": {},
   "source": [
    "# 18. What is the number of orders for each product versus its total contribution to sales?"
   ]
  },
  {
   "cell_type": "code",
   "execution_count": 171,
   "id": "780e1189",
   "metadata": {},
   "outputs": [
    {
     "data": {
      "text/plain": [
       "Category\n",
       "Furniture          1727\n",
       "Office Supplies    3676\n",
       "Technology         1519\n",
       "Name: Order ID, dtype: int64"
      ]
     },
     "execution_count": 171,
     "metadata": {},
     "output_type": "execute_result"
    }
   ],
   "source": [
    "category_orders = df.groupby('Category')['Order ID'].nunique()\n",
    "category_orders"
   ]
  },
  {
   "cell_type": "code",
   "execution_count": 172,
   "id": "6f3bc274",
   "metadata": {},
   "outputs": [
    {
     "data": {
      "text/plain": [
       "Category\n",
       "Furniture          728658.5757\n",
       "Office Supplies    705422.3340\n",
       "Technology         827455.8730\n",
       "Name: Sales, dtype: float64"
      ]
     },
     "execution_count": 172,
     "metadata": {},
     "output_type": "execute_result"
    }
   ],
   "source": [
    "category_sales = df.groupby('Category')['Sales'].sum()\n",
    "category_sales"
   ]
  },
  {
   "cell_type": "code",
   "execution_count": 184,
   "id": "f5988315",
   "metadata": {},
   "outputs": [
    {
     "data": {
      "image/png": "[encoded data removed]",
      "text/plain": [
       "<Figure size 700x300 with 2 Axes>"
      ]
     },
     "metadata": {},
     "output_type": "display_data"
    }
   ],
   "source": [
    "fig, axes = plt.subplots(nrows=1, ncols=2, figsize=(7, 3))\n",
    "axes[0].bar(category_orders.index, category_orders.values)\n",
    "axes[0].set_title('Number of Orders for Each Category')\n",
    "axes[1].bar(category_sales.index , category_sales.values)\n",
    "axes[1].set_title('Total Sales for Each Category')\n",
    "plt.tight_layout()\n",
    "plt.show()"
   ]
  },
  {
   "cell_type": "markdown",
   "id": "09fd9b94",
   "metadata": {},
   "source": [
    "->><span style=\"font-size:18pt;\"> Number of orders was the highest for office supplies. However, office supplies contributed to the lowest sales </span>"
   ]
  },
  {
   "cell_type": "markdown",
   "id": "4a7f37ce",
   "metadata": {},
   "source": [
    "# 19. How does sales change over time for each segment?"
   ]
  },
  {
   "cell_type": "code",
   "execution_count": 185,
   "id": "7102e713",
   "metadata": {},
   "outputs": [
    {
     "data": {
      "image/png": "[encoded data removed]",
      "text/plain": [
       "<Figure size 700x300 with 1 Axes>"
      ]
     },
     "metadata": {},
     "output_type": "display_data"
    }
   ],
   "source": [
    "fig, ax = plt.subplots(figsize=(7, 3))\n",
    "\n",
    "segments = random_50_sorted['Segment'].unique()\n",
    "\n",
    "for segment in segments:\n",
    "    segment_data = random_50_sorted[random_50_sorted['Segment'] == segment]\n",
    "    sns.lineplot(data=segment_data, x='Order Date', y='Sales', marker='o', linestyle='-', label=segment)\n"
   ]
  },
  {
   "cell_type": "markdown",
   "id": "43eb8c98",
   "metadata": {},
   "source": [
    "->> <span style=\"font-size:18pt;\"> sales witnessed a great increase for consumers and corporate customers between 2017 and 2018 </span>"
   ]
  },
  {
   "cell_type": "markdown",
   "id": "1a4af93f",
   "metadata": {},
   "source": [
    "# Removing Duplicates"
   ]
  },
  {
   "cell_type": "code",
   "execution_count": null,
   "id": "65b095b4",
   "metadata": {},
   "outputs": [
    {
     "data": {
      "text/plain": [
       "0"
      ]
     },
     "execution_count": 136,
     "metadata": {},
     "output_type": "execute_result"
    }
   ],
   "source": [
    "df.duplicated().sum()\n",
    "# no duplicated rows to remove"
   ]
  },
  {
   "cell_type": "markdown",
   "id": "980e2e78",
   "metadata": {},
   "source": [
    "# Encoding Categorical Variables"
   ]
  },
  {
   "cell_type": "code",
   "execution_count": 72,
   "id": "9f46916a",
   "metadata": {},
   "outputs": [
    {
     "data": {
      "text/html": [
       "<div>\n",
       "<style scoped>\n",
       "    .dataframe tbody tr th:only-of-type {\n",
       "        vertical-align: middle;\n",
       "    }\n",
       "\n",
       "    .dataframe tbody tr th {\n",
       "        vertical-align: top;\n",
       "    }\n",
       "\n",
       "    .dataframe thead th {\n",
       "        text-align: right;\n",
       "    }\n",
       "</style>\n",
       "<table border=\"1\" class=\"dataframe\">\n",
       "  <thead>\n",
       "    <tr style=\"text-align: right;\">\n",
       "      <th></th>\n",
       "      <th>Row ID</th>\n",
       "      <th>Order ID</th>\n",
       "      <th>Order Date</th>\n",
       "      <th>Ship Date</th>\n",
       "      <th>Ship Mode</th>\n",
       "      <th>Customer ID</th>\n",
       "      <th>Customer Name</th>\n",
       "      <th>Segment</th>\n",
       "      <th>Country</th>\n",
       "      <th>City</th>\n",
       "      <th>State</th>\n",
       "      <th>Postal Code</th>\n",
       "      <th>Region</th>\n",
       "      <th>Product ID</th>\n",
       "      <th>Category</th>\n",
       "      <th>Sub-Category</th>\n",
       "      <th>Product Name</th>\n",
       "      <th>Sales</th>\n",
       "      <th>Shipping Delay</th>\n",
       "    </tr>\n",
       "  </thead>\n",
       "  <tbody>\n",
       "    <tr>\n",
       "      <th>0</th>\n",
       "      <td>1</td>\n",
       "      <td>CA-2017-152156</td>\n",
       "      <td>2017-11-08</td>\n",
       "      <td>2017-11-11</td>\n",
       "      <td>1</td>\n",
       "      <td>CG-12520</td>\n",
       "      <td>Claire Gute</td>\n",
       "      <td>Consumer</td>\n",
       "      <td>United States</td>\n",
       "      <td>Henderson</td>\n",
       "      <td>Kentucky</td>\n",
       "      <td>42420.0</td>\n",
       "      <td>South</td>\n",
       "      <td>FUR-BO-10001798</td>\n",
       "      <td>Furniture</td>\n",
       "      <td>Bookcases</td>\n",
       "      <td>Bush Somerset Collection Bookcase</td>\n",
       "      <td>261.9600</td>\n",
       "      <td>3</td>\n",
       "    </tr>\n",
       "    <tr>\n",
       "      <th>1</th>\n",
       "      <td>2</td>\n",
       "      <td>CA-2017-152156</td>\n",
       "      <td>2017-11-08</td>\n",
       "      <td>2017-11-11</td>\n",
       "      <td>1</td>\n",
       "      <td>CG-12520</td>\n",
       "      <td>Claire Gute</td>\n",
       "      <td>Consumer</td>\n",
       "      <td>United States</td>\n",
       "      <td>Henderson</td>\n",
       "      <td>Kentucky</td>\n",
       "      <td>42420.0</td>\n",
       "      <td>South</td>\n",
       "      <td>FUR-CH-10000454</td>\n",
       "      <td>Furniture</td>\n",
       "      <td>Chairs</td>\n",
       "      <td>Hon Deluxe Fabric Upholstered Stacking Chairs,...</td>\n",
       "      <td>731.9400</td>\n",
       "      <td>3</td>\n",
       "    </tr>\n",
       "    <tr>\n",
       "      <th>2</th>\n",
       "      <td>3</td>\n",
       "      <td>CA-2017-138688</td>\n",
       "      <td>2017-06-12</td>\n",
       "      <td>2017-06-16</td>\n",
       "      <td>1</td>\n",
       "      <td>DV-13045</td>\n",
       "      <td>Darrin Van Huff</td>\n",
       "      <td>Corporate</td>\n",
       "      <td>United States</td>\n",
       "      <td>Los Angeles</td>\n",
       "      <td>California</td>\n",
       "      <td>90036.0</td>\n",
       "      <td>West</td>\n",
       "      <td>OFF-LA-10000240</td>\n",
       "      <td>Office Supplies</td>\n",
       "      <td>Labels</td>\n",
       "      <td>Self-Adhesive Address Labels for Typewriters b...</td>\n",
       "      <td>14.6200</td>\n",
       "      <td>4</td>\n",
       "    </tr>\n",
       "    <tr>\n",
       "      <th>3</th>\n",
       "      <td>4</td>\n",
       "      <td>US-2016-108966</td>\n",
       "      <td>2016-10-11</td>\n",
       "      <td>2016-10-18</td>\n",
       "      <td>0</td>\n",
       "      <td>SO-20335</td>\n",
       "      <td>Sean O'Donnell</td>\n",
       "      <td>Consumer</td>\n",
       "      <td>United States</td>\n",
       "      <td>Fort Lauderdale</td>\n",
       "      <td>Florida</td>\n",
       "      <td>33311.0</td>\n",
       "      <td>South</td>\n",
       "      <td>FUR-TA-10000577</td>\n",
       "      <td>Furniture</td>\n",
       "      <td>Tables</td>\n",
       "      <td>Bretford CR4500 Series Slim Rectangular Table</td>\n",
       "      <td>957.5775</td>\n",
       "      <td>7</td>\n",
       "    </tr>\n",
       "    <tr>\n",
       "      <th>4</th>\n",
       "      <td>5</td>\n",
       "      <td>US-2016-108966</td>\n",
       "      <td>2016-10-11</td>\n",
       "      <td>2016-10-18</td>\n",
       "      <td>0</td>\n",
       "      <td>SO-20335</td>\n",
       "      <td>Sean O'Donnell</td>\n",
       "      <td>Consumer</td>\n",
       "      <td>United States</td>\n",
       "      <td>Fort Lauderdale</td>\n",
       "      <td>Florida</td>\n",
       "      <td>33311.0</td>\n",
       "      <td>South</td>\n",
       "      <td>OFF-ST-10000760</td>\n",
       "      <td>Office Supplies</td>\n",
       "      <td>Storage</td>\n",
       "      <td>Eldon Fold 'N Roll Cart System</td>\n",
       "      <td>22.3680</td>\n",
       "      <td>7</td>\n",
       "    </tr>\n",
       "  </tbody>\n",
       "</table>\n",
       "</div>"
      ],
      "text/plain": [
       "   Row ID        Order ID Order Date  Ship Date  Ship Mode Customer ID   \n",
       "0       1  CA-2017-152156 2017-11-08 2017-11-11          1    CG-12520  \\\n",
       "1       2  CA-2017-152156 2017-11-08 2017-11-11          1    CG-12520   \n",
       "2       3  CA-2017-138688 2017-06-12 2017-06-16          1    DV-13045   \n",
       "3       4  US-2016-108966 2016-10-11 2016-10-18          0    SO-20335   \n",
       "4       5  US-2016-108966 2016-10-11 2016-10-18          0    SO-20335   \n",
       "\n",
       "     Customer Name    Segment        Country             City       State   \n",
       "0      Claire Gute   Consumer  United States        Henderson    Kentucky  \\\n",
       "1      Claire Gute   Consumer  United States        Henderson    Kentucky   \n",
       "2  Darrin Van Huff  Corporate  United States      Los Angeles  California   \n",
       "3   Sean O'Donnell   Consumer  United States  Fort Lauderdale     Florida   \n",
       "4   Sean O'Donnell   Consumer  United States  Fort Lauderdale     Florida   \n",
       "\n",
       "   Postal Code Region       Product ID         Category Sub-Category   \n",
       "0      42420.0  South  FUR-BO-10001798        Furniture    Bookcases  \\\n",
       "1      42420.0  South  FUR-CH-10000454        Furniture       Chairs   \n",
       "2      90036.0   West  OFF-LA-10000240  Office Supplies       Labels   \n",
       "3      33311.0  South  FUR-TA-10000577        Furniture       Tables   \n",
       "4      33311.0  South  OFF-ST-10000760  Office Supplies      Storage   \n",
       "\n",
       "                                        Product Name     Sales  Shipping Delay  \n",
       "0                  Bush Somerset Collection Bookcase  261.9600               3  \n",
       "1  Hon Deluxe Fabric Upholstered Stacking Chairs,...  731.9400               3  \n",
       "2  Self-Adhesive Address Labels for Typewriters b...   14.6200               4  \n",
       "3      Bretford CR4500 Series Slim Rectangular Table  957.5775               7  \n",
       "4                     Eldon Fold 'N Roll Cart System   22.3680               7  "
      ]
     },
     "execution_count": 72,
     "metadata": {},
     "output_type": "execute_result"
    }
   ],
   "source": [
    "df2['Ship Mode'].replace(\"Standard Class\" , 0 , inplace = True)\n",
    "df2['Ship Mode'].replace(\"Second Class\" , 1 , inplace = True)\n",
    "df2['Ship Mode'].replace(\"First Class\" , 2 , inplace = True)\n",
    "df2['Ship Mode'].replace(\"Same Day\" , 3 , inplace = True)\n",
    "df2.head()"
   ]
  },
  {
   "cell_type": "code",
   "execution_count": 73,
   "id": "4f4e6b2f",
   "metadata": {},
   "outputs": [
    {
     "data": {
      "text/plain": [
       "Segment\n",
       "Consumer       5101\n",
       "Corporate      2953\n",
       "Home Office    1746\n",
       "Name: count, dtype: int64"
      ]
     },
     "execution_count": 73,
     "metadata": {},
     "output_type": "execute_result"
    }
   ],
   "source": [
    "df2['Segment'].value_counts()"
   ]
  },
  {
   "cell_type": "code",
   "execution_count": 74,
   "id": "15418ca6",
   "metadata": {},
   "outputs": [
    {
     "data": {
      "text/html": [
       "<div>\n",
       "<style scoped>\n",
       "    .dataframe tbody tr th:only-of-type {\n",
       "        vertical-align: middle;\n",
       "    }\n",
       "\n",
       "    .dataframe tbody tr th {\n",
       "        vertical-align: top;\n",
       "    }\n",
       "\n",
       "    .dataframe thead th {\n",
       "        text-align: right;\n",
       "    }\n",
       "</style>\n",
       "<table border=\"1\" class=\"dataframe\">\n",
       "  <thead>\n",
       "    <tr style=\"text-align: right;\">\n",
       "      <th></th>\n",
       "      <th>Row ID</th>\n",
       "      <th>Order ID</th>\n",
       "      <th>Order Date</th>\n",
       "      <th>Ship Date</th>\n",
       "      <th>Ship Mode</th>\n",
       "      <th>Customer ID</th>\n",
       "      <th>Customer Name</th>\n",
       "      <th>Segment</th>\n",
       "      <th>Country</th>\n",
       "      <th>City</th>\n",
       "      <th>State</th>\n",
       "      <th>Postal Code</th>\n",
       "      <th>Region</th>\n",
       "      <th>Product ID</th>\n",
       "      <th>Category</th>\n",
       "      <th>Sub-Category</th>\n",
       "      <th>Product Name</th>\n",
       "      <th>Sales</th>\n",
       "      <th>Shipping Delay</th>\n",
       "    </tr>\n",
       "  </thead>\n",
       "  <tbody>\n",
       "    <tr>\n",
       "      <th>0</th>\n",
       "      <td>1</td>\n",
       "      <td>CA-2017-152156</td>\n",
       "      <td>2017-11-08</td>\n",
       "      <td>2017-11-11</td>\n",
       "      <td>1</td>\n",
       "      <td>CG-12520</td>\n",
       "      <td>Claire Gute</td>\n",
       "      <td>0</td>\n",
       "      <td>United States</td>\n",
       "      <td>Henderson</td>\n",
       "      <td>Kentucky</td>\n",
       "      <td>42420.0</td>\n",
       "      <td>South</td>\n",
       "      <td>FUR-BO-10001798</td>\n",
       "      <td>Furniture</td>\n",
       "      <td>Bookcases</td>\n",
       "      <td>Bush Somerset Collection Bookcase</td>\n",
       "      <td>261.9600</td>\n",
       "      <td>3</td>\n",
       "    </tr>\n",
       "    <tr>\n",
       "      <th>1</th>\n",
       "      <td>2</td>\n",
       "      <td>CA-2017-152156</td>\n",
       "      <td>2017-11-08</td>\n",
       "      <td>2017-11-11</td>\n",
       "      <td>1</td>\n",
       "      <td>CG-12520</td>\n",
       "      <td>Claire Gute</td>\n",
       "      <td>0</td>\n",
       "      <td>United States</td>\n",
       "      <td>Henderson</td>\n",
       "      <td>Kentucky</td>\n",
       "      <td>42420.0</td>\n",
       "      <td>South</td>\n",
       "      <td>FUR-CH-10000454</td>\n",
       "      <td>Furniture</td>\n",
       "      <td>Chairs</td>\n",
       "      <td>Hon Deluxe Fabric Upholstered Stacking Chairs,...</td>\n",
       "      <td>731.9400</td>\n",
       "      <td>3</td>\n",
       "    </tr>\n",
       "    <tr>\n",
       "      <th>2</th>\n",
       "      <td>3</td>\n",
       "      <td>CA-2017-138688</td>\n",
       "      <td>2017-06-12</td>\n",
       "      <td>2017-06-16</td>\n",
       "      <td>1</td>\n",
       "      <td>DV-13045</td>\n",
       "      <td>Darrin Van Huff</td>\n",
       "      <td>1</td>\n",
       "      <td>United States</td>\n",
       "      <td>Los Angeles</td>\n",
       "      <td>California</td>\n",
       "      <td>90036.0</td>\n",
       "      <td>West</td>\n",
       "      <td>OFF-LA-10000240</td>\n",
       "      <td>Office Supplies</td>\n",
       "      <td>Labels</td>\n",
       "      <td>Self-Adhesive Address Labels for Typewriters b...</td>\n",
       "      <td>14.6200</td>\n",
       "      <td>4</td>\n",
       "    </tr>\n",
       "    <tr>\n",
       "      <th>3</th>\n",
       "      <td>4</td>\n",
       "      <td>US-2016-108966</td>\n",
       "      <td>2016-10-11</td>\n",
       "      <td>2016-10-18</td>\n",
       "      <td>0</td>\n",
       "      <td>SO-20335</td>\n",
       "      <td>Sean O'Donnell</td>\n",
       "      <td>0</td>\n",
       "      <td>United States</td>\n",
       "      <td>Fort Lauderdale</td>\n",
       "      <td>Florida</td>\n",
       "      <td>33311.0</td>\n",
       "      <td>South</td>\n",
       "      <td>FUR-TA-10000577</td>\n",
       "      <td>Furniture</td>\n",
       "      <td>Tables</td>\n",
       "      <td>Bretford CR4500 Series Slim Rectangular Table</td>\n",
       "      <td>957.5775</td>\n",
       "      <td>7</td>\n",
       "    </tr>\n",
       "    <tr>\n",
       "      <th>4</th>\n",
       "      <td>5</td>\n",
       "      <td>US-2016-108966</td>\n",
       "      <td>2016-10-11</td>\n",
       "      <td>2016-10-18</td>\n",
       "      <td>0</td>\n",
       "      <td>SO-20335</td>\n",
       "      <td>Sean O'Donnell</td>\n",
       "      <td>0</td>\n",
       "      <td>United States</td>\n",
       "      <td>Fort Lauderdale</td>\n",
       "      <td>Florida</td>\n",
       "      <td>33311.0</td>\n",
       "      <td>South</td>\n",
       "      <td>OFF-ST-10000760</td>\n",
       "      <td>Office Supplies</td>\n",
       "      <td>Storage</td>\n",
       "      <td>Eldon Fold 'N Roll Cart System</td>\n",
       "      <td>22.3680</td>\n",
       "      <td>7</td>\n",
       "    </tr>\n",
       "  </tbody>\n",
       "</table>\n",
       "</div>"
      ],
      "text/plain": [
       "   Row ID        Order ID Order Date  Ship Date  Ship Mode Customer ID   \n",
       "0       1  CA-2017-152156 2017-11-08 2017-11-11          1    CG-12520  \\\n",
       "1       2  CA-2017-152156 2017-11-08 2017-11-11          1    CG-12520   \n",
       "2       3  CA-2017-138688 2017-06-12 2017-06-16          1    DV-13045   \n",
       "3       4  US-2016-108966 2016-10-11 2016-10-18          0    SO-20335   \n",
       "4       5  US-2016-108966 2016-10-11 2016-10-18          0    SO-20335   \n",
       "\n",
       "     Customer Name  Segment        Country             City       State   \n",
       "0      Claire Gute        0  United States        Henderson    Kentucky  \\\n",
       "1      Claire Gute        0  United States        Henderson    Kentucky   \n",
       "2  Darrin Van Huff        1  United States      Los Angeles  California   \n",
       "3   Sean O'Donnell        0  United States  Fort Lauderdale     Florida   \n",
       "4   Sean O'Donnell        0  United States  Fort Lauderdale     Florida   \n",
       "\n",
       "   Postal Code Region       Product ID         Category Sub-Category   \n",
       "0      42420.0  South  FUR-BO-10001798        Furniture    Bookcases  \\\n",
       "1      42420.0  South  FUR-CH-10000454        Furniture       Chairs   \n",
       "2      90036.0   West  OFF-LA-10000240  Office Supplies       Labels   \n",
       "3      33311.0  South  FUR-TA-10000577        Furniture       Tables   \n",
       "4      33311.0  South  OFF-ST-10000760  Office Supplies      Storage   \n",
       "\n",
       "                                        Product Name     Sales  Shipping Delay  \n",
       "0                  Bush Somerset Collection Bookcase  261.9600               3  \n",
       "1  Hon Deluxe Fabric Upholstered Stacking Chairs,...  731.9400               3  \n",
       "2  Self-Adhesive Address Labels for Typewriters b...   14.6200               4  \n",
       "3      Bretford CR4500 Series Slim Rectangular Table  957.5775               7  \n",
       "4                     Eldon Fold 'N Roll Cart System   22.3680               7  "
      ]
     },
     "execution_count": 74,
     "metadata": {},
     "output_type": "execute_result"
    }
   ],
   "source": [
    "df2['Segment'].replace(\"Consumer\" , 0 , inplace = True)\n",
    "df2['Segment'].replace(\"Corporate\" , 1 , inplace = True)\n",
    "df2['Segment'].replace(\"Home Office\" , 2 , inplace = True)\n",
    "df2.head()"
   ]
  },
  {
   "cell_type": "code",
   "execution_count": 75,
   "id": "89a843e4",
   "metadata": {},
   "outputs": [
    {
     "data": {
      "text/plain": [
       "Category\n",
       "Office Supplies    5909\n",
       "Furniture          2078\n",
       "Technology         1813\n",
       "Name: count, dtype: int64"
      ]
     },
     "execution_count": 75,
     "metadata": {},
     "output_type": "execute_result"
    }
   ],
   "source": [
    "df2['Category'].value_counts()"
   ]
  },
  {
   "cell_type": "code",
   "execution_count": 76,
   "id": "3a4260a5",
   "metadata": {},
   "outputs": [
    {
     "data": {
      "text/plain": [
       "['Row ID',\n",
       " 'Order ID',\n",
       " 'Order Date',\n",
       " 'Ship Date',\n",
       " 'Ship Mode',\n",
       " 'Customer ID',\n",
       " 'Customer Name',\n",
       " 'Segment',\n",
       " 'Country',\n",
       " 'City',\n",
       " 'State',\n",
       " 'Postal Code',\n",
       " 'Region',\n",
       " 'Product ID',\n",
       " 'Category',\n",
       " 'Sub-Category',\n",
       " 'Product Name',\n",
       " 'Sales']"
      ]
     },
     "execution_count": 76,
     "metadata": {},
     "output_type": "execute_result"
    }
   ],
   "source": [
    "df.columns.to_list()"
   ]
  },
  {
   "cell_type": "code",
   "execution_count": 77,
   "id": "c37882df",
   "metadata": {},
   "outputs": [
    {
     "data": {
      "text/html": [
       "<div>\n",
       "<style scoped>\n",
       "    .dataframe tbody tr th:only-of-type {\n",
       "        vertical-align: middle;\n",
       "    }\n",
       "\n",
       "    .dataframe tbody tr th {\n",
       "        vertical-align: top;\n",
       "    }\n",
       "\n",
       "    .dataframe thead th {\n",
       "        text-align: right;\n",
       "    }\n",
       "</style>\n",
       "<table border=\"1\" class=\"dataframe\">\n",
       "  <thead>\n",
       "    <tr style=\"text-align: right;\">\n",
       "      <th></th>\n",
       "      <th>Row ID</th>\n",
       "      <th>Order ID</th>\n",
       "      <th>Order Date</th>\n",
       "      <th>Ship Date</th>\n",
       "      <th>Ship Mode</th>\n",
       "      <th>Customer ID</th>\n",
       "      <th>Customer Name</th>\n",
       "      <th>Segment</th>\n",
       "      <th>Country</th>\n",
       "      <th>City</th>\n",
       "      <th>State</th>\n",
       "      <th>Postal Code</th>\n",
       "      <th>Region</th>\n",
       "      <th>Product ID</th>\n",
       "      <th>Category</th>\n",
       "      <th>Sub-Category</th>\n",
       "      <th>Product Name</th>\n",
       "      <th>Sales</th>\n",
       "      <th>Shipping Delay</th>\n",
       "    </tr>\n",
       "  </thead>\n",
       "  <tbody>\n",
       "    <tr>\n",
       "      <th>0</th>\n",
       "      <td>1</td>\n",
       "      <td>CA-2017-152156</td>\n",
       "      <td>2017-11-08</td>\n",
       "      <td>2017-11-11</td>\n",
       "      <td>1</td>\n",
       "      <td>CG-12520</td>\n",
       "      <td>Claire Gute</td>\n",
       "      <td>0</td>\n",
       "      <td>United States</td>\n",
       "      <td>Henderson</td>\n",
       "      <td>Kentucky</td>\n",
       "      <td>42420.0</td>\n",
       "      <td>South</td>\n",
       "      <td>FUR-BO-10001798</td>\n",
       "      <td>1</td>\n",
       "      <td>Bookcases</td>\n",
       "      <td>Bush Somerset Collection Bookcase</td>\n",
       "      <td>261.9600</td>\n",
       "      <td>3</td>\n",
       "    </tr>\n",
       "    <tr>\n",
       "      <th>1</th>\n",
       "      <td>2</td>\n",
       "      <td>CA-2017-152156</td>\n",
       "      <td>2017-11-08</td>\n",
       "      <td>2017-11-11</td>\n",
       "      <td>1</td>\n",
       "      <td>CG-12520</td>\n",
       "      <td>Claire Gute</td>\n",
       "      <td>0</td>\n",
       "      <td>United States</td>\n",
       "      <td>Henderson</td>\n",
       "      <td>Kentucky</td>\n",
       "      <td>42420.0</td>\n",
       "      <td>South</td>\n",
       "      <td>FUR-CH-10000454</td>\n",
       "      <td>1</td>\n",
       "      <td>Chairs</td>\n",
       "      <td>Hon Deluxe Fabric Upholstered Stacking Chairs,...</td>\n",
       "      <td>731.9400</td>\n",
       "      <td>3</td>\n",
       "    </tr>\n",
       "    <tr>\n",
       "      <th>2</th>\n",
       "      <td>3</td>\n",
       "      <td>CA-2017-138688</td>\n",
       "      <td>2017-06-12</td>\n",
       "      <td>2017-06-16</td>\n",
       "      <td>1</td>\n",
       "      <td>DV-13045</td>\n",
       "      <td>Darrin Van Huff</td>\n",
       "      <td>1</td>\n",
       "      <td>United States</td>\n",
       "      <td>Los Angeles</td>\n",
       "      <td>California</td>\n",
       "      <td>90036.0</td>\n",
       "      <td>West</td>\n",
       "      <td>OFF-LA-10000240</td>\n",
       "      <td>0</td>\n",
       "      <td>Labels</td>\n",
       "      <td>Self-Adhesive Address Labels for Typewriters b...</td>\n",
       "      <td>14.6200</td>\n",
       "      <td>4</td>\n",
       "    </tr>\n",
       "    <tr>\n",
       "      <th>3</th>\n",
       "      <td>4</td>\n",
       "      <td>US-2016-108966</td>\n",
       "      <td>2016-10-11</td>\n",
       "      <td>2016-10-18</td>\n",
       "      <td>0</td>\n",
       "      <td>SO-20335</td>\n",
       "      <td>Sean O'Donnell</td>\n",
       "      <td>0</td>\n",
       "      <td>United States</td>\n",
       "      <td>Fort Lauderdale</td>\n",
       "      <td>Florida</td>\n",
       "      <td>33311.0</td>\n",
       "      <td>South</td>\n",
       "      <td>FUR-TA-10000577</td>\n",
       "      <td>1</td>\n",
       "      <td>Tables</td>\n",
       "      <td>Bretford CR4500 Series Slim Rectangular Table</td>\n",
       "      <td>957.5775</td>\n",
       "      <td>7</td>\n",
       "    </tr>\n",
       "    <tr>\n",
       "      <th>4</th>\n",
       "      <td>5</td>\n",
       "      <td>US-2016-108966</td>\n",
       "      <td>2016-10-11</td>\n",
       "      <td>2016-10-18</td>\n",
       "      <td>0</td>\n",
       "      <td>SO-20335</td>\n",
       "      <td>Sean O'Donnell</td>\n",
       "      <td>0</td>\n",
       "      <td>United States</td>\n",
       "      <td>Fort Lauderdale</td>\n",
       "      <td>Florida</td>\n",
       "      <td>33311.0</td>\n",
       "      <td>South</td>\n",
       "      <td>OFF-ST-10000760</td>\n",
       "      <td>0</td>\n",
       "      <td>Storage</td>\n",
       "      <td>Eldon Fold 'N Roll Cart System</td>\n",
       "      <td>22.3680</td>\n",
       "      <td>7</td>\n",
       "    </tr>\n",
       "  </tbody>\n",
       "</table>\n",
       "</div>"
      ],
      "text/plain": [
       "   Row ID        Order ID Order Date  Ship Date  Ship Mode Customer ID   \n",
       "0       1  CA-2017-152156 2017-11-08 2017-11-11          1    CG-12520  \\\n",
       "1       2  CA-2017-152156 2017-11-08 2017-11-11          1    CG-12520   \n",
       "2       3  CA-2017-138688 2017-06-12 2017-06-16          1    DV-13045   \n",
       "3       4  US-2016-108966 2016-10-11 2016-10-18          0    SO-20335   \n",
       "4       5  US-2016-108966 2016-10-11 2016-10-18          0    SO-20335   \n",
       "\n",
       "     Customer Name  Segment        Country             City       State   \n",
       "0      Claire Gute        0  United States        Henderson    Kentucky  \\\n",
       "1      Claire Gute        0  United States        Henderson    Kentucky   \n",
       "2  Darrin Van Huff        1  United States      Los Angeles  California   \n",
       "3   Sean O'Donnell        0  United States  Fort Lauderdale     Florida   \n",
       "4   Sean O'Donnell        0  United States  Fort Lauderdale     Florida   \n",
       "\n",
       "   Postal Code Region       Product ID  Category Sub-Category   \n",
       "0      42420.0  South  FUR-BO-10001798         1    Bookcases  \\\n",
       "1      42420.0  South  FUR-CH-10000454         1       Chairs   \n",
       "2      90036.0   West  OFF-LA-10000240         0       Labels   \n",
       "3      33311.0  South  FUR-TA-10000577         1       Tables   \n",
       "4      33311.0  South  OFF-ST-10000760         0      Storage   \n",
       "\n",
       "                                        Product Name     Sales  Shipping Delay  \n",
       "0                  Bush Somerset Collection Bookcase  261.9600               3  \n",
       "1  Hon Deluxe Fabric Upholstered Stacking Chairs,...  731.9400               3  \n",
       "2  Self-Adhesive Address Labels for Typewriters b...   14.6200               4  \n",
       "3      Bretford CR4500 Series Slim Rectangular Table  957.5775               7  \n",
       "4                     Eldon Fold 'N Roll Cart System   22.3680               7  "
      ]
     },
     "execution_count": 77,
     "metadata": {},
     "output_type": "execute_result"
    }
   ],
   "source": [
    "df2['Category'].replace(\"Office Supplies\" , 0 , inplace = True)\n",
    "df2['Category'].replace(\"Furniture\" , 1 , inplace = True)\n",
    "df2['Category'].replace(\"Technology\" , 2 , inplace = True)\n",
    "df2.head()"
   ]
  },
  {
   "cell_type": "markdown",
   "id": "defb8f7d",
   "metadata": {},
   "source": [
    "# Removing useless columns to decrease computation"
   ]
  },
  {
   "cell_type": "code",
   "execution_count": 228,
   "id": "02633dbf",
   "metadata": {},
   "outputs": [],
   "source": [
    "df2.drop(columns=['Row ID'], inplace=True)"
   ]
  },
  {
   "cell_type": "code",
   "execution_count": 229,
   "id": "9127e3f7",
   "metadata": {},
   "outputs": [
    {
     "data": {
      "text/html": [
       "<div>\n",
       "<style scoped>\n",
       "    .dataframe tbody tr th:only-of-type {\n",
       "        vertical-align: middle;\n",
       "    }\n",
       "\n",
       "    .dataframe tbody tr th {\n",
       "        vertical-align: top;\n",
       "    }\n",
       "\n",
       "    .dataframe thead th {\n",
       "        text-align: right;\n",
       "    }\n",
       "</style>\n",
       "<table border=\"1\" class=\"dataframe\">\n",
       "  <thead>\n",
       "    <tr style=\"text-align: right;\">\n",
       "      <th></th>\n",
       "      <th>Order ID</th>\n",
       "      <th>Order Date</th>\n",
       "      <th>Ship Date</th>\n",
       "      <th>Ship Mode</th>\n",
       "      <th>Customer ID</th>\n",
       "      <th>Customer Name</th>\n",
       "      <th>Segment</th>\n",
       "      <th>Country</th>\n",
       "      <th>City</th>\n",
       "      <th>State</th>\n",
       "      <th>Postal Code</th>\n",
       "      <th>Region</th>\n",
       "      <th>Product ID</th>\n",
       "      <th>Category</th>\n",
       "      <th>Sub-Category</th>\n",
       "      <th>Product Name</th>\n",
       "      <th>Sales</th>\n",
       "    </tr>\n",
       "  </thead>\n",
       "  <tbody>\n",
       "    <tr>\n",
       "      <th>0</th>\n",
       "      <td>CA-2017-152156</td>\n",
       "      <td>08/11/2017</td>\n",
       "      <td>11/11/2017</td>\n",
       "      <td>Second Class</td>\n",
       "      <td>CG-12520</td>\n",
       "      <td>Claire Gute</td>\n",
       "      <td>Consumer</td>\n",
       "      <td>United States</td>\n",
       "      <td>Henderson</td>\n",
       "      <td>Kentucky</td>\n",
       "      <td>42420.0</td>\n",
       "      <td>South</td>\n",
       "      <td>FUR-BO-10001798</td>\n",
       "      <td>Furniture</td>\n",
       "      <td>Bookcases</td>\n",
       "      <td>Bush Somerset Collection Bookcase</td>\n",
       "      <td>261.9600</td>\n",
       "    </tr>\n",
       "    <tr>\n",
       "      <th>1</th>\n",
       "      <td>CA-2017-152156</td>\n",
       "      <td>08/11/2017</td>\n",
       "      <td>11/11/2017</td>\n",
       "      <td>Second Class</td>\n",
       "      <td>CG-12520</td>\n",
       "      <td>Claire Gute</td>\n",
       "      <td>Consumer</td>\n",
       "      <td>United States</td>\n",
       "      <td>Henderson</td>\n",
       "      <td>Kentucky</td>\n",
       "      <td>42420.0</td>\n",
       "      <td>South</td>\n",
       "      <td>FUR-CH-10000454</td>\n",
       "      <td>Furniture</td>\n",
       "      <td>Chairs</td>\n",
       "      <td>Hon Deluxe Fabric Upholstered Stacking Chairs,...</td>\n",
       "      <td>731.9400</td>\n",
       "    </tr>\n",
       "    <tr>\n",
       "      <th>2</th>\n",
       "      <td>CA-2017-138688</td>\n",
       "      <td>12/06/2017</td>\n",
       "      <td>16/06/2017</td>\n",
       "      <td>Second Class</td>\n",
       "      <td>DV-13045</td>\n",
       "      <td>Darrin Van Huff</td>\n",
       "      <td>Corporate</td>\n",
       "      <td>United States</td>\n",
       "      <td>Los Angeles</td>\n",
       "      <td>California</td>\n",
       "      <td>90036.0</td>\n",
       "      <td>West</td>\n",
       "      <td>OFF-LA-10000240</td>\n",
       "      <td>Office Supplies</td>\n",
       "      <td>Labels</td>\n",
       "      <td>Self-Adhesive Address Labels for Typewriters b...</td>\n",
       "      <td>14.6200</td>\n",
       "    </tr>\n",
       "    <tr>\n",
       "      <th>3</th>\n",
       "      <td>US-2016-108966</td>\n",
       "      <td>11/10/2016</td>\n",
       "      <td>18/10/2016</td>\n",
       "      <td>Standard Class</td>\n",
       "      <td>SO-20335</td>\n",
       "      <td>Sean O'Donnell</td>\n",
       "      <td>Consumer</td>\n",
       "      <td>United States</td>\n",
       "      <td>Fort Lauderdale</td>\n",
       "      <td>Florida</td>\n",
       "      <td>33311.0</td>\n",
       "      <td>South</td>\n",
       "      <td>FUR-TA-10000577</td>\n",
       "      <td>Furniture</td>\n",
       "      <td>Tables</td>\n",
       "      <td>Bretford CR4500 Series Slim Rectangular Table</td>\n",
       "      <td>957.5775</td>\n",
       "    </tr>\n",
       "    <tr>\n",
       "      <th>4</th>\n",
       "      <td>US-2016-108966</td>\n",
       "      <td>11/10/2016</td>\n",
       "      <td>18/10/2016</td>\n",
       "      <td>Standard Class</td>\n",
       "      <td>SO-20335</td>\n",
       "      <td>Sean O'Donnell</td>\n",
       "      <td>Consumer</td>\n",
       "      <td>United States</td>\n",
       "      <td>Fort Lauderdale</td>\n",
       "      <td>Florida</td>\n",
       "      <td>33311.0</td>\n",
       "      <td>South</td>\n",
       "      <td>OFF-ST-10000760</td>\n",
       "      <td>Office Supplies</td>\n",
       "      <td>Storage</td>\n",
       "      <td>Eldon Fold 'N Roll Cart System</td>\n",
       "      <td>22.3680</td>\n",
       "    </tr>\n",
       "  </tbody>\n",
       "</table>\n",
       "</div>"
      ],
      "text/plain": [
       "         Order ID  Order Date   Ship Date       Ship Mode Customer ID   \n",
       "0  CA-2017-152156  08/11/2017  11/11/2017    Second Class    CG-12520  \\\n",
       "1  CA-2017-152156  08/11/2017  11/11/2017    Second Class    CG-12520   \n",
       "2  CA-2017-138688  12/06/2017  16/06/2017    Second Class    DV-13045   \n",
       "3  US-2016-108966  11/10/2016  18/10/2016  Standard Class    SO-20335   \n",
       "4  US-2016-108966  11/10/2016  18/10/2016  Standard Class    SO-20335   \n",
       "\n",
       "     Customer Name    Segment        Country             City       State   \n",
       "0      Claire Gute   Consumer  United States        Henderson    Kentucky  \\\n",
       "1      Claire Gute   Consumer  United States        Henderson    Kentucky   \n",
       "2  Darrin Van Huff  Corporate  United States      Los Angeles  California   \n",
       "3   Sean O'Donnell   Consumer  United States  Fort Lauderdale     Florida   \n",
       "4   Sean O'Donnell   Consumer  United States  Fort Lauderdale     Florida   \n",
       "\n",
       "   Postal Code Region       Product ID         Category Sub-Category   \n",
       "0      42420.0  South  FUR-BO-10001798        Furniture    Bookcases  \\\n",
       "1      42420.0  South  FUR-CH-10000454        Furniture       Chairs   \n",
       "2      90036.0   West  OFF-LA-10000240  Office Supplies       Labels   \n",
       "3      33311.0  South  FUR-TA-10000577        Furniture       Tables   \n",
       "4      33311.0  South  OFF-ST-10000760  Office Supplies      Storage   \n",
       "\n",
       "                                        Product Name     Sales  \n",
       "0                  Bush Somerset Collection Bookcase  261.9600  \n",
       "1  Hon Deluxe Fabric Upholstered Stacking Chairs,...  731.9400  \n",
       "2  Self-Adhesive Address Labels for Typewriters b...   14.6200  \n",
       "3      Bretford CR4500 Series Slim Rectangular Table  957.5775  \n",
       "4                     Eldon Fold 'N Roll Cart System   22.3680  "
      ]
     },
     "execution_count": 229,
     "metadata": {},
     "output_type": "execute_result"
    }
   ],
   "source": [
    "df2.head()"
   ]
  },
  {
   "cell_type": "code",
   "execution_count": null,
   "id": "d077c8a7",
   "metadata": {},
   "outputs": [],
   "source": []
  }
 ],
 "metadata": {
  "kernelspec": {
   "display_name": "Python 3 (ipykernel)",
   "language": "python",
   "name": "python3"
  },
  "language_info": {
   "codemirror_mode": {
    "name": "ipython",
    "version": 3
   },
   "file_extension": ".py",
   "mimetype": "text/x-python",
   "name": "python",
   "nbconvert_exporter": "python",
   "pygments_lexer": "ipython3",
   "version": "3.9.17"
  }
 },
 "nbformat": 4,
 "nbformat_minor": 5
}
